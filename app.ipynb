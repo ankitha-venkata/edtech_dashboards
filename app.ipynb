{
  "nbformat": 4,
  "nbformat_minor": 0,
  "metadata": {
    "colab": {
      "provenance": [],
      "collapsed_sections": [
        "IXvfZfxiqIXh",
        "lGUdkmBAlsnH",
        "Vcc-dzY9l4kn",
        "D7YrDPLrl47a",
        "bar7LVnRnyEV",
        "o77tadGeueGp",
        "_xs-c0PTumuh",
        "r92ql9guXaUu",
        "eNZ1HsXJGUqS",
        "2M8eSPAPzEjW",
        "WIrvNx1G10z3"
      ]
    },
    "kernelspec": {
      "name": "ir",
      "display_name": "R"
    },
    "language_info": {
      "name": "R"
    }
  },
  "cells": [
    {
      "cell_type": "markdown",
      "source": [
        "# Installation and global calculations\n"
      ],
      "metadata": {
        "id": "IXvfZfxiqIXh"
      }
    },
    {
      "cell_type": "markdown",
      "source": [
        "Install and call the necessary packages"
      ],
      "metadata": {
        "id": "I2kTpTv-qAyd"
      }
    },
    {
      "cell_type": "code",
      "source": [
        "install.packages('shiny')\n",
        "install.packages('shinydashboard')\n",
        "install.packages('dplyr')"
      ],
      "metadata": {
        "colab": {
          "base_uri": "https://localhost:8080/"
        },
        "id": "TPs8N5_Pm0CG",
        "outputId": "4b9d4274-2f3f-4ff6-e119-23b76f21407e"
      },
      "execution_count": null,
      "outputs": [
        {
          "output_type": "stream",
          "name": "stderr",
          "text": [
            "Installing package into ‘/usr/local/lib/R/site-library’\n",
            "(as ‘lib’ is unspecified)\n",
            "\n",
            "Warning message in install.packages(\"shiny\"):\n",
            "“installation of package ‘shiny’ had non-zero exit status”\n",
            "Installing package into ‘/usr/local/lib/R/site-library’\n",
            "(as ‘lib’ is unspecified)\n",
            "\n",
            "also installing the dependency ‘shiny’\n",
            "\n",
            "\n",
            "Installing package into ‘/usr/local/lib/R/site-library’\n",
            "(as ‘lib’ is unspecified)\n",
            "\n"
          ]
        }
      ]
    },
    {
      "cell_type": "code",
      "source": [
        "library(shiny)\n",
        "library(shinydashboard)\n",
        "library(dplyr)"
      ],
      "metadata": {
        "id": "cluEmexcpaH0"
      },
      "execution_count": null,
      "outputs": []
    },
    {
      "cell_type": "markdown",
      "source": [
        "Import mock data files"
      ],
      "metadata": {
        "id": "UjAcKI1gq2Ql"
      }
    },
    {
      "cell_type": "code",
      "source": [
        "QuizResponseInput<- read.csv(file=\"/StudentsQuizResponses.csv\",header=TRUE,sep=\",\",fileEncoding = \"UTF-8\")\n",
        "LearningSessions<- read.csv(file=\"/LearningSessions.csv\",header=TRUE,sep=\",\",fileEncoding = \"UTF-8\")\n",
        "Attendance<-read.csv(file=\"/Attendance.csv\",header=TRUE,sep=\",\",fileEncoding = \"UTF-8\")"
      ],
      "metadata": {
        "id": "5J4VmZM2q4Td"
      },
      "execution_count": null,
      "outputs": []
    },
    {
      "cell_type": "markdown",
      "source": [
        "Define list of Section IDs"
      ],
      "metadata": {
        "id": "Enao1wFersI0"
      }
    },
    {
      "cell_type": "code",
      "source": [
        "SectionIDs<-c(\"Select\",\"1A\",\"1B\",\"2A\",\"2B\",\"3A\",\"3B\",\"4A\",\"4B\",\"5A\",\"5B\")"
      ],
      "metadata": {
        "id": "Hcoh43NTr3hs"
      },
      "execution_count": null,
      "outputs": []
    },
    {
      "cell_type": "markdown",
      "source": [
        "QuizScore function calculates the score for each quiz taken by a student based on the number of correct, incorrect and unanswered questions in the Quiz Response input file"
      ],
      "metadata": {
        "id": "YU6UlzHmssq7"
      }
    },
    {
      "cell_type": "code",
      "source": [
        "QuizScore <- function(TotalScore,row,QuizResponseInput,QuizID,SubjectID,StudentName,StudentID,SectionID,QuizStartTime,QuizEndTime,StudentEasyScore,StudentMediumScore,StudentDifficultScore,StudentKnowledgeScore,StudentApplicationScore,StudentAnalysisScore,StudentComprehensionScore,StudentTopic1Score,StudentTopic2Score,StudentTopic3Score){\n",
        "  i <- which (colnames(QuizResponseInput)==\"Q1\")\n",
        "  FirstAns<-i\n",
        "  LastAns<-i+19\n",
        "\n",
        "  StudentCorrect=0\n",
        "  StudentIncorrect=0\n",
        "  StudentUnanswered=0\n",
        "\n",
        "  for (k in FirstAns:LastAns){\n",
        "    if (QuizResponseInput[row,k]==\"C\"){\n",
        "      StudentCorrect = StudentCorrect + 1\n",
        "    }\n",
        "    else if (QuizResponseInput[row,k]==\"IC\"){\n",
        "      StudentIncorrect = StudentIncorrect + 1\n",
        "    }\n",
        "    else if (QuizResponseInput[row,k]==\"0\"){\n",
        "      StudentUnanswered = StudentUnanswered + 1\n",
        "    }\n",
        "    else {\n",
        "      print(\"Answer not found\")\n",
        "    }\n",
        "  }\n",
        "\n",
        "  StudentQuizScore <- 100*StudentCorrect/20\n",
        "\n",
        "  if(nrow(TotalScore)==0){\n",
        "    TotalScore[1,]<-c(QuizStartTime,QuizEndTime,QuizID,SubjectID,StudentID,SectionID,StudentQuizScore,StudentCorrect,StudentIncorrect,StudentUnanswered,StudentEasyScore,StudentMediumScore,StudentDifficultScore,StudentAnalysisScore,StudentApplicationScore,StudentComprehensionScore,StudentKnowledgeScore,StudentTopic1Score,StudentTopic2Score,StudentTopic3Score)\n",
        "  }\n",
        "  else{\n",
        "    TotalScore[nrow(TotalScore)+1,]<-c(QuizStartTime,QuizEndTime,QuizID,SubjectID,StudentID,SectionID,StudentQuizScore,StudentCorrect,StudentIncorrect,StudentUnanswered,StudentEasyScore,StudentMediumScore,StudentDifficultScore,StudentAnalysisScore,StudentApplicationScore,StudentComprehensionScore,StudentKnowledgeScore,StudentTopic1Score,StudentTopic2Score,StudentTopic3Score)\n",
        "  }\n",
        "  return(TotalScore)\n",
        "}"
      ],
      "metadata": {
        "id": "KFR0Liuss53o"
      },
      "execution_count": null,
      "outputs": []
    },
    {
      "cell_type": "markdown",
      "source": [
        "ScoreCompilation function compiles each quiz score into one data frame"
      ],
      "metadata": {
        "id": "TouX0vx1tD1e"
      }
    },
    {
      "cell_type": "code",
      "source": [
        "ScoreCompilation <- function(QuizResponseInput){\n",
        "\n",
        "  TotalScore<-data.frame(QuizStartTime=character(0),QuizEndTime=character(0),QuizID=character(0),SubjectID=character(0),StudentID=character(0),SectionID=character(0),StudentQuizScore=numeric(0),StudentCorrect=integer(0),StudentIncorrect=integer(0),StudentUnanswered=integer(0),StudentEasyScore=numeric(0),StudentMediumScore=numeric(0),StudentDifficultScore=numeric(0),StudentAnalysisScore=numeric(0),StudentApplicationScore=numeric(0),StudentComprehensionScore=numeric(0),StudentKnowledgeScore=numeric(0),StudentTopic1Score=numeric(0), StudentTopic2Score=numeric(0),StudentTopic3Score=numeric(0),stringsAsFactors = FALSE)\n",
        "\n",
        "  for (row in 1:(nrow(QuizResponseInput))){\n",
        "\n",
        "    SessionQuizID <- QuizResponseInput [row,\"QuizID\"]\n",
        "    SessionQuizID <- as.character(SessionQuizID)\n",
        "    SubjectID <- QuizResponseInput[row,\"SubjectID\"]\n",
        "    SubjectID <- as.character(SubjectID)\n",
        "    StudentName <- QuizResponseInput[row,\"StudentName\"]\n",
        "    StudentName <- as.character(StudentName)\n",
        "    StudentID <- QuizResponseInput[row,\"StudentID\"]\n",
        "    StudentID <- as.character(StudentID)\n",
        "    SectionID <- QuizResponseInput[row,\"StudentSection\"]\n",
        "    SectionID <- as.character(SectionID)\n",
        "    QuizStartTime <- QuizResponseInput[row,\"QuizStartTime\"]\n",
        "    QuizStartTime <- as.character(QuizStartTime)\n",
        "    QuizEndTime <- QuizResponseInput[row,\"QuizEndTime\"]\n",
        "    QuizEndTime <- as.character(QuizEndTime)\n",
        "    StudentEasyScore <- QuizResponseInput[row,\"StudentEasyScore\"]\n",
        "    StudentMediumScore <- QuizResponseInput[row,\"StudentMediumScore\"]\n",
        "    StudentDifficultScore <- QuizResponseInput[row,\"StudentDifficultScore\"]\n",
        "    StudentKnowledgeScore <- QuizResponseInput[row,\"StudentKnowledgeScore\"]\n",
        "    StudentApplicationScore <- QuizResponseInput[row,\"StudentApplicationScore\"]\n",
        "    StudentAnalysisScore <- QuizResponseInput[row,\"StudentAnalysisScore\"]\n",
        "    StudentComprehensionScore <- QuizResponseInput[row,\"StudentComprehensionScore\"]\n",
        "    StudentTopic1Score <- QuizResponseInput[row,\"StudentTopic1Score\"]\n",
        "    StudentTopic2Score <- QuizResponseInput[row,\"StudentTopic2Score\"]\n",
        "    StudentTopic3Score <- QuizResponseInput[row,\"StudentTopic3Score\"]\n",
        "\n",
        "    TotalScore<-QuizScore(TotalScore,row,QuizResponseInput,SessionQuizID,SubjectID,StudentName,StudentID,SectionID,QuizStartTime,QuizEndTime,StudentEasyScore,StudentMediumScore,StudentDifficultScore,StudentKnowledgeScore,StudentApplicationScore,StudentAnalysisScore,StudentComprehensionScore,StudentTopic1Score,StudentTopic2Score,StudentTopic3Score)\n",
        "  }\n",
        "  return (TotalScore)\n",
        "}\n"
      ],
      "metadata": {
        "id": "lMV_JTUhtFp5"
      },
      "execution_count": null,
      "outputs": []
    },
    {
      "cell_type": "markdown",
      "source": [
        "Total Score is a Data frame containing a record for the quiz scores of each quiz taken.  This is used in most of the functions given below."
      ],
      "metadata": {
        "id": "bly6kidTtIx2"
      }
    },
    {
      "cell_type": "code",
      "source": [
        "TotalScore<-ScoreCompilation(QuizResponseInput)"
      ],
      "metadata": {
        "id": "kEUYUaC4tLQR"
      },
      "execution_count": null,
      "outputs": []
    },
    {
      "cell_type": "markdown",
      "source": [
        "View first 10 rows of the TotalScore data frame"
      ],
      "metadata": {
        "id": "1HE3VuSiqp0v"
      }
    },
    {
      "cell_type": "code",
      "source": [
        "print(TotalScore[1:10,])"
      ],
      "metadata": {
        "id": "GzF1cc6jeCOs",
        "colab": {
          "base_uri": "https://localhost:8080/"
        },
        "outputId": "c95ce01f-b2a2-401a-eb4c-5308cc0a5419"
      },
      "execution_count": null,
      "outputs": [
        {
          "output_type": "stream",
          "name": "stdout",
          "text": [
            "   QuizStartTime QuizEndTime QuizID SubjectID StudentID SectionID\n",
            "1          Week3       Week3  EOSQ1         1         4        4A\n",
            "2          Week5       Week5  EOSQ1         1         2        4A\n",
            "3          Week7       Week7  EOSQ1         1         5        4A\n",
            "4          Week1       Week1  EOSQ5         1         4        5B\n",
            "5          Week4       Week4  EOSQ5         1        12        5B\n",
            "6          Week4       Week4  EOSQ5         1         2        5B\n",
            "7          Week5       Week5  EOSQ4         2         1        5A\n",
            "8          Week5       Week5  EOSQ4         2         3        5A\n",
            "9          Week5       Week5  EOSQ4         2         2        5A\n",
            "10         Week5       Week5  EOSQ4         2        15        5B\n",
            "   StudentQuizScore StudentCorrect StudentIncorrect StudentUnanswered\n",
            "1                85             17                1                 2\n",
            "2                80             16                2                 2\n",
            "3                80             16                2                 2\n",
            "4                90             18                1                 1\n",
            "5                80             16                3                 1\n",
            "6                85             17                2                 1\n",
            "7                85             17                1                 2\n",
            "8                70             14                2                 4\n",
            "9                80             16                1                 3\n",
            "10               60             12                4                 4\n",
            "   StudentEasyScore StudentMediumScore StudentDifficultScore\n",
            "1                83               97.4                    81\n",
            "2                66                9.2                  28.1\n",
            "3              17.1               69.8                  81.2\n",
            "4              75.5               37.2                  93.8\n",
            "5              25.9               23.4                  12.8\n",
            "6              68.6               67.4                   100\n",
            "7               9.2                5.9                  68.9\n",
            "8              42.1               45.3                  78.6\n",
            "9              68.3               66.2                  82.9\n",
            "10                6               64.9                  26.4\n",
            "   StudentAnalysisScore StudentApplicationScore StudentComprehensionScore\n",
            "1                   1.2                    65.8                      97.7\n",
            "2                  22.8                      66                        92\n",
            "3                  88.8                    61.6                      53.2\n",
            "4                  49.7                     100                      34.1\n",
            "5                  29.9                    10.1                      65.5\n",
            "6                   0.1                    76.5                      56.6\n",
            "7                  44.7                    27.5                        35\n",
            "8                     5                    90.5                       2.2\n",
            "9                  13.3                    65.9                      53.9\n",
            "10                 44.6                    77.6                       2.8\n",
            "   StudentKnowledgeScore StudentTopic1Score StudentTopic2Score\n",
            "1                   87.5               36.1                0.3\n",
            "2                   94.1               92.7               56.6\n",
            "3                     95                7.6                 50\n",
            "4                   74.4               89.2               31.4\n",
            "5                   58.9               74.9               16.7\n",
            "6                    8.8               63.6               11.8\n",
            "7                   17.2               20.6               69.6\n",
            "8                     42               50.1               98.2\n",
            "9                   26.8               88.7                 46\n",
            "10                  69.7               24.8               42.3\n",
            "   StudentTopic3Score\n",
            "1                22.6\n",
            "2                   5\n",
            "3                  90\n",
            "4                37.8\n",
            "5                11.2\n",
            "6                93.1\n",
            "7                50.7\n",
            "8                29.8\n",
            "9                43.2\n",
            "10               10.7\n"
          ]
        }
      ]
    },
    {
      "cell_type": "markdown",
      "source": [
        "# Functions required for specific reports"
      ],
      "metadata": {
        "id": "-ssTYd-6tnjI"
      }
    },
    {
      "cell_type": "markdown",
      "source": [
        "# SR1: Student - Quiz Summary"
      ],
      "metadata": {
        "id": "lGUdkmBAlsnH"
      }
    },
    {
      "cell_type": "markdown",
      "source": [
        "**SR1 Function #1**"
      ],
      "metadata": {
        "id": "aJXiJiQupZvR"
      }
    },
    {
      "cell_type": "markdown",
      "source": [
        "SR1_PR1_TR1_GetStudentQuizList displays a list of the quizzes taken by an individual student in a particular subject - used in SR1, PR1, TR1\n",
        "\n",
        "\n",
        "\n",
        "```\n",
        "Step 1. Finds quiz scores corresponding to the selected student\n",
        "Step 2. Returns a list of the quizzes taken by the student\n",
        "```\n",
        "\n"
      ],
      "metadata": {
        "id": "KbksjXLitrmk"
      }
    },
    {
      "cell_type": "code",
      "source": [
        "SR1_PR1_TR1_GetStudentQuizList<- function(TotalScore,StudentID,SectionID,SubjectID){\n",
        "  StudentID<-as.numeric(StudentID)\n",
        "  SectionID<-as.character(SectionID)\n",
        "  SubjectID<-as.numeric(SubjectID)\n",
        "  StudentsQuizzes<-TotalScore[which(TotalScore$StudentID==StudentID & TotalScore$SectionID==SectionID & TotalScore$SubjectID==SubjectID),]\n",
        "\n",
        "  list=as.list(StudentsQuizzes)\n",
        "\n",
        "  StudentQuizID<-list$QuizID\n",
        "  return(StudentQuizID)\n",
        "}"
      ],
      "metadata": {
        "id": "vm0DtU9Vt16w"
      },
      "execution_count": null,
      "outputs": []
    },
    {
      "cell_type": "markdown",
      "source": [
        "Test it out"
      ],
      "metadata": {
        "id": "gDr2TSV-gh7v"
      }
    },
    {
      "cell_type": "code",
      "source": [
        "SR1_PR1_TR1_GetStudentQuizList(TotalScore,\"20\",\"3A\",\"1\")"
      ],
      "metadata": {
        "id": "X9JuPS1ogXQj"
      },
      "execution_count": null,
      "outputs": []
    },
    {
      "cell_type": "markdown",
      "source": [
        "**SR1 Function #2**\n"
      ],
      "metadata": {
        "id": "kqp8YfCCpcq5"
      }
    },
    {
      "cell_type": "markdown",
      "source": [
        "\n",
        "SR1_PR1_TR1_StudentQuizScore displays the Score of a student in a particular quiz - used in SR1, PR1, TR1\n",
        "\n",
        "\n",
        "\n",
        "```\n",
        "Step 1. Finds quiz details corresponding to the student and quiz selected\n",
        "Step 2. Returns the corresponding quiz score\n",
        "```\n",
        "\n"
      ],
      "metadata": {
        "id": "5g4LOgHjuJok"
      }
    },
    {
      "cell_type": "code",
      "source": [
        "SR1_PR1_TR1_StudentQuizScore<-function(TotalScore,StudentID,SectionID,SubjectID,QuizID){\n",
        "  StudentID<-as.numeric(StudentID)\n",
        "  SubjectID<-as.numeric(SubjectID)\n",
        "  StudentQuizScore<-TotalScore[which(TotalScore$StudentID==StudentID & TotalScore$SectionID==SectionID & TotalScore$SubjectID==SubjectID & TotalScore$QuizID==QuizID),]\n",
        "  QuizScore<-data.frame(\n",
        "    \"Score\" = (StudentQuizScore$StudentQuizScore)\n",
        "  )\n",
        "  return (QuizScore)\n",
        "}"
      ],
      "metadata": {
        "id": "LkH-V7whuSq4"
      },
      "execution_count": null,
      "outputs": []
    },
    {
      "cell_type": "markdown",
      "source": [
        "Test it out"
      ],
      "metadata": {
        "id": "VkDlGN3wm75B"
      }
    },
    {
      "cell_type": "code",
      "source": [
        "StudentsQuizScore<-SR1_PR1_TR1_StudentQuizScore (TotalScore,\"20\",\"3A\",\"1\",\"EOSQ1\")\n",
        "print(StudentsQuizScore)"
      ],
      "metadata": {
        "id": "CLxi_7arm9Ou"
      },
      "execution_count": null,
      "outputs": []
    },
    {
      "cell_type": "markdown",
      "source": [
        "**SR1 Function #3**"
      ],
      "metadata": {
        "id": "hAUD20dzp1VB"
      }
    },
    {
      "cell_type": "markdown",
      "source": [
        "SR1_PR1_TR1_StudentAnswerBreakdown Displays a breakdown of the Score of a student in a particular quiz by showing the number of questions answered correctly, answered incorrectly and unanswered - used in SR1, PR1, TR1\n",
        "\n",
        "\n",
        "\n",
        "```\n",
        "1. Finds quiz details corresponding to the student and quiz selected\n",
        "2. Returns the score in terms of Correct Questions, Incorrect Questions, Unanswered Questions\n",
        "```\n",
        "\n"
      ],
      "metadata": {
        "id": "P3urPTO2uvus"
      }
    },
    {
      "cell_type": "code",
      "source": [
        "SR1_PR1_TR1_StudentAnswerBreakdown<-function(TotalScore,StudentID,SectionID,SubjectID,QuizID){\n",
        "  StudentID<-as.numeric(StudentID)\n",
        "  SubjectID<-as.numeric(SubjectID)\n",
        "  StudentQuizScore<-TotalScore[which(TotalScore$StudentID==StudentID & TotalScore$SectionID==SectionID & TotalScore$SubjectID==SubjectID & TotalScore$QuizID==QuizID),]\n",
        "  StudentCorrect<-StudentQuizScore[1,\"StudentCorrect\"]\n",
        "  StudentIncorrect<-StudentQuizScore[1,\"StudentIncorrect\"]\n",
        "  StudentUnanswered<-StudentQuizScore[1,\"StudentUnanswered\"]\n",
        "  StudentAnswerBreakdown<-data.frame( \"Correct\"=StudentCorrect,\"Incorrect\"=StudentIncorrect,\"Unanswered\"=StudentUnanswered\n",
        "  )\n",
        "  return (StudentAnswerBreakdown)\n",
        "}"
      ],
      "metadata": {
        "id": "dlOwx-b-vBN6"
      },
      "execution_count": null,
      "outputs": []
    },
    {
      "cell_type": "markdown",
      "source": [
        "Test it out"
      ],
      "metadata": {
        "id": "1C9TMpykogCQ"
      }
    },
    {
      "cell_type": "code",
      "source": [
        "StudentAnswerBreakdown<-SR1_PR1_TR1_StudentAnswerBreakdown(TotalScore,\"20\",\"3A\",\"1\",\"EOSQ1\")\n",
        "print(StudentAnswerBreakdown)"
      ],
      "metadata": {
        "colab": {
          "base_uri": "https://localhost:8080/"
        },
        "id": "8WVN6oLIohRm",
        "outputId": "f976c40e-9205-4415-e96a-e72fb88357a7"
      },
      "execution_count": null,
      "outputs": [
        {
          "output_type": "stream",
          "name": "stdout",
          "text": [
            "  Correct Incorrect Unanswered\n",
            "1      12         6          2\n"
          ]
        }
      ]
    },
    {
      "cell_type": "markdown",
      "source": [
        "**SR1 Function #4**"
      ],
      "metadata": {
        "id": "2L6w4uBvnPcj"
      }
    },
    {
      "cell_type": "markdown",
      "source": [
        "SR1_PR1_TR1_StudentTopicBreakdown Displays a breakdown of the Score of a student in a particular quiz based on the topic of the questions - used in SR1, PR1, TR1\n",
        "\n",
        "\n",
        "```\n",
        "1. Finds quiz details corresponding to the student and quiz selected\n",
        "2. Returns the score received by a student in each topic included in the quiz\n",
        "```\n",
        "\n",
        "\n"
      ],
      "metadata": {
        "id": "6nmKRV42vFF_"
      }
    },
    {
      "cell_type": "code",
      "source": [
        "SR1_PR1_TR1_StudentTopicBreakdown<-function(TotalScore,StudentID,SectionID,SubjectID,QuizID){\n",
        "  StudentID<-as.numeric(StudentID)\n",
        "  SubjectID<-as.numeric(SubjectID)\n",
        "  StudentQuizScore<-TotalScore[which(TotalScore$StudentID==StudentID & TotalScore$SectionID==SectionID & TotalScore$SubjectID==SubjectID & TotalScore$QuizID==QuizID),]\n",
        "\n",
        "  StudentTopic1Score<-StudentQuizScore$StudentTopic1Score\n",
        "  StudentTopic2Score<-StudentQuizScore$StudentTopic2Score\n",
        "  StudentTopic3Score<-StudentQuizScore$StudentTopic3Score\n",
        "  StudentTopicBreakdown<-data.frame( \"Topic1\"=StudentTopic1Score,\"Topic2\"=StudentTopic2Score,\"Topic3\"=StudentTopic1Score\n",
        "  )\n",
        "  return (StudentTopicBreakdown)\n",
        "}"
      ],
      "metadata": {
        "id": "ci8aI_ZxvJU_"
      },
      "execution_count": null,
      "outputs": []
    },
    {
      "cell_type": "markdown",
      "source": [
        "Test it out"
      ],
      "metadata": {
        "id": "wF994MWapAaQ"
      }
    },
    {
      "cell_type": "code",
      "source": [
        "StudentTopicBreakdown<-SR1_PR1_TR1_StudentTopicBreakdown(TotalScore,\"20\",\"3A\",\"1\",\"EOSQ1\")\n",
        "print(StudentTopicBreakdown)"
      ],
      "metadata": {
        "id": "wZ-0IluNpAIV"
      },
      "execution_count": null,
      "outputs": []
    },
    {
      "cell_type": "markdown",
      "source": [
        "# SR2: Student - General Progress Summary"
      ],
      "metadata": {
        "id": "Vcc-dzY9l4kn"
      }
    },
    {
      "cell_type": "markdown",
      "source": [
        "**SR2 Function #1**"
      ],
      "metadata": {
        "id": "XmEmt5SlFZE-"
      }
    },
    {
      "cell_type": "markdown",
      "source": [
        "SR2_PR2_StudentTotalTimeSpentLearning Displays the total amount of time spent learning all the subjects by a particular student - used in SR2, PR2\n",
        "\n",
        "\n",
        "```\n",
        "Step 1. Checks Learning Sessions data to find sessions corresponding to the student selected\n",
        "Step 2a. If student has no corresponding record, \"No learning sessions found\" is output\n",
        "Step 2b. If student has corresponding learning session records, the minutes spent learning are summed up by the week in which the session took place\n",
        "```\n",
        "\n"
      ],
      "metadata": {
        "id": "cRRkTbIYwTsS"
      }
    },
    {
      "cell_type": "code",
      "source": [
        "SR2_PR2_StudentTotalTimeSpentLearning <- function(LearningSessions,StudentID,SectionID){\n",
        "\n",
        "  StudentID<-as.numeric(StudentID)\n",
        "  StudentLearningSessions<-LearningSessions[which(LearningSessions$StudentID==StudentID & LearningSessions$SectionID==SectionID),]\n",
        "  if (nrow(StudentLearningSessions)==0){\n",
        "    StudentWeeklyLearningSessionMinutes<-\"No Learning Sessions found\"\n",
        "  }\n",
        "  if (nrow(StudentLearningSessions)>0){\n",
        "  StudentLearningSessions$MinutesSpentLearning<-as.numeric(StudentLearningSessions$MinutesSpentLearning)\n",
        "  StudentWeeklyLearningSessionMinutes<-setNames(aggregate(StudentLearningSessions$MinutesSpentLearning, by=list(Week=StudentLearningSessions$LearningSessionStartTime), FUN=sum),c(\"Week\",\"Minutes\"))\n",
        "  }\n",
        "  return(StudentWeeklyLearningSessionMinutes)\n",
        "}"
      ],
      "metadata": {
        "id": "4yBGEQHcwWsU"
      },
      "execution_count": null,
      "outputs": []
    },
    {
      "cell_type": "markdown",
      "source": [
        "Test it out"
      ],
      "metadata": {
        "id": "ovGsirMxrkjN"
      }
    },
    {
      "cell_type": "code",
      "source": [
        "TimeSpent<-SR2_PR2_StudentTotalTimeSpentLearning(LearningSessions,\"15\",\"3A\")\n",
        "print(TimeSpent)"
      ],
      "metadata": {
        "id": "bolzJJg2rloB"
      },
      "execution_count": null,
      "outputs": []
    },
    {
      "cell_type": "markdown",
      "source": [
        "**SR2 Function #2**"
      ],
      "metadata": {
        "id": "mqHFcWz9jTSx"
      }
    },
    {
      "cell_type": "markdown",
      "source": [
        "SR2_PR2_SubjectWiseProgress Displays the average score and number of chapters covered i.e number of EOSQs taken by a student in each subject - used in SR2, PR2\n",
        "\n",
        "\n",
        "```\n",
        "Step 1. Finds the Quiz Scores corresponding to the student selected\n",
        "Step 2. Filters the Quiz Scores by subject and finds the average score in that subject\n",
        "Step 3. Counts the number of quizzes taken by a student in a subject\n",
        "Step 4. As each quiz covers one chapter it returns the number of chapters covered, as a fraction of the total number of chapters (10)\n",
        "```\n",
        "\n"
      ],
      "metadata": {
        "id": "GTSuS5Ifwt9Y"
      }
    },
    {
      "cell_type": "code",
      "source": [
        "SR2_PR2_SubjectWiseProgress <- function(TotalScore,StudentID,SectionID){\n",
        "\n",
        "  frac<-\"/\"\n",
        "  NumberOfChapters<-10\n",
        "\n",
        "  StudentID<-as.numeric(StudentID)\n",
        "  QuizScores<-TotalScore[which(TotalScore$StudentID==StudentID & TotalScore$SectionID==SectionID),]\n",
        "\n",
        "  MathQuizScores<-QuizScores[which(QuizScores$SubjectID==\"1\"),]\n",
        "  MathQuizScores$StudentQuizScore<-as.numeric(MathQuizScores$StudentQuizScore)\n",
        "  MathAverageScore<-mean(MathQuizScores$StudentQuizScore)\n",
        "  MathChapters<-nrow(MathQuizScores)\n",
        "  MathChapters<-as.character(MathChapters)\n",
        "  MathChaptersProgress<-paste(MathChapters,frac,NumberOfChapters)\n",
        "  if (nrow(MathQuizScores)==0){\n",
        "    MathAverageScore=0\n",
        "    MathChapters<-0\n",
        "    MathChaptersProgress<-paste(MathChapters,frac,NumberOfChapters)\n",
        "  }\n",
        "\n",
        "  EnglishQuizScores<-QuizScores[which(QuizScores$SubjectID==\"2\"),]\n",
        "  EnglishQuizScores$StudentQuizScore<-as.numeric(EnglishQuizScores$StudentQuizScore)\n",
        "  EnglishAverageScore<-mean(EnglishQuizScores$StudentQuizScore)\n",
        "  EnglishChapters<-nrow(EnglishQuizScores)\n",
        "  EnglishChapters<-as.character(EnglishChapters)\n",
        "  EnglishChaptersProgress<-paste(EnglishChapters,frac,NumberOfChapters)\n",
        "  if (nrow(EnglishQuizScores)==0){\n",
        "    EnglishAverageScore=0\n",
        "    EnglishChapters<-0\n",
        "    EnglishChaptersProgress<-paste(EnglishChapters,frac,NumberOfChapters)\n",
        "  }\n",
        "\n",
        "  ScienceQuizScores<-QuizScores[which(QuizScores$SubjectID==\"3\"),]\n",
        "  ScienceQuizScores$StudentQuizScore<-as.numeric(ScienceQuizScores$StudentQuizScore)\n",
        "  ScienceAverageScore<-mean(ScienceQuizScores$StudentQuizScore)\n",
        "  ScienceChapters<-nrow(ScienceQuizScores)\n",
        "  ScienceChapters<-as.character(ScienceChapters)\n",
        "  ScienceChaptersProgress<-paste(ScienceChapters,frac,NumberOfChapters)\n",
        "  if (nrow(ScienceQuizScores)==0){\n",
        "    ScienceAverageScore=0\n",
        "    ScienceChapters<-0\n",
        "    ScienceChaptersProgress<-paste(ScienceChapters,frac,NumberOfChapters)\n",
        "  }\n",
        "\n",
        "  Subjects=c(\"Math\",\"English\",\"Science\")\n",
        "  AverageScores=c(MathAverageScore,EnglishAverageScore,ScienceAverageScore)\n",
        "  ChapterProgress=c(MathChaptersProgress,EnglishChaptersProgress,ScienceChaptersProgress)\n",
        "\n",
        "  Progress<-data.frame(\"Subject\"=Subjects,\"Score\"=AverageScores,\"Chapters\"=ChapterProgress)\n",
        "\n",
        "  return (Progress)\n",
        "}"
      ],
      "metadata": {
        "id": "UB_sxRYLwxdc"
      },
      "execution_count": null,
      "outputs": []
    },
    {
      "cell_type": "markdown",
      "source": [
        "Test it out"
      ],
      "metadata": {
        "id": "NxQ68-CEixeS"
      }
    },
    {
      "cell_type": "code",
      "source": [
        "Progress<-SR2_PR2_SubjectWiseProgress(TotalScore,\"20\",\"3A\")\n",
        "print(Progress)"
      ],
      "metadata": {
        "colab": {
          "base_uri": "https://localhost:8080/"
        },
        "id": "Gl7PbeAqiy3g",
        "outputId": "ed5aae2c-cdbb-44bc-fd22-a65b15c5aaeb"
      },
      "execution_count": null,
      "outputs": [
        {
          "output_type": "stream",
          "name": "stdout",
          "text": [
            "  Subject Score Chapters\n",
            "1    Math 73.75   4 / 10\n",
            "2 English 70.00   3 / 10\n",
            "3 Science 85.00   1 / 10\n"
          ]
        }
      ]
    },
    {
      "cell_type": "markdown",
      "source": [
        "**SR2 Function #3**"
      ],
      "metadata": {
        "id": "CU7H9O2WjcgH"
      }
    },
    {
      "cell_type": "markdown",
      "source": [
        "SR2_PR2_OverallTopics calculates the score received in each topic of each subject - used in functions being called in SR2, PR2\n",
        "(Ideally it should be a monthly score but due to the mock data limitation, data has not been filtered by month)\n",
        "\n",
        "\n",
        "```\n",
        "Step 1. Finds quiz scores corresponding to the student\n",
        "Step 2. For each topic in each subject, finds the average score in that subject topic\n",
        "Step 3. Returns a data frame of the topics and their respective topic scores\n",
        "```\n",
        "\n",
        "\n"
      ],
      "metadata": {
        "id": "m3DvzKEIw-45"
      }
    },
    {
      "cell_type": "code",
      "source": [
        "SR2_PR2_OverallTopics<-function(TotalScore,StudentID,SectionID){\n",
        "\n",
        "  StudentID<-as.numeric(StudentID)\n",
        "  UnsortedQuizScores<-TotalScore[which(TotalScore$StudentID==StudentID & TotalScore$SectionID==SectionID),]\n",
        "  QuizScores<-UnsortedQuizScores[order(UnsortedQuizScores$StudentQuizScore,decreasing=TRUE),]\n",
        "\n",
        "  MathQuizScores<-QuizScores[which(QuizScores$SubjectID==\"1\"),]\n",
        "  MathQuizScores$StudentTopic1Score<-as.numeric(MathQuizScores$StudentTopic1Score)\n",
        "  MathQuizScores$StudentTopic2Score<-as.numeric(MathQuizScores$StudentTopic2Score)\n",
        "  MathQuizScores$StudentTopic3Score<-as.numeric(MathQuizScores$StudentTopic3Score)\n",
        "  MathTopic1Score<-mean(MathQuizScores$StudentTopic1Score)\n",
        "  MathTopic2Score<-mean(MathQuizScores$StudentTopic2Score)\n",
        "  MathTopic3Score<-mean(MathQuizScores$StudentTopic3Score)\n",
        "\n",
        "  EnglishQuizScores<-QuizScores[which(QuizScores$SubjectID==\"2\"),]\n",
        "  EnglishQuizScores$StudentTopic1Score<-as.numeric(EnglishQuizScores$StudentTopic1Score)\n",
        "  EnglishQuizScores$StudentTopic2Score<-as.numeric(EnglishQuizScores$StudentTopic2Score)\n",
        "  EnglishQuizScores$StudentTopic3Score<-as.numeric(EnglishQuizScores$StudentTopic3Score)\n",
        "  EnglishTopic1Score<-mean(EnglishQuizScores$StudentTopic1Score)\n",
        "  EnglishTopic2Score<-mean(EnglishQuizScores$StudentTopic2Score)\n",
        "  EnglishTopic3Score<-mean(EnglishQuizScores$StudentTopic3Score)\n",
        "\n",
        "  ScienceQuizScores<-QuizScores[which(QuizScores$SubjectID==\"3\"),]\n",
        "  ScienceQuizScores$StudentTopic1Score<-as.numeric(ScienceQuizScores$StudentTopic1Score)\n",
        "  ScienceQuizScores$StudentTopic2Score<-as.numeric(ScienceQuizScores$StudentTopic2Score)\n",
        "  ScienceQuizScores$StudentTopic3Score<-as.numeric(ScienceQuizScores$StudentTopic3Score)\n",
        "  ScienceTopic1Score<-mean(ScienceQuizScores$StudentTopic1Score)\n",
        "  ScienceTopic2Score<-mean(ScienceQuizScores$StudentTopic2Score)\n",
        "  ScienceTopic3Score<-mean(ScienceQuizScores$StudentTopic3Score)\n",
        "\n",
        "  Topics<-c(\"MathTopic1\",\"MathTopic2\",\"MathTopic3\",\"EnglishTopic1\",\"EnglishTopic2\",\"EnglishTopic3\",\"ScienceTopic1\",\"ScienceTopic2\",\"ScienceTopic3\")\n",
        "  TopicScores<-c(MathTopic1Score,MathTopic2Score,MathTopic3Score,EnglishTopic1Score,EnglishTopic2Score,EnglishTopic3Score,ScienceTopic1Score,ScienceTopic2Score,ScienceTopic3Score)\n",
        "\n",
        "  TopicScoresdf<-data.frame(\"Topics\"=Topics,\"Scores\"=TopicScores)\n",
        "\n",
        "  return(TopicScoresdf)\n",
        "}"
      ],
      "metadata": {
        "id": "J5D0KhWMxJmo"
      },
      "execution_count": null,
      "outputs": []
    },
    {
      "cell_type": "markdown",
      "source": [
        "Test it out"
      ],
      "metadata": {
        "id": "6WWQrfZ_lj37"
      }
    },
    {
      "cell_type": "code",
      "source": [
        "TopicScores<-SR2_PR2_OverallTopics(TotalScore,\"20\",\"3A\")\n",
        "print(TopicScores)"
      ],
      "metadata": {
        "id": "cAkSdDcCllCw"
      },
      "execution_count": null,
      "outputs": []
    },
    {
      "cell_type": "markdown",
      "source": [
        "**SR2 Function #4**"
      ],
      "metadata": {
        "id": "GkYyL-5gmyyh"
      }
    },
    {
      "cell_type": "markdown",
      "source": [
        "SR2_PR2_GoodTopic Calculates the top 3 topics across all subjects that a student has performed well in - used in SR2, PR2\n",
        "\n",
        "\n",
        "```\n",
        "Step 1. Calls the previous function (SR2_PR2_OverallTopics) which returns a dataframe of the student's average score in each topic\n",
        "Step 2. Arranges dataframe in ascending order\n",
        "Step 3. Top 3 rows i.e top 3 topics are extracted as the student's best topics\n",
        "```\n",
        "\n"
      ],
      "metadata": {
        "id": "OjXlwHtoxQUp"
      }
    },
    {
      "cell_type": "code",
      "source": [
        "SR2_PR2_GoodTopics<-function(TotalScore,StudentID,SubjectID){\n",
        "  TopicScoresdf<-SR2_PR2_OverallTopics(TotalScore,\"15\",\"3A\")\n",
        "  DescSortedTopicScores<- TopicScoresdf[order(TopicScoresdf$Scores,decreasing=TRUE),]\n",
        "  GoodTopics<-DescSortedTopicScores[1:3,]\n",
        "  return(GoodTopics)\n",
        "}"
      ],
      "metadata": {
        "id": "5EKwl4WaxTdb"
      },
      "execution_count": null,
      "outputs": []
    },
    {
      "cell_type": "markdown",
      "source": [
        "Test it out"
      ],
      "metadata": {
        "id": "n4KXTFHRmaJ1"
      }
    },
    {
      "cell_type": "code",
      "source": [
        "GoodTopics<-SR2_PR2_GoodTopics(TotalScore,\"20\",\"3A\")\n",
        "print(GoodTopics)"
      ],
      "metadata": {
        "id": "QYqkg_h6ma0E"
      },
      "execution_count": null,
      "outputs": []
    },
    {
      "cell_type": "markdown",
      "source": [
        "**SR2 Function #5**"
      ],
      "metadata": {
        "id": "0qF1hjefm934"
      }
    },
    {
      "cell_type": "markdown",
      "source": [
        "Step SR2_PR2_BadTopics Calculates the bottom 3 topics across all subjects that a student has performed well in - used in SR2, PR2\n",
        "\n",
        "```\n",
        "Step 1. Calls the previous function (SR2_PR2_OverallTopics) which returns a dataframe of the student's average score in each topic\n",
        "Step 2. Arranges dataframe in descending order\n",
        "Step 3. Top 3 rows i.e bottom 3 topics are extracted as the student's bad topics\n",
        "```\n",
        "\n"
      ],
      "metadata": {
        "id": "gD78jr4jxVdA"
      }
    },
    {
      "cell_type": "code",
      "source": [
        "SR2_PR2_BadTopics<-function(TotalScore,StudentID,SubjectID){\n",
        "  TopicScoresdf<-SR2_PR2_OverallTopics(TotalScore,\"15\",\"3A\")\n",
        "  AscSortedTopicScores<- TopicScoresdf[order(TopicScoresdf$Scores,decreasing=FALSE),]\n",
        "  BadTopics<-AscSortedTopicScores[1:3,]\n",
        "  return(BadTopics)\n",
        "}"
      ],
      "metadata": {
        "id": "3rg1oFv2xZLC"
      },
      "execution_count": null,
      "outputs": []
    },
    {
      "cell_type": "markdown",
      "source": [
        "Test it out"
      ],
      "metadata": {
        "id": "sGOtfH9dm2pJ"
      }
    },
    {
      "cell_type": "code",
      "source": [
        "BadTopics<-SR2_PR2_BadTopics(TotalScore,\"20\",\"3A\")\n",
        "print(BadTopics)"
      ],
      "metadata": {
        "id": "tCw8pVX_m3pH"
      },
      "execution_count": null,
      "outputs": []
    },
    {
      "cell_type": "markdown",
      "source": [
        "# SR3: Student - Subject Progress Summary"
      ],
      "metadata": {
        "id": "D7YrDPLrl47a"
      }
    },
    {
      "cell_type": "markdown",
      "source": [
        "**SR3 Function #1**"
      ],
      "metadata": {
        "id": "DCmqw8aqomj1"
      }
    },
    {
      "cell_type": "markdown",
      "source": [
        "SR3_PR3_TR3_MonthlyTopicScore Calculates the average monthly score received in each topic of a particular subject by a particular student - used in SR3, PR3, TR3\n",
        "\n",
        "\n",
        "```\n",
        "Step 1. Finds the quiz scores corresponding to the student that have occured in the past month.  \n",
        "- This should ideally be calculated using current date and quiz timestamp but due to a limitation with the mock data, it has been hard coded to include Week5-Week8\n",
        "Step 2. Calculates the average score for each topic from the quizzes taken in the past month\n",
        "Step 3. Returns a data frame of each topic and its corresponding score\n",
        "```\n",
        "\n"
      ],
      "metadata": {
        "id": "j6uKVk_Gw5op"
      }
    },
    {
      "cell_type": "code",
      "source": [
        "SR3_PR3_TR3_MonthlyTopicScore<- function(TotalScore,StudentID,SectionID,SubjectID){\n",
        "\n",
        "  StudentID<-as.numeric(StudentID)\n",
        "  SubjectID<-as.numeric(SubjectID)\n",
        "  QuizScoresAll<-TotalScore[which(TotalScore$StudentID==StudentID & TotalScore$SectionID==SectionID & TotalScore$SubjectID==SubjectID),]\n",
        "  QuizScores<-QuizScoresAll[which(QuizScoresAll$QuizStartTime==\"Week5\"|QuizScoresAll$QuizStartTime==\"Week6\"|QuizScoresAll$QuizStartTime==\"Week7\"|QuizScoresAll$QuizStartTime==\"Week8\"),]\n",
        "\n",
        "  if (nrow(QuizScores)==0){\n",
        "    TopicScores<-\"No Quizzes taken this month\"\n",
        "  }\n",
        "  else {\n",
        "    QuizScores$StudentTopic1Score<-as.numeric(QuizScores$StudentTopic1Score)\n",
        "    QuizScores$StudentTopic2Score<-as.numeric(QuizScores$StudentTopic2Score)\n",
        "    QuizScores$StudentTopic3Score<-as.numeric(QuizScores$StudentTopic3Score)\n",
        "\n",
        "    Topic1Score<-mean(QuizScores$StudentTopic1Score)\n",
        "    Topic2Score<-mean(QuizScores$StudentTopic2Score)\n",
        "    Topic3Score<-mean(QuizScores$StudentTopic3Score)\n",
        "\n",
        "    TopicScores<-data.frame(\"Topic1\"=Topic1Score,\"Topic2\"=Topic2Score,\"Topic3\"=Topic3Score)\n",
        "  }\n",
        "\n",
        "  return(TopicScores)\n",
        "}"
      ],
      "metadata": {
        "id": "Kio2DJCgw8gz"
      },
      "execution_count": null,
      "outputs": []
    },
    {
      "cell_type": "markdown",
      "source": [
        "Test it out"
      ],
      "metadata": {
        "id": "mUUVwOoSqdhy"
      }
    },
    {
      "cell_type": "code",
      "source": [
        "MonthlyTopicScores<-SR3_PR3_TR3_MonthlyTopicScore(TotalScore,\"20\",\"3A\",\"1\")\n",
        "print(MonthlyTopicScores)"
      ],
      "metadata": {
        "colab": {
          "base_uri": "https://localhost:8080/"
        },
        "id": "cQbVb-Rqqejq",
        "outputId": "2de08c1f-05fb-4c41-c61d-274b7a89fed3"
      },
      "execution_count": null,
      "outputs": [
        {
          "output_type": "stream",
          "name": "stdout",
          "text": [
            "  Topic1 Topic2 Topic3\n",
            "1   10.6   50.5   60.1\n"
          ]
        }
      ]
    },
    {
      "cell_type": "markdown",
      "source": [
        "**SR3 Function #2**"
      ],
      "metadata": {
        "id": "Pqup_TVRrQrS"
      }
    },
    {
      "cell_type": "markdown",
      "source": [
        "SR3_PR3_TR3_SubjectScore Calculates the average score of a particular student in a particular subject - used in SR3, PR3, TR3\n",
        "\n",
        "\n",
        "```\n",
        "Step 1. Finds all of the quiz scores corresponding to the student in a particular subject\n",
        "Step 2. Calculates the average score for this subject from these quizzes\n",
        "Step 3. Returns a data frame of the subject and its corresponding score\n",
        "```\n",
        "\n"
      ],
      "metadata": {
        "id": "4VxmVAG-xbZU"
      }
    },
    {
      "cell_type": "code",
      "source": [
        "SR3_PR3_TR3_SubjectScore<-function(TotalScore,StudentID,SectionID,SubjectID){\n",
        "  StudentID<-as.numeric(StudentID)\n",
        "  UnsortedQuizScores<-TotalScore[which(TotalScore$StudentID==StudentID & TotalScore$SectionID==SectionID & TotalScore$SubjectID==SubjectID),]\n",
        "  SubjectQuizScores<-UnsortedQuizScores[order(UnsortedQuizScores$StudentQuizScore,decreasing=TRUE),]\n",
        "  SubjectQuizScores$StudentQuizScore<-as.numeric(SubjectQuizScores$StudentQuizScore)\n",
        "  AverageSubjectScore<-mean(SubjectQuizScores$StudentQuizScore)\n",
        "  SubjectScore<-data.frame(\"Score\"=AverageSubjectScore)\n",
        "  return(SubjectScore)\n",
        "}"
      ],
      "metadata": {
        "id": "3uKhWge-xeho"
      },
      "execution_count": null,
      "outputs": []
    },
    {
      "cell_type": "markdown",
      "source": [
        "Test it out"
      ],
      "metadata": {
        "id": "H5QEx5NcrnwW"
      }
    },
    {
      "cell_type": "code",
      "source": [
        "SubjectScore<-SR3_PR3_TR3_SubjectScore(TotalScore,\"20\",\"3A\",\"1\")\n",
        "print(SubjectScore)"
      ],
      "metadata": {
        "id": "XwjKuSvEr3Mg"
      },
      "execution_count": null,
      "outputs": []
    },
    {
      "cell_type": "markdown",
      "source": [
        "**SR3 Function #3**"
      ],
      "metadata": {
        "id": "pqwS74VmsJ48"
      }
    },
    {
      "cell_type": "markdown",
      "source": [
        "SR3_PR3_TR3_SubjectMonthlyScore Calculates the average score of a particular student in a particular subject in this month - used in SR3, PR3, TR3\n",
        "\n",
        "\n",
        "```\n",
        "Step 1. Finds all of the quiz scores corresponding to the student in a particular subject that have occured in the past month\n",
        "- This should ideally be calculated using current date and quiz timestamp but due to a limitation with the mock data, it has been hard coded to include Week5-Week8\n",
        "Step 2. Calculates the average score for this subject from these quizzes\n",
        "Step 3. Returns a data frame of the subject and its corresponding score\n",
        "```\n",
        "\n"
      ],
      "metadata": {
        "id": "MPwHwyKNxmxK"
      }
    },
    {
      "cell_type": "code",
      "source": [
        "SR3_PR3_TR3_SubjectMonthlyScore<-function(TotalScore,StudentID,SectionID,SubjectID){\n",
        "  StudentID<-as.numeric(StudentID)\n",
        "  SubjectQuizScores<-TotalScore[which(TotalScore$StudentID==StudentID & TotalScore$SectionID==SectionID & TotalScore$SubjectID==SubjectID),]\n",
        "  RecentQuizScores<-SubjectQuizScores[which(SubjectQuizScores$QuizStartTime==\"Week5\" | SubjectQuizScores$QuizStartTime==\"Week6\" | SubjectQuizScores$QuizStartTime==\"Week7\" | SubjectQuizScores$QuizStartTime==\"Week8\"),]\n",
        "\n",
        "  if (nrow(RecentQuizScores)==0){\n",
        "    SubjectMonthlyScore<-data.frame(\"Score\"=\"No Quizzes taken this month\")\n",
        "  }\n",
        "  else {\n",
        "    RecentQuizScores$StudentQuizScore<-as.numeric(RecentQuizScores$StudentQuizScore)\n",
        "    AverageSubjectScore<-mean(RecentQuizScores$StudentQuizScore)\n",
        "    SubjectMonthlyScore<-data.frame(\"Score\"=AverageSubjectScore)\n",
        "  }\n",
        "\n",
        "  return(SubjectMonthlyScore)\n",
        "}"
      ],
      "metadata": {
        "id": "LXjDKoY3xo-J"
      },
      "execution_count": null,
      "outputs": []
    },
    {
      "cell_type": "markdown",
      "source": [
        "Test it out"
      ],
      "metadata": {
        "id": "ui7YXSTNnwmw"
      }
    },
    {
      "cell_type": "code",
      "source": [
        "SubjectMonthlyScore<-SR3_PR3_TR3_SubjectMonthlyScore(TotalScore,\"20\",\"3A\",\"1\")\n",
        "print(SubjectMonthlyScore)"
      ],
      "metadata": {
        "id": "7f4t56hprzaq"
      },
      "execution_count": null,
      "outputs": []
    },
    {
      "cell_type": "markdown",
      "source": [
        "**SR3 Function #4**"
      ],
      "metadata": {
        "id": "KyfB6i6osm0g"
      }
    },
    {
      "cell_type": "markdown",
      "source": [
        "SR3_PR3_TR3_RecentSubjectQuizScore Displays the quiz scores for the 3 most recent quizzes taken by a particular student in a particular subject - used in SR3, PR3, TR3\n",
        "\n",
        "\n",
        "```\n",
        "Step 1. Finds the Quiz scores corresponding to a student in one particular subject\n",
        "Step 2. Sorts these Quiz scores in descending order of time i.e most recent to least recent\n",
        "Step 3a.  If there are 3 or more quiz scores, the top 3 quizzes and corresponding scores are returned\n",
        "Step 3b.  If there are 2 quiz scores, both quizzes and their corresponding scores are returned\n",
        "Step 3c.  If there is 1 quiz score, the quiz and its corresponding score is returned\n",
        "Step 3d.  If there are 0 quiz scores, \"No recent quizzes\" is returned\n",
        "```\n",
        "\n"
      ],
      "metadata": {
        "id": "8KxVqUl90vsC"
      }
    },
    {
      "cell_type": "code",
      "source": [
        "SR3_PR3_TR3_RecentSubjectQuizScores <- function(TotalScore,StudentID,SectionID,SubjectID){\n",
        "  UnsortedQuizScores<-TotalScore[which(TotalScore$StudentID==StudentID & TotalScore$SectionID==SectionID & TotalScore$SubjectID==SubjectID),]\n",
        "  InitialSortedQuizScores<-UnsortedQuizScores[order(UnsortedQuizScores$StudentQuizScore,decreasing=TRUE),]\n",
        "  QuizScores<-InitialSortedQuizScores[!duplicated(InitialSortedQuizScores$QuizID),]\n",
        "\n",
        "  QuizScoresSorted<-QuizScores[order(QuizScores$QuizEndTime,decreasing=TRUE),]\n",
        "  if (nrow(QuizScoresSorted)>=3){\n",
        "    RecentQuiz1Title<-QuizScoresSorted[1,\"QuizID\"]\n",
        "    RecentQuiz1Score<-QuizScoresSorted[1,\"StudentQuizScore\"]\n",
        "    RecentQuiz2Title<-QuizScoresSorted[2,\"QuizID\"]\n",
        "    RecentQuiz2Score<-QuizScoresSorted[2,\"StudentQuizScore\"]\n",
        "    RecentQuiz3Title<-QuizScoresSorted[3,\"QuizID\"]\n",
        "    RecentQuiz3Score<-QuizScoresSorted[3,\"StudentQuizScore\"]\n",
        "    RecentQuizTitles<-c(RecentQuiz1Title,RecentQuiz2Title,RecentQuiz3Title)\n",
        "    RecentQuizScores<-c(RecentQuiz1Score,RecentQuiz2Score,RecentQuiz3Score)\n",
        "  }\n",
        "  else if(nrow(QuizScoresSorted)==2){\n",
        "    RecentQuiz1Title<-QuizScoresSorted[1,\"QuizID\"]\n",
        "    RecentQuiz1Score<-QuizScoresSorted[1,\"StudentQuizScore\"]\n",
        "    RecentQuiz2Title<-QuizScoresSorted[2,\"QuizID\"]\n",
        "    RecentQuiz2Score<-QuizScoresSorted[2,\"StudentQuizScore\"]\n",
        "    RecentQuizTitles<-c(RecentQuiz1Title,RecentQuiz2Title)\n",
        "    RecentQuizScores<-c(RecentQuiz1Score,RecentQuiz2Score)\n",
        "  }\n",
        "  else if (nrow(QuizScoresSorted)==1){\n",
        "    RecentQuiz1Title<-QuizScoresSorted[1,\"QuizID\"]\n",
        "    RecentQuiz1Score<-QuizScoresSorted[1,\"StudentQuizScore\"]\n",
        "    RecentQuizTitles<-c(RecentQuiz1Title)\n",
        "    RecentQuizScores<-c(RecentQuiz1Score)\n",
        "  }\n",
        "  else if (nrow(QuizScoresSorted)==0){\n",
        "    RecentQuizTitles<-\"No Recent Quizzes\"\n",
        "    RecentQuizScores<-\"No Recent Quizzes\"\n",
        "  }\n",
        "\n",
        "  RecentQuizzes<-data.frame(\"Quiz\"=RecentQuizTitles,\"Score\"=RecentQuizScores)\n",
        "  return(RecentQuizzes)\n",
        "}"
      ],
      "metadata": {
        "id": "3uKKGpbX0zNR"
      },
      "execution_count": null,
      "outputs": []
    },
    {
      "cell_type": "markdown",
      "source": [
        "Test it out"
      ],
      "metadata": {
        "id": "gsc4u37xtv6V"
      }
    },
    {
      "cell_type": "code",
      "source": [
        "RecentQuizScores<-SR3_PR3_TR3_RecentSubjectQuizScores(TotalScore,\"20\",\"3B\",\"1\")\n",
        "print(RecentQuizScores)"
      ],
      "metadata": {
        "id": "ebZiYNu_txaC"
      },
      "execution_count": null,
      "outputs": []
    },
    {
      "cell_type": "markdown",
      "source": [
        "# PR1: Parent - Quiz Summary"
      ],
      "metadata": {
        "id": "bar7LVnRnyEV"
      }
    },
    {
      "cell_type": "markdown",
      "source": [
        "**PR1 Function #1**"
      ],
      "metadata": {
        "id": "coxo2Hshux6l"
      }
    },
    {
      "cell_type": "markdown",
      "source": [
        "SR1_PR1_TR1_GetStudentQuizList displays a list of the quizzes taken by an individual student in a particular subject - used in SR1, PR1, TR1\n",
        "\n",
        "\n",
        "\n",
        "```\n",
        "Step 1. Finds quiz scores corresponding to the selected student\n",
        "Step 2. Returns a list of the quizzes taken by the student\n",
        "```\n",
        "\n"
      ],
      "metadata": {
        "id": "1fS0s_Vbux6l"
      }
    },
    {
      "cell_type": "code",
      "source": [
        "SR1_PR1_TR1_GetStudentQuizList<- function(TotalScore,StudentID,SectionID,SubjectID){\n",
        "  StudentID<-as.numeric(StudentID)\n",
        "  SectionID<-as.character(SectionID)\n",
        "  SubjectID<-as.numeric(SubjectID)\n",
        "  StudentsQuizzes<-TotalScore[which(TotalScore$StudentID==StudentID & TotalScore$SectionID==SectionID & TotalScore$SubjectID==SubjectID),]\n",
        "\n",
        "  list=as.list(StudentsQuizzes)\n",
        "\n",
        "  StudentQuizID<-list$QuizID\n",
        "  return(StudentQuizID)\n",
        "}"
      ],
      "metadata": {
        "id": "MWfR8CUiux6l"
      },
      "execution_count": null,
      "outputs": []
    },
    {
      "cell_type": "markdown",
      "source": [
        "Test it out"
      ],
      "metadata": {
        "id": "QldgT5yMux6l"
      }
    },
    {
      "cell_type": "code",
      "source": [
        "SR1_PR1_TR1_GetStudentQuizList(TotalScore,\"20\",\"3A\",\"1\")"
      ],
      "metadata": {
        "id": "Y835oSHxux6m"
      },
      "execution_count": null,
      "outputs": []
    },
    {
      "cell_type": "markdown",
      "source": [
        "**PR1 Function #2**\n"
      ],
      "metadata": {
        "id": "d65Y-vgwux6m"
      }
    },
    {
      "cell_type": "markdown",
      "source": [
        "\n",
        "SR1_PR1_TR1_StudentQuizScore displays the Score of a student in a particular quiz - used in SR1, PR1, TR1\n",
        "\n",
        "\n",
        "\n",
        "```\n",
        "Step 1. Finds quiz details corresponding to the student and quiz selected\n",
        "Step 2. Returns the corresponding quiz score\n",
        "```\n",
        "\n"
      ],
      "metadata": {
        "id": "stS-4jafux6m"
      }
    },
    {
      "cell_type": "code",
      "source": [
        "SR1_PR1_TR1_StudentQuizScore<-function(TotalScore,StudentID,SectionID,SubjectID,QuizID){\n",
        "  StudentID<-as.numeric(StudentID)\n",
        "  SubjectID<-as.numeric(SubjectID)\n",
        "  StudentQuizScore<-TotalScore[which(TotalScore$StudentID==StudentID & TotalScore$SectionID==SectionID & TotalScore$SubjectID==SubjectID & TotalScore$QuizID==QuizID),]\n",
        "  QuizScore<-data.frame(\n",
        "    \"Score\" = (StudentQuizScore$StudentQuizScore)\n",
        "  )\n",
        "  return (QuizScore)\n",
        "}"
      ],
      "metadata": {
        "id": "MU8wRQx4ux6m"
      },
      "execution_count": null,
      "outputs": []
    },
    {
      "cell_type": "markdown",
      "source": [
        "Test it out"
      ],
      "metadata": {
        "id": "ArwHoNjAux6m"
      }
    },
    {
      "cell_type": "code",
      "source": [
        "StudentsQuizScore<-SR1_PR1_TR1_StudentQuizScore (TotalScore,\"20\",\"3A\",\"1\",\"EOSQ1\")\n",
        "print(StudentsQuizScore)"
      ],
      "metadata": {
        "id": "Yx5kRrgCux6m"
      },
      "execution_count": null,
      "outputs": []
    },
    {
      "cell_type": "markdown",
      "source": [
        "**PR1 Function #3**"
      ],
      "metadata": {
        "id": "HmuDQa8Aux6m"
      }
    },
    {
      "cell_type": "markdown",
      "source": [
        "SR1_PR1_TR1_StudentAnswerBreakdown Displays a breakdown of the Score of a student in a particular quiz by showing the number of questions answered correctly, answered incorrectly and unanswered - used in SR1, PR1, TR1\n",
        "\n",
        "\n",
        "\n",
        "```\n",
        "Step 1. Finds quiz details corresponding to the student and quiz selected\n",
        "Step 2. Returns the score in terms of Correct Questions, Incorrect Questions, Unanswered Questions\n",
        "```\n",
        "\n"
      ],
      "metadata": {
        "id": "pB3F-bJSux6m"
      }
    },
    {
      "cell_type": "code",
      "source": [
        "SR1_PR1_TR1_StudentAnswerBreakdown<-function(TotalScore,StudentID,SectionID,SubjectID,QuizID){\n",
        "  StudentID<-as.numeric(StudentID)\n",
        "  SubjectID<-as.numeric(SubjectID)\n",
        "  StudentQuizScore<-TotalScore[which(TotalScore$StudentID==StudentID & TotalScore$SectionID==SectionID & TotalScore$SubjectID==SubjectID & TotalScore$QuizID==QuizID),]\n",
        "  StudentCorrect<-StudentQuizScore[1,\"StudentCorrect\"]\n",
        "  StudentIncorrect<-StudentQuizScore[1,\"StudentIncorrect\"]\n",
        "  StudentUnanswered<-StudentQuizScore[1,\"StudentUnanswered\"]\n",
        "  StudentAnswerBreakdown<-data.frame( \"Correct\"=StudentCorrect,\"Incorrect\"=StudentIncorrect,\"Unanswered\"=StudentUnanswered\n",
        "  )\n",
        "  return (StudentAnswerBreakdown)\n",
        "}"
      ],
      "metadata": {
        "id": "3vl0jqeIux6n"
      },
      "execution_count": null,
      "outputs": []
    },
    {
      "cell_type": "markdown",
      "source": [
        "Test it out"
      ],
      "metadata": {
        "id": "8J54Tcxlux6n"
      }
    },
    {
      "cell_type": "code",
      "source": [
        "StudentAnswerBreakdown<-SR1_PR1_TR1_StudentAnswerBreakdown(TotalScore,\"20\",\"3A\",\"1\",\"EOSQ1\")\n",
        "print(StudentAnswerBreakdown)"
      ],
      "metadata": {
        "colab": {
          "base_uri": "https://localhost:8080/"
        },
        "outputId": "f976c40e-9205-4415-e96a-e72fb88357a7",
        "id": "dL5l_Wqvux6n"
      },
      "execution_count": null,
      "outputs": [
        {
          "output_type": "stream",
          "name": "stdout",
          "text": [
            "  Correct Incorrect Unanswered\n",
            "1      12         6          2\n"
          ]
        }
      ]
    },
    {
      "cell_type": "markdown",
      "source": [
        "**PR1 Function #4**"
      ],
      "metadata": {
        "id": "ssPdVWhvux6n"
      }
    },
    {
      "cell_type": "markdown",
      "source": [
        "SR1_PR1_TR1_StudentTopicBreakdown Displays a breakdown of the Score of a student in a particular quiz based on the topic of the questions - used in SR1, PR1, TR1\n",
        "\n",
        "\n",
        "```\n",
        "Step 1. Finds quiz details corresponding to the student and quiz selected\n",
        "Step 2. Returns the score received by a student in each topic included in the quiz\n",
        "```\n",
        "\n",
        "\n"
      ],
      "metadata": {
        "id": "1w7WY4Twux6n"
      }
    },
    {
      "cell_type": "code",
      "source": [
        "SR1_PR1_TR1_StudentTopicBreakdown<-function(TotalScore,StudentID,SectionID,SubjectID,QuizID){\n",
        "  StudentID<-as.numeric(StudentID)\n",
        "  SubjectID<-as.numeric(SubjectID)\n",
        "  StudentQuizScore<-TotalScore[which(TotalScore$StudentID==StudentID & TotalScore$SectionID==SectionID & TotalScore$SubjectID==SubjectID & TotalScore$QuizID==QuizID),]\n",
        "\n",
        "  StudentTopic1Score<-StudentQuizScore$StudentTopic1Score\n",
        "  StudentTopic2Score<-StudentQuizScore$StudentTopic2Score\n",
        "  StudentTopic3Score<-StudentQuizScore$StudentTopic3Score\n",
        "  StudentTopicBreakdown<-data.frame( \"Topic1\"=StudentTopic1Score,\"Topic2\"=StudentTopic2Score,\"Topic3\"=StudentTopic1Score\n",
        "  )\n",
        "  return (StudentTopicBreakdown)\n",
        "}"
      ],
      "metadata": {
        "id": "MV0QL3Vzux6o"
      },
      "execution_count": null,
      "outputs": []
    },
    {
      "cell_type": "markdown",
      "source": [
        "Test it out"
      ],
      "metadata": {
        "id": "Rk-O_aU2ux6o"
      }
    },
    {
      "cell_type": "code",
      "source": [
        "StudentTopicBreakdown<-SR1_PR1_TR1_StudentTopicBreakdown(TotalScore,\"20\",\"3A\",\"1\",\"EOSQ1\")\n",
        "print(StudentTopicBreakdown)"
      ],
      "metadata": {
        "id": "_XCb_smpux6o"
      },
      "execution_count": null,
      "outputs": []
    },
    {
      "cell_type": "markdown",
      "source": [
        "**PR1 Function #5**"
      ],
      "metadata": {
        "id": "MYpHCKYfvC7-"
      }
    },
    {
      "cell_type": "markdown",
      "source": [
        "PR1_TR1_StudentDifficultyBreakdown Displays a breakdown of the Score of a student in a particular quiz based on the difficulty of the questions - used in PR1, TR1\n",
        "\n",
        "\n",
        "```\n",
        "Step 1. Finds quiz details corresponding to the student and quiz selected\n",
        "Step 2. Returns the score received by a student in each level of difficulty (Easy,Medium,Difficult) included in the quiz\n",
        "```\n",
        "\n"
      ],
      "metadata": {
        "id": "HAcpbnEFvV8t"
      }
    },
    {
      "cell_type": "code",
      "source": [
        "PR1_TR1_StudentDifficultyBreakdown<-function(TotalScore,StudentID,SectionID,SubjectID,QuizID){\n",
        "  StudentID<-as.numeric(StudentID)\n",
        "  SubjectID<-as.numeric(SubjectID)\n",
        "  StudentQuizScore<-TotalScore[which(TotalScore$StudentID==StudentID & TotalScore$SectionID==SectionID & TotalScore$SubjectID==SubjectID & TotalScore$QuizID==QuizID),]\n",
        "  DescStudentQuizScore<-StudentQuizScore[order(StudentQuizScore$StudentQuizScore,decreasing=TRUE),]\n",
        "  StudentEasyScore<-DescStudentQuizScore[1,\"StudentEasyScore\"]\n",
        "  StudentMediumScore<-DescStudentQuizScore[1,\"StudentMediumScore\"]\n",
        "  StudentDifficultScore<-DescStudentQuizScore[1,\"StudentDifficultScore\"]\n",
        "  StudentDifficultyBreakdown<-data.frame( \"EasyScore\"=StudentEasyScore,\"MediumScore\"=StudentMediumScore,\"DifficultScore\"=StudentDifficultScore\n",
        "  )\n",
        "  return (StudentDifficultyBreakdown)\n",
        "}"
      ],
      "metadata": {
        "id": "35a3KHebvcG9"
      },
      "execution_count": null,
      "outputs": []
    },
    {
      "cell_type": "markdown",
      "source": [
        "Test it out"
      ],
      "metadata": {
        "id": "P_-55oV0vGj6"
      }
    },
    {
      "cell_type": "code",
      "source": [
        "StudentDifficultyBreakdown<-PR1_TR1_StudentDifficultyBreakdown(TotalScore,\"20\",\"3A\",\"1\",\"EOSQ1\")\n",
        "print(StudentDifficultyBreakdown)"
      ],
      "metadata": {
        "id": "RwKSSfC4vHmX"
      },
      "execution_count": null,
      "outputs": []
    },
    {
      "cell_type": "markdown",
      "source": [
        "**PR1 Function #6**"
      ],
      "metadata": {
        "id": "yLQ0e639wGgq"
      }
    },
    {
      "cell_type": "markdown",
      "source": [
        "PR1_TR1_StudentBloomsBreakdown Displays a breakdown of the Score of a student in a particular quiz based on the blooms level of the questions - used in PR1, TR1\n",
        "\n",
        "\n",
        "```\n",
        "Step 1. Finds quiz details corresponding to the student and quiz selected\n",
        "Step 2. Returns the score received by a student in each blooms level (Knowledge, Analysis, Application, Comprehension) included in the quiz\n",
        "```\n",
        "\n"
      ],
      "metadata": {
        "id": "2RtEqawtvoDk"
      }
    },
    {
      "cell_type": "code",
      "source": [
        "PR1_TR1_StudentBloomsBreakdown<-function(TotalScore,StudentID,SectionID,SubjectID,QuizID){\n",
        "  StudentID<-as.numeric(StudentID)\n",
        "  SubjectID<-as.numeric(SubjectID)\n",
        "  StudentQuizScore<-TotalScore[which(TotalScore$StudentID==StudentID & TotalScore$SectionID==SectionID & TotalScore$SubjectID==SubjectID & TotalScore$QuizID==QuizID),]\n",
        "  DescStudentQuizScore<-StudentQuizScore[order(StudentQuizScore$StudentQuizScore,decreasing=TRUE),]\n",
        "  StudentKnowledgeScore<-DescStudentQuizScore[1,\"StudentKnowledgeScore\"]\n",
        "  StudentApplicationScore<-DescStudentQuizScore[1,\"StudentApplicationScore\"]\n",
        "  StudentAnalysisScore<-DescStudentQuizScore[1,\"StudentAnalysisScore\"]\n",
        "  StudentComprehensionScore<-DescStudentQuizScore[1,\"StudentComprehensionScore\"]\n",
        "  StudentBloomsBreakdown<-data.frame( \"KnowledgeScore\"=StudentKnowledgeScore,\"ApplicationScore\"=StudentApplicationScore,\"AnalysisScore\"=StudentAnalysisScore, \"ComprehensionScore\"=StudentComprehensionScore\n",
        "  )\n",
        "  return (StudentBloomsBreakdown)\n",
        "}"
      ],
      "metadata": {
        "id": "Y8sMqt6VvsoT"
      },
      "execution_count": null,
      "outputs": []
    },
    {
      "cell_type": "markdown",
      "source": [
        "Test it out"
      ],
      "metadata": {
        "id": "9dWC9vRAwFNm"
      }
    },
    {
      "cell_type": "code",
      "source": [
        "StudentBloomsBreakdown<-PR1_TR1_StudentBloomsBreakdown(TotalScore,\"20\",\"3A\",\"1\",\"EOSQ1\")\n",
        "print(StudentBloomsBreakdown)"
      ],
      "metadata": {
        "id": "GL2nv4favwPq"
      },
      "execution_count": null,
      "outputs": []
    },
    {
      "cell_type": "markdown",
      "source": [
        "\n",
        "\n",
        "# PR2: Parent - General Progress Summary"
      ],
      "metadata": {
        "id": "o77tadGeueGp"
      }
    },
    {
      "cell_type": "markdown",
      "source": [
        "**PR2 Function #1**"
      ],
      "metadata": {
        "id": "CSVSlH08ynKK"
      }
    },
    {
      "cell_type": "markdown",
      "source": [
        "SR2_PR2_StudentTotalTimeSpentLearning Displays the total amount of time spent learning all the subjects by a particular student - used in SR2, PR2\n",
        "\n",
        "\n",
        "```\n",
        "Step 1. Checks Learning Sessions data to find sessions corresponding to the student selected\n",
        "Step 2a. If student has no corresponding record, \"No learning sessions found\" is output\n",
        "Step 2b. If student has corresponding learning session records, the minutes spent learning are summed up by the week in which the session took place\n",
        "```\n",
        "\n"
      ],
      "metadata": {
        "id": "Dk6r0JLEynKK"
      }
    },
    {
      "cell_type": "code",
      "source": [
        "SR2_PR2_StudentTotalTimeSpentLearning <- function(LearningSessions,StudentID,SectionID){\n",
        "\n",
        "  StudentID<-as.numeric(StudentID)\n",
        "  StudentLearningSessions<-LearningSessions[which(LearningSessions$StudentID==StudentID & LearningSessions$SectionID==SectionID),]\n",
        "  if (nrow(StudentLearningSessions)==0){\n",
        "    StudentWeeklyLearningSessionMinutes<-\"No Learning Sessions found\"\n",
        "  }\n",
        "  if (nrow(StudentLearningSessions)>0){\n",
        "  StudentLearningSessions$MinutesSpentLearning<-as.numeric(StudentLearningSessions$MinutesSpentLearning)\n",
        "  StudentWeeklyLearningSessionMinutes<-setNames(aggregate(StudentLearningSessions$MinutesSpentLearning, by=list(Week=StudentLearningSessions$LearningSessionStartTime), FUN=sum),c(\"Week\",\"Minutes\"))\n",
        "  }\n",
        "  return(StudentWeeklyLearningSessionMinutes)\n",
        "}"
      ],
      "metadata": {
        "id": "Rt4-BSZZynKK"
      },
      "execution_count": null,
      "outputs": []
    },
    {
      "cell_type": "markdown",
      "source": [
        "Test it out"
      ],
      "metadata": {
        "id": "C8EENdugynKL"
      }
    },
    {
      "cell_type": "code",
      "source": [
        "TimeSpent<-SR2_PR2_StudentTotalTimeSpentLearning(LearningSessions,\"15\",\"3A\")\n",
        "print(TimeSpent)"
      ],
      "metadata": {
        "id": "-u9HehgpynKL"
      },
      "execution_count": null,
      "outputs": []
    },
    {
      "cell_type": "markdown",
      "source": [
        "**PR2 Function #2**"
      ],
      "metadata": {
        "id": "RFulfq8SynKL"
      }
    },
    {
      "cell_type": "markdown",
      "source": [
        "SR2_PR2_SubjectWiseProgress Displays the average score and number of chapters covered i.e number of EOSQs taken by a student in each subject - used in SR2, PR2\n",
        "\n",
        "\n",
        "```\n",
        "Step 1. Finds the Quiz Scores corresponding to the student selected\n",
        "Step 2. Filters the Quiz Scores by subject and finds the average score in that subject\n",
        "Step 3. Counts the number of quizzes taken by a student in a subject\n",
        "Step 4. As each quiz covers one chapter it returns the number of chapters covered, as a fraction of the total number of chapters (10)\n",
        "```\n",
        "\n"
      ],
      "metadata": {
        "id": "auyt_63oynKL"
      }
    },
    {
      "cell_type": "code",
      "source": [
        "SR2_PR2_SubjectWiseProgress <- function(TotalScore,StudentID,SectionID){\n",
        "\n",
        "  frac<-\"/\"\n",
        "  NumberOfChapters<-10\n",
        "\n",
        "  StudentID<-as.numeric(StudentID)\n",
        "  QuizScores<-TotalScore[which(TotalScore$StudentID==StudentID & TotalScore$SectionID==SectionID),]\n",
        "\n",
        "  MathQuizScores<-QuizScores[which(QuizScores$SubjectID==\"1\"),]\n",
        "  MathQuizScores$StudentQuizScore<-as.numeric(MathQuizScores$StudentQuizScore)\n",
        "  MathAverageScore<-mean(MathQuizScores$StudentQuizScore)\n",
        "  MathChapters<-nrow(MathQuizScores)\n",
        "  MathChapters<-as.character(MathChapters)\n",
        "  MathChaptersProgress<-paste(MathChapters,frac,NumberOfChapters)\n",
        "  if (nrow(MathQuizScores)==0){\n",
        "    MathAverageScore=0\n",
        "    MathChapters<-0\n",
        "    MathChaptersProgress<-paste(MathChapters,frac,NumberOfChapters)\n",
        "  }\n",
        "\n",
        "  EnglishQuizScores<-QuizScores[which(QuizScores$SubjectID==\"2\"),]\n",
        "  EnglishQuizScores$StudentQuizScore<-as.numeric(EnglishQuizScores$StudentQuizScore)\n",
        "  EnglishAverageScore<-mean(EnglishQuizScores$StudentQuizScore)\n",
        "  EnglishChapters<-nrow(EnglishQuizScores)\n",
        "  EnglishChapters<-as.character(EnglishChapters)\n",
        "  EnglishChaptersProgress<-paste(EnglishChapters,frac,NumberOfChapters)\n",
        "  if (nrow(EnglishQuizScores)==0){\n",
        "    EnglishAverageScore=0\n",
        "    EnglishChapters<-0\n",
        "    EnglishChaptersProgress<-paste(EnglishChapters,frac,NumberOfChapters)\n",
        "  }\n",
        "\n",
        "  ScienceQuizScores<-QuizScores[which(QuizScores$SubjectID==\"3\"),]\n",
        "  ScienceQuizScores$StudentQuizScore<-as.numeric(ScienceQuizScores$StudentQuizScore)\n",
        "  ScienceAverageScore<-mean(ScienceQuizScores$StudentQuizScore)\n",
        "  ScienceChapters<-nrow(ScienceQuizScores)\n",
        "  ScienceChapters<-as.character(ScienceChapters)\n",
        "  ScienceChaptersProgress<-paste(ScienceChapters,frac,NumberOfChapters)\n",
        "  if (nrow(ScienceQuizScores)==0){\n",
        "    ScienceAverageScore=0\n",
        "    ScienceChapters<-0\n",
        "    ScienceChaptersProgress<-paste(ScienceChapters,frac,NumberOfChapters)\n",
        "  }\n",
        "\n",
        "  Subjects=c(\"Math\",\"English\",\"Science\")\n",
        "  AverageScores=c(MathAverageScore,EnglishAverageScore,ScienceAverageScore)\n",
        "  ChapterProgress=c(MathChaptersProgress,EnglishChaptersProgress,ScienceChaptersProgress)\n",
        "\n",
        "  Progress<-data.frame(\"Subject\"=Subjects,\"Score\"=AverageScores,\"Chapters\"=ChapterProgress)\n",
        "\n",
        "  return (Progress)\n",
        "}"
      ],
      "metadata": {
        "id": "5cRXso4JynKL"
      },
      "execution_count": null,
      "outputs": []
    },
    {
      "cell_type": "markdown",
      "source": [
        "Test it out"
      ],
      "metadata": {
        "id": "34ay_mAMynKM"
      }
    },
    {
      "cell_type": "code",
      "source": [
        "Progress<-SR2_PR2_SubjectWiseProgress(TotalScore,\"20\",\"3A\")\n",
        "print(Progress)"
      ],
      "metadata": {
        "colab": {
          "base_uri": "https://localhost:8080/"
        },
        "outputId": "ed5aae2c-cdbb-44bc-fd22-a65b15c5aaeb",
        "id": "uFAeXcEVynKM"
      },
      "execution_count": null,
      "outputs": [
        {
          "output_type": "stream",
          "name": "stdout",
          "text": [
            "  Subject Score Chapters\n",
            "1    Math 73.75   4 / 10\n",
            "2 English 70.00   3 / 10\n",
            "3 Science 85.00   1 / 10\n"
          ]
        }
      ]
    },
    {
      "cell_type": "markdown",
      "source": [
        "**PR2 Function #3**"
      ],
      "metadata": {
        "id": "X_MELRVGynKN"
      }
    },
    {
      "cell_type": "markdown",
      "source": [
        "SR2_PR2_OverallTopics calculates the score received in each topic of each subject - used in functions being called in SR2, PR2\n",
        "(Ideally it should be a monthly score but due to the mock data limitation, data has not been filtered by month)\n",
        "\n",
        "\n",
        "```\n",
        "Step 1. Finds quiz scores corresponding to the student\n",
        "Step 2. For each topic in each subject, finds the average score in that subject topic\n",
        "Step 3. Returns a data frame of the topics and their respective topic scores\n",
        "```\n",
        "\n",
        "\n"
      ],
      "metadata": {
        "id": "f1zcklnqynKN"
      }
    },
    {
      "cell_type": "code",
      "source": [
        "SR2_PR2_OverallTopics<-function(TotalScore,StudentID,SectionID){\n",
        "\n",
        "  StudentID<-as.numeric(StudentID)\n",
        "  UnsortedQuizScores<-TotalScore[which(TotalScore$StudentID==StudentID & TotalScore$SectionID==SectionID),]\n",
        "  QuizScores<-UnsortedQuizScores[order(UnsortedQuizScores$StudentQuizScore,decreasing=TRUE),]\n",
        "\n",
        "  MathQuizScores<-QuizScores[which(QuizScores$SubjectID==\"1\"),]\n",
        "  MathQuizScores$StudentTopic1Score<-as.numeric(MathQuizScores$StudentTopic1Score)\n",
        "  MathQuizScores$StudentTopic2Score<-as.numeric(MathQuizScores$StudentTopic2Score)\n",
        "  MathQuizScores$StudentTopic3Score<-as.numeric(MathQuizScores$StudentTopic3Score)\n",
        "  MathTopic1Score<-mean(MathQuizScores$StudentTopic1Score)\n",
        "  MathTopic2Score<-mean(MathQuizScores$StudentTopic2Score)\n",
        "  MathTopic3Score<-mean(MathQuizScores$StudentTopic3Score)\n",
        "\n",
        "  EnglishQuizScores<-QuizScores[which(QuizScores$SubjectID==\"2\"),]\n",
        "  EnglishQuizScores$StudentTopic1Score<-as.numeric(EnglishQuizScores$StudentTopic1Score)\n",
        "  EnglishQuizScores$StudentTopic2Score<-as.numeric(EnglishQuizScores$StudentTopic2Score)\n",
        "  EnglishQuizScores$StudentTopic3Score<-as.numeric(EnglishQuizScores$StudentTopic3Score)\n",
        "  EnglishTopic1Score<-mean(EnglishQuizScores$StudentTopic1Score)\n",
        "  EnglishTopic2Score<-mean(EnglishQuizScores$StudentTopic2Score)\n",
        "  EnglishTopic3Score<-mean(EnglishQuizScores$StudentTopic3Score)\n",
        "\n",
        "  ScienceQuizScores<-QuizScores[which(QuizScores$SubjectID==\"3\"),]\n",
        "  ScienceQuizScores$StudentTopic1Score<-as.numeric(ScienceQuizScores$StudentTopic1Score)\n",
        "  ScienceQuizScores$StudentTopic2Score<-as.numeric(ScienceQuizScores$StudentTopic2Score)\n",
        "  ScienceQuizScores$StudentTopic3Score<-as.numeric(ScienceQuizScores$StudentTopic3Score)\n",
        "  ScienceTopic1Score<-mean(ScienceQuizScores$StudentTopic1Score)\n",
        "  ScienceTopic2Score<-mean(ScienceQuizScores$StudentTopic2Score)\n",
        "  ScienceTopic3Score<-mean(ScienceQuizScores$StudentTopic3Score)\n",
        "\n",
        "  Topics<-c(\"MathTopic1\",\"MathTopic2\",\"MathTopic3\",\"EnglishTopic1\",\"EnglishTopic2\",\"EnglishTopic3\",\"ScienceTopic1\",\"ScienceTopic2\",\"ScienceTopic3\")\n",
        "  TopicScores<-c(MathTopic1Score,MathTopic2Score,MathTopic3Score,EnglishTopic1Score,EnglishTopic2Score,EnglishTopic3Score,ScienceTopic1Score,ScienceTopic2Score,ScienceTopic3Score)\n",
        "\n",
        "  TopicScoresdf<-data.frame(\"Topics\"=Topics,\"Scores\"=TopicScores)\n",
        "\n",
        "  return(TopicScoresdf)\n",
        "}"
      ],
      "metadata": {
        "id": "Vh28ZolUynKN"
      },
      "execution_count": null,
      "outputs": []
    },
    {
      "cell_type": "markdown",
      "source": [
        "Test it out"
      ],
      "metadata": {
        "id": "zYMTvJ5kynKN"
      }
    },
    {
      "cell_type": "code",
      "source": [
        "TopicScores<-SR2_PR2_OverallTopics(TotalScore,\"20\",\"3A\")\n",
        "print(TopicScores)"
      ],
      "metadata": {
        "id": "xNFf9_bBynKN"
      },
      "execution_count": null,
      "outputs": []
    },
    {
      "cell_type": "markdown",
      "source": [
        "**PR2 Function #4**"
      ],
      "metadata": {
        "id": "YK-NC6eLynKO"
      }
    },
    {
      "cell_type": "markdown",
      "source": [
        "SR2_PR2_GoodTopic Calculates the top 3 topics across all subjects that a student has performed well in - used in SR2, PR2\n",
        "\n",
        "\n",
        "```\n",
        "Step 1. Calls the previous function (SR2_PR2_OverallTopics) which returns a dataframe of the student's average score in each topic\n",
        "Step 2. Arranges dataframe in ascending order\n",
        "Step 3. Top 3 rows i.e top 3 topics are extracted as the student's best topics\n",
        "```\n",
        "\n"
      ],
      "metadata": {
        "id": "4r2bL92OynKO"
      }
    },
    {
      "cell_type": "code",
      "source": [
        "SR2_PR2_GoodTopics<-function(TotalScore,StudentID,SubjectID){\n",
        "  TopicScoresdf<-SR2_PR2_OverallTopics(TotalScore,\"15\",\"3A\")\n",
        "  DescSortedTopicScores<- TopicScoresdf[order(TopicScoresdf$Scores,decreasing=TRUE),]\n",
        "  GoodTopics<-DescSortedTopicScores[1:3,]\n",
        "  return(GoodTopics)\n",
        "}"
      ],
      "metadata": {
        "id": "hFdCScqVynKO"
      },
      "execution_count": null,
      "outputs": []
    },
    {
      "cell_type": "markdown",
      "source": [
        "Test it out"
      ],
      "metadata": {
        "id": "B97Blo2jynKO"
      }
    },
    {
      "cell_type": "code",
      "source": [
        "GoodTopics<-SR2_PR2_GoodTopics(TotalScore,\"20\",\"3A\")\n",
        "print(GoodTopics)"
      ],
      "metadata": {
        "id": "2tezJtDwynKO"
      },
      "execution_count": null,
      "outputs": []
    },
    {
      "cell_type": "markdown",
      "source": [
        "**PR2 Function #5**"
      ],
      "metadata": {
        "id": "h2Nrgxt0ynKO"
      }
    },
    {
      "cell_type": "markdown",
      "source": [
        "SR2_PR2_BadTopics Calculates the bottom 3 topics across all subjects that a student has performed well in - used in SR2, PR2\n",
        "\n",
        "```\n",
        "Step 1. Calls the previous function (SR2_PR2_OverallTopics) which returns a dataframe of the student's average score in each topic\n",
        "Step 2. Arranges dataframe in descending order\n",
        "Step 3. Top 3 rows i.e bottom 3 topics are extracted as the student's bad topics\n",
        "```\n",
        "\n"
      ],
      "metadata": {
        "id": "PsSfTo_aynKO"
      }
    },
    {
      "cell_type": "code",
      "source": [
        "SR2_PR2_BadTopics<-function(TotalScore,StudentID,SubjectID){\n",
        "  TopicScoresdf<-SR2_PR2_OverallTopics(TotalScore,\"15\",\"3A\")\n",
        "  AscSortedTopicScores<- TopicScoresdf[order(TopicScoresdf$Scores,decreasing=FALSE),]\n",
        "  BadTopics<-AscSortedTopicScores[1:3,]\n",
        "  return(BadTopics)\n",
        "}"
      ],
      "metadata": {
        "id": "ZOyGlxYYynKP"
      },
      "execution_count": null,
      "outputs": []
    },
    {
      "cell_type": "markdown",
      "source": [
        "Test it out"
      ],
      "metadata": {
        "id": "cnf4wm40ynKP"
      }
    },
    {
      "cell_type": "code",
      "source": [
        "BadTopics<-SR2_PR2_BadTopics(TotalScore,\"20\",\"3A\")\n",
        "print(BadTopics)"
      ],
      "metadata": {
        "id": "QXm2qgjFynKP"
      },
      "execution_count": null,
      "outputs": []
    },
    {
      "cell_type": "markdown",
      "source": [
        "**PR2 Function #6**"
      ],
      "metadata": {
        "id": "l5ekpeLny6NJ"
      }
    },
    {
      "cell_type": "markdown",
      "source": [
        "PR2_StudentAttendance Displays the amount of minutes of class attended by a particular student for all the subjects - used in PR2\n",
        "\n",
        "\n",
        "```\n",
        "Step 1. Finds the attendance records corresponding to the student\n",
        "Step 2. Sums up the attendance minutes for each week\n",
        "Step 3. Returns a dataframe of the Weeks and the attended minutes per week by the student\n",
        "```\n",
        "\n"
      ],
      "metadata": {
        "id": "RPS1wyS8wdqK"
      }
    },
    {
      "cell_type": "code",
      "source": [
        "PR2_StudentAttendance<-function(Attendance,StudentID,SectionID){\n",
        "\n",
        "  StudentID<-as.numeric(StudentID)\n",
        "\n",
        "  StudentAttendance<-Attendance[which(Attendance$StudentID==StudentID & Attendance$SectionID==SectionID),]\n",
        "\n",
        "  if (nrow(StudentAttendance)==0){\n",
        "    StudentWeeklyAttendance<-data.frame(\"Minutes\"=0)\n",
        "  }\n",
        "  else if (nrow(StudentAttendance)>0){\n",
        "    StudentAttendance$AttendedMinutes<-as.numeric(StudentAttendance$AttendedMinutes)\n",
        "    StudentWeeklyAttendance<-setNames(aggregate(StudentAttendance$AttendedMinutes, by=list(Week=StudentAttendance$ClassStartTime), FUN=sum),c(\"Week\",\"Minutes\"))\n",
        "  }\n",
        "\n",
        "  return(StudentWeeklyAttendance)\n",
        "}"
      ],
      "metadata": {
        "id": "hAFVfomywhAB"
      },
      "execution_count": null,
      "outputs": []
    },
    {
      "cell_type": "markdown",
      "source": [
        "Test it out"
      ],
      "metadata": {
        "id": "9Bc_xLHKwbkr"
      }
    },
    {
      "cell_type": "code",
      "source": [
        "Attendance<-PR2_StudentAttendance(Attendance,\"20\",\"3A\")\n",
        "print(Attendance)"
      ],
      "metadata": {
        "colab": {
          "base_uri": "https://localhost:8080/"
        },
        "id": "6mxsCEYK1aU8",
        "outputId": "a28cf5b2-694c-4ebf-863b-3a3abdfea62f"
      },
      "execution_count": null,
      "outputs": [
        {
          "output_type": "stream",
          "name": "stdout",
          "text": [
            "   Week Minutes\n",
            "1 Week1      75\n",
            "2 Week2     100\n",
            "3 Week3      93\n",
            "4 Week4      26\n"
          ]
        }
      ]
    },
    {
      "cell_type": "markdown",
      "source": [
        "**PR2 Function #7**"
      ],
      "metadata": {
        "id": "C9PhY_yw3nKn"
      }
    },
    {
      "cell_type": "markdown",
      "source": [
        "PR2_PR3_TR3_ScoreCount Used to calculate the score progression for other functions - used in PR2, PR3, TR3\n",
        "\n",
        "\n",
        "```\n",
        "Step 1. Function is called on a set of quiz scores\n",
        "Step 2. In the quiz scores given, it finds the average quiz score per week\n",
        "Ideally the desired set of weeks should be automated using the current date but due to a limitation in the test data, it has been hard coded to include Weeks 1 - 8\n",
        "```\n",
        "\n"
      ],
      "metadata": {
        "id": "XfWs79TM1JXx"
      }
    },
    {
      "cell_type": "code",
      "source": [
        "PR2_PR3_TR3_ScoreCount <- function(QuizScores){\n",
        "  QuizScores$StudentQuizScore<-as.numeric(QuizScores$StudentQuizScore)\n",
        "\n",
        "  Weeks<-c(\"Week1\",\"Week2\",\"Week3\",\"Week4\",\"Week5\",\"Week6\",\"Week7\",\"Week8\")\n",
        "  WeeklyQuizScores<-list()\n",
        "  for (i in Weeks){\n",
        "    Score<-mean(QuizScores$StudentQuizScore[QuizScores$QuizStartTime==i])\n",
        "    WeeklyQuizScores[[i]]=Score\n",
        "  }\n",
        "\n",
        "  return(WeeklyQuizScores)\n",
        "}"
      ],
      "metadata": {
        "id": "E7P8b37m1MAI"
      },
      "execution_count": null,
      "outputs": []
    },
    {
      "cell_type": "markdown",
      "source": [
        "Test it out"
      ],
      "metadata": {
        "id": "n2-Ht5BbDgBO"
      }
    },
    {
      "cell_type": "code",
      "source": [
        "QuizScores<-TotalScore[which(TotalScore$StudentID==\"20\" & TotalScore$SectionID==\"3A\"),]\n",
        "ScoreCount<-PR2_PR3_TR3_ScoreCount(QuizScores)\n",
        "print(ScoreCount)"
      ],
      "metadata": {
        "id": "rZojUJpgDhFR"
      },
      "execution_count": null,
      "outputs": []
    },
    {
      "cell_type": "markdown",
      "source": [
        "**PR2 Function #8**"
      ],
      "metadata": {
        "id": "cqsELgZKD0bI"
      }
    },
    {
      "cell_type": "markdown",
      "source": [
        "PR2_ScoreProgression is Used to plot the progression of quiz scores of a particular student over time, both for their overall scores and their subject scores - used in PR2\n",
        "\n",
        "\n",
        "```\n",
        "Step 1. Finds Quiz scores corresponding to a student\n",
        "Step 2. Calls the previous function (PR2_PR3_TR3_ScoreCount) 4 times which calculates the average quiz score for a student in a particular week\n",
        "a. For all of the quiz scores\n",
        "b. For the math quiz scores\n",
        "c. For the english quiz scores\n",
        "d. For the science quiz scores\n",
        "Step 3. Returns the overall average score, average math score, average english score and average science score corresponding to every week\n",
        "```\n",
        "\n"
      ],
      "metadata": {
        "id": "8T2qCl0m03R7"
      }
    },
    {
      "cell_type": "code",
      "source": [
        "PR2_ScoreProgression <- function (TotalScore,StudentID,SectionID) {\n",
        "\n",
        "  StudentID<-as.numeric(StudentID)\n",
        "  QuizScores<-TotalScore[which(TotalScore$StudentID==StudentID & TotalScore$SectionID==SectionID),]\n",
        "\n",
        "  OverallWeeklyScoreList<-PR2_PR3_TR3_ScoreCount(QuizScores)\n",
        "  OverallWeeklyScoreListunname<-unname(OverallWeeklyScoreList)\n",
        "  OverallWeeklyScores<-unlist(OverallWeeklyScoreListunname)\n",
        "\n",
        "\n",
        "  MathQuizScores<-QuizScores[which(QuizScores$SubjectID==\"1\"),]\n",
        "  MathWeeklyScoreList<-PR2_PR3_TR3_ScoreCount(MathQuizScores)\n",
        "  MathWeeklyScoreListunname<-unname(MathWeeklyScoreList)\n",
        "  MathWeeklyScores<-unlist(MathWeeklyScoreListunname)\n",
        "\n",
        "  EnglishQuizScores<-QuizScores[which(QuizScores$SubjectID==\"2\"),]\n",
        "  EnglishWeeklyScoresList<-PR2_PR3_TR3_ScoreCount(EnglishQuizScores)\n",
        "  EnglishWeeklyScoresListunname<-unname(EnglishWeeklyScoresList)\n",
        "  EnglishWeeklyScores<-unlist(EnglishWeeklyScoresListunname)\n",
        "\n",
        "  ScienceQuizScores<-QuizScores[which(QuizScores$SubjectID==\"3\"),]\n",
        "  ScienceWeeklyScoresList<-PR2_PR3_TR3_ScoreCount(ScienceQuizScores)\n",
        "  ScienceWeeklyScoresunname<-unname(ScienceWeeklyScoresList)\n",
        "  ScienceWeeklyScores<-unlist(ScienceWeeklyScoresunname)\n",
        "\n",
        "  Weeks<-c(\"Week1\",\"Week2\",\"Week3\",\"Week4\",\"Week5\",\"Week6\",\"Week7\",\"Week8\")\n",
        "  WeeklyScores<-data.frame(\"Weeks\"=Weeks,\"Overall\"=OverallWeeklyScores,\"Math\"=MathWeeklyScores, \"English\"=EnglishWeeklyScores, \"Science\"=ScienceWeeklyScores)\n",
        "\n",
        "  return(WeeklyScores)\n",
        "}"
      ],
      "metadata": {
        "id": "35WopC5h08-9"
      },
      "execution_count": null,
      "outputs": []
    },
    {
      "cell_type": "markdown",
      "source": [
        "Test it out"
      ],
      "metadata": {
        "id": "0xTIMCtaDMWv"
      }
    },
    {
      "cell_type": "code",
      "source": [
        "ScoreProgression<-PR2_ScoreProgression(TotalScore,\"20\",\"3A\")\n",
        "print(ScoreProgression)"
      ],
      "metadata": {
        "colab": {
          "base_uri": "https://localhost:8080/"
        },
        "id": "JCCpIh78DNTo",
        "outputId": "a945fa00-c68f-4b59-90a1-d1981e116c68"
      },
      "execution_count": null,
      "outputs": [
        {
          "output_type": "stream",
          "name": "stdout",
          "text": [
            "  Weeks  Overall Math English Science\n",
            "1 Week1 75.00000   75     NaN     NaN\n",
            "2 Week2 75.00000  NaN      75     NaN\n",
            "3 Week3 81.66667   80     NaN      85\n",
            "4 Week4      NaN  NaN     NaN     NaN\n",
            "5 Week5 70.00000  NaN      70     NaN\n",
            "6 Week6 62.50000   60      65     NaN\n",
            "7 Week7      NaN  NaN     NaN     NaN\n",
            "8 Week8      NaN  NaN     NaN     NaN\n"
          ]
        }
      ]
    },
    {
      "cell_type": "markdown",
      "source": [
        "#PR3: Parent - Subject Progress Summary"
      ],
      "metadata": {
        "id": "_xs-c0PTumuh"
      }
    },
    {
      "cell_type": "markdown",
      "source": [
        "**PR3 Function #1**"
      ],
      "metadata": {
        "id": "zqBLMyeoUApp"
      }
    },
    {
      "cell_type": "markdown",
      "source": [
        "SR3_PR3_TR3_MonthlyTopicScore Calculates the average monthly score received in each topic of a particular subject by a particular student - used in SR3, PR3, TR3\n",
        "\n",
        "\n",
        "```\n",
        "Step 1. Finds the quiz scores corresponding to the student that have occured in the past month.  \n",
        "- This should ideally be calculated using current date and quiz timestamp but due to a limitation with the mock data, it has been hard coded to include Week5-Week8\n",
        "Step 2. Calculates the average score for each topic from the quizzes taken in the past month\n",
        "Step 3. Returns a data frame of each topic and its corresponding score\n",
        "```\n",
        "\n"
      ],
      "metadata": {
        "id": "9WBdKw3qUApq"
      }
    },
    {
      "cell_type": "code",
      "source": [
        "SR3_PR3_TR3_MonthlyTopicScore<- function(TotalScore,StudentID,SectionID,SubjectID){\n",
        "\n",
        "  StudentID<-as.numeric(StudentID)\n",
        "  SubjectID<-as.numeric(SubjectID)\n",
        "  QuizScoresAll<-TotalScore[which(TotalScore$StudentID==StudentID & TotalScore$SectionID==SectionID & TotalScore$SubjectID==SubjectID),]\n",
        "  QuizScores<-QuizScoresAll[which(QuizScoresAll$QuizStartTime==\"Week5\"|QuizScoresAll$QuizStartTime==\"Week6\"|QuizScoresAll$QuizStartTime==\"Week7\"|QuizScoresAll$QuizStartTime==\"Week8\"),]\n",
        "\n",
        "  if (nrow(QuizScores)==0){\n",
        "    TopicScores<-\"No Quizzes taken this month\"\n",
        "  }\n",
        "  else {\n",
        "    QuizScores$StudentTopic1Score<-as.numeric(QuizScores$StudentTopic1Score)\n",
        "    QuizScores$StudentTopic2Score<-as.numeric(QuizScores$StudentTopic2Score)\n",
        "    QuizScores$StudentTopic3Score<-as.numeric(QuizScores$StudentTopic3Score)\n",
        "\n",
        "    Topic1Score<-mean(QuizScores$StudentTopic1Score)\n",
        "    Topic2Score<-mean(QuizScores$StudentTopic2Score)\n",
        "    Topic3Score<-mean(QuizScores$StudentTopic3Score)\n",
        "\n",
        "    TopicScores<-data.frame(\"Topic1\"=Topic1Score,\"Topic2\"=Topic2Score,\"Topic3\"=Topic3Score)\n",
        "  }\n",
        "\n",
        "  return(TopicScores)\n",
        "}"
      ],
      "metadata": {
        "id": "wxNZHx5lUApq"
      },
      "execution_count": null,
      "outputs": []
    },
    {
      "cell_type": "markdown",
      "source": [
        "Test it out"
      ],
      "metadata": {
        "id": "IxvRrPt2UApq"
      }
    },
    {
      "cell_type": "code",
      "source": [
        "MonthlyTopicScores<-SR3_PR3_TR3_MonthlyTopicScore(TotalScore,\"20\",\"3A\",\"1\")\n",
        "print(MonthlyTopicScores)"
      ],
      "metadata": {
        "id": "UhfaIxdIUApq"
      },
      "execution_count": null,
      "outputs": []
    },
    {
      "cell_type": "markdown",
      "source": [
        "**PR3 Function #2**"
      ],
      "metadata": {
        "id": "xgEfu4EzUApr"
      }
    },
    {
      "cell_type": "markdown",
      "source": [
        "SR3_PR3_TR3_SubjectScore Calculates the average score of a particular student in a particular subject - used in SR3, PR3, TR3\n",
        "\n",
        "\n",
        "```\n",
        "Step 1. Finds all of the quiz scores corresponding to the student in a particular subject\n",
        "Step 2. Calculates the average score for this subject from these quizzes\n",
        "Step 3. Returns a data frame of the subject and its corresponding score\n",
        "```\n",
        "\n"
      ],
      "metadata": {
        "id": "ngXXvaSaUApr"
      }
    },
    {
      "cell_type": "code",
      "source": [
        "SR3_PR3_TR3_SubjectScore<-function(TotalScore,StudentID,SectionID,SubjectID){\n",
        "  StudentID<-as.numeric(StudentID)\n",
        "  UnsortedQuizScores<-TotalScore[which(TotalScore$StudentID==StudentID & TotalScore$SectionID==SectionID & TotalScore$SubjectID==SubjectID),]\n",
        "  SubjectQuizScores<-UnsortedQuizScores[order(UnsortedQuizScores$StudentQuizScore,decreasing=TRUE),]\n",
        "  SubjectQuizScores$StudentQuizScore<-as.numeric(SubjectQuizScores$StudentQuizScore)\n",
        "  AverageSubjectScore<-mean(SubjectQuizScores$StudentQuizScore)\n",
        "  SubjectScore<-data.frame(\"Score\"=AverageSubjectScore)\n",
        "  return(SubjectScore)\n",
        "}"
      ],
      "metadata": {
        "id": "lkq8yqShUApr"
      },
      "execution_count": null,
      "outputs": []
    },
    {
      "cell_type": "markdown",
      "source": [
        "Test it out"
      ],
      "metadata": {
        "id": "T085dpVuUApr"
      }
    },
    {
      "cell_type": "code",
      "source": [
        "SubjectScore<-SR3_PR3_TR3_SubjectScore(TotalScore,\"20\",\"3A\",\"1\")\n",
        "print(SubjectScore)"
      ],
      "metadata": {
        "id": "G8_qoOjiUApr"
      },
      "execution_count": null,
      "outputs": []
    },
    {
      "cell_type": "markdown",
      "source": [
        "**PR3 Function #3**"
      ],
      "metadata": {
        "id": "_GAh9mW9UApr"
      }
    },
    {
      "cell_type": "markdown",
      "source": [
        "SR3_PR3_TR3_SubjectMonthlyScore Calculates the average score of a particular student in a particular subject in this month - used in SR3, PR3, TR3\n",
        "\n",
        "\n",
        "```\n",
        "Step 1. Finds all of the quiz scores corresponding to the student in a particular subject that have occured in the past month\n",
        "- This should ideally be calculated using current date and quiz timestamp but due to a limitation with the mock data, it has been hard coded to include Week5-Week8\n",
        "Step 2. Calculates the average score for this subject from these quizzes\n",
        "Step 3. Returns a data frame of the subject and its corresponding score\n",
        "```\n",
        "\n"
      ],
      "metadata": {
        "id": "U-DVEiFjUApr"
      }
    },
    {
      "cell_type": "code",
      "source": [
        "SR3_PR3_TR3_SubjectMonthlyScore<-function(TotalScore,StudentID,SectionID,SubjectID){\n",
        "  StudentID<-as.numeric(StudentID)\n",
        "  SubjectQuizScores<-TotalScore[which(TotalScore$StudentID==StudentID & TotalScore$SectionID==SectionID & TotalScore$SubjectID==SubjectID),]\n",
        "  RecentQuizScores<-SubjectQuizScores[which(SubjectQuizScores$QuizStartTime==\"Week5\" | SubjectQuizScores$QuizStartTime==\"Week6\" | SubjectQuizScores$QuizStartTime==\"Week7\" | SubjectQuizScores$QuizStartTime==\"Week8\"),]\n",
        "\n",
        "  if (nrow(RecentQuizScores)==0){\n",
        "    SubjectMonthlyScore<-data.frame(\"Score\"=\"No Quizzes taken this month\")\n",
        "  }\n",
        "  else {\n",
        "    RecentQuizScores$StudentQuizScore<-as.numeric(RecentQuizScores$StudentQuizScore)\n",
        "    AverageSubjectScore<-mean(RecentQuizScores$StudentQuizScore)\n",
        "    SubjectMonthlyScore<-data.frame(\"Score\"=AverageSubjectScore)\n",
        "  }\n",
        "\n",
        "  return(SubjectMonthlyScore)\n",
        "}"
      ],
      "metadata": {
        "id": "XdJoh1naUAps"
      },
      "execution_count": null,
      "outputs": []
    },
    {
      "cell_type": "markdown",
      "source": [
        "Test it out"
      ],
      "metadata": {
        "id": "_xndf5MkUAps"
      }
    },
    {
      "cell_type": "code",
      "source": [
        "SubjectMonthlyScore<-SR3_PR3_TR3_SubjectMonthlyScore(TotalScore,\"20\",\"3A\",\"1\")\n",
        "print(SubjectMonthlyScore)"
      ],
      "metadata": {
        "id": "h3bGxS5MUAps"
      },
      "execution_count": null,
      "outputs": []
    },
    {
      "cell_type": "markdown",
      "source": [
        "**PR3 Function #4**"
      ],
      "metadata": {
        "id": "n39efDrRUAps"
      }
    },
    {
      "cell_type": "markdown",
      "source": [
        "SR3_PR3_TR3_RecentSubjectQuizScore Displays the quiz scores for the 3 most recent quizzes taken by a particular student in a particular subject - used in SR3, PR3, TR3\n",
        "\n",
        "\n",
        "```\n",
        "Step 1. Finds the Quiz scores corresponding to a student in one particular subject\n",
        "Step 2. Sorts these Quiz scores in descending order of time i.e most recent to least recent\n",
        "Step 3a.  If there are 3 or more quiz scores, the top 3 quizzes and corresponding scores are returned\n",
        "Step 3b.  If there are 2 quiz scores, both quizzes and their corresponding scores are returned\n",
        "Step 3c.  If there is 1 quiz score, the quiz and its corresponding score is returned\n",
        "Step 3d.  If there are 0 quiz scores, \"No recent quizzes\" is returned\n",
        "```\n",
        "\n"
      ],
      "metadata": {
        "id": "VxglOADEUAps"
      }
    },
    {
      "cell_type": "code",
      "source": [
        "SR3_PR3_TR3_RecentSubjectQuizScores <- function(TotalScore,StudentID,SectionID,SubjectID){\n",
        "  UnsortedQuizScores<-TotalScore[which(TotalScore$StudentID==StudentID & TotalScore$SectionID==SectionID & TotalScore$SubjectID==SubjectID),]\n",
        "  InitialSortedQuizScores<-UnsortedQuizScores[order(UnsortedQuizScores$StudentQuizScore,decreasing=TRUE),]\n",
        "  QuizScores<-InitialSortedQuizScores[!duplicated(InitialSortedQuizScores$QuizID),]\n",
        "\n",
        "  QuizScoresSorted<-QuizScores[order(QuizScores$QuizEndTime,decreasing=TRUE),]\n",
        "  if (nrow(QuizScoresSorted)>=3){\n",
        "    RecentQuiz1Title<-QuizScoresSorted[1,\"QuizID\"]\n",
        "    RecentQuiz1Score<-QuizScoresSorted[1,\"StudentQuizScore\"]\n",
        "    RecentQuiz2Title<-QuizScoresSorted[2,\"QuizID\"]\n",
        "    RecentQuiz2Score<-QuizScoresSorted[2,\"StudentQuizScore\"]\n",
        "    RecentQuiz3Title<-QuizScoresSorted[3,\"QuizID\"]\n",
        "    RecentQuiz3Score<-QuizScoresSorted[3,\"StudentQuizScore\"]\n",
        "    RecentQuizTitles<-c(RecentQuiz1Title,RecentQuiz2Title,RecentQuiz3Title)\n",
        "    RecentQuizScores<-c(RecentQuiz1Score,RecentQuiz2Score,RecentQuiz3Score)\n",
        "  }\n",
        "  else if(nrow(QuizScoresSorted)==2){\n",
        "    RecentQuiz1Title<-QuizScoresSorted[1,\"QuizID\"]\n",
        "    RecentQuiz1Score<-QuizScoresSorted[1,\"StudentQuizScore\"]\n",
        "    RecentQuiz2Title<-QuizScoresSorted[2,\"QuizID\"]\n",
        "    RecentQuiz2Score<-QuizScoresSorted[2,\"StudentQuizScore\"]\n",
        "    RecentQuizTitles<-c(RecentQuiz1Title,RecentQuiz2Title)\n",
        "    RecentQuizScores<-c(RecentQuiz1Score,RecentQuiz2Score)\n",
        "  }\n",
        "  else if (nrow(QuizScoresSorted)==1){\n",
        "    RecentQuiz1Title<-QuizScoresSorted[1,\"QuizID\"]\n",
        "    RecentQuiz1Score<-QuizScoresSorted[1,\"StudentQuizScore\"]\n",
        "    RecentQuizTitles<-c(RecentQuiz1Title)\n",
        "    RecentQuizScores<-c(RecentQuiz1Score)\n",
        "  }\n",
        "  else if (nrow(QuizScoresSorted)==0){\n",
        "    RecentQuizTitles<-\"No Recent Quizzes\"\n",
        "    RecentQuizScores<-\"No Recent Quizzes\"\n",
        "  }\n",
        "\n",
        "  RecentQuizzes<-data.frame(\"Quiz\"=RecentQuizTitles,\"Score\"=RecentQuizScores)\n",
        "  return(RecentQuizzes)\n",
        "}"
      ],
      "metadata": {
        "id": "7m1IYj6hUAps"
      },
      "execution_count": null,
      "outputs": []
    },
    {
      "cell_type": "markdown",
      "source": [
        "Test it out"
      ],
      "metadata": {
        "id": "_5q8xjigUAps"
      }
    },
    {
      "cell_type": "code",
      "source": [
        "RecentQuizScores<-SR3_PR3_TR3_RecentSubjectQuizScores(TotalScore,\"20\",\"3B\",\"1\")\n",
        "print(RecentQuizScores)"
      ],
      "metadata": {
        "id": "ajWsedlkUAps"
      },
      "execution_count": null,
      "outputs": []
    },
    {
      "cell_type": "markdown",
      "source": [
        "**PR3 Function #5**"
      ],
      "metadata": {
        "id": "inbCCx_SUqWn"
      }
    },
    {
      "cell_type": "markdown",
      "source": [
        "PR3_TR3_StudentSubjectAttendance Displays the minutes of class attended by a particular student for a particular subject - used in PR3, TR3\n",
        "\n",
        "\n",
        "```\n",
        "Step 1. Finds attendance records in a particular subject corresponding to a student\n",
        "Step 2. Sums up the attendance minutes for each week\n",
        "Step 3. Returns a dataframe of the Weeks and the attended minutes per week by the student\n",
        "```\n",
        "\n"
      ],
      "metadata": {
        "id": "fnMJPIJPwjXP"
      }
    },
    {
      "cell_type": "code",
      "source": [
        "PR3_TR3_StudentSubjectAttendance<-function(Attendance,StudentID,SectionID,SubjectID){\n",
        "\n",
        "  StudentID<-as.numeric(StudentID)\n",
        "\n",
        "  StudentAttendance<-Attendance[which(Attendance$StudentID==StudentID & Attendance$SectionID==SectionID & Attendance$SubjectID==SubjectID),]\n",
        "\n",
        "  if (nrow(StudentAttendance)==0){\n",
        "    StudentWeeklyAttendance<-data.frame(\"Minutes\"=0)\n",
        "  }\n",
        "  else if (nrow(StudentAttendance)>0){\n",
        "    StudentAttendance$AttendedMinutes<-as.numeric(StudentAttendance$AttendedMinutes)\n",
        "    StudentWeeklyAttendance<-setNames(aggregate(StudentAttendance$AttendedMinutes, by=list(Week=StudentAttendance$ClassStartTime), FUN=sum),c(\"Week\",\"Minutes\"))\n",
        "  }\n",
        "  return(StudentWeeklyAttendance)\n",
        "}"
      ],
      "metadata": {
        "id": "tWuZOFt3wndq"
      },
      "execution_count": null,
      "outputs": []
    },
    {
      "cell_type": "markdown",
      "source": [
        "Test it out"
      ],
      "metadata": {
        "id": "GF4JSD0IVNA4"
      }
    },
    {
      "cell_type": "code",
      "source": [
        "SubjectAttendance<-PR3_TR3_StudentSubjectAttendance(Attendance,\"20\",\"3A\",\"2\")\n",
        "print(SubjectAttendance)"
      ],
      "metadata": {
        "colab": {
          "base_uri": "https://localhost:8080/"
        },
        "id": "uDl7tf4RVOPy",
        "outputId": "e30f8431-f3ee-4230-c851-17d1972b479b"
      },
      "execution_count": null,
      "outputs": [
        {
          "output_type": "stream",
          "name": "stdout",
          "text": [
            "   Week Minutes\n",
            "1 Week1      75\n",
            "2 Week2     100\n",
            "3 Week3      93\n"
          ]
        }
      ]
    },
    {
      "cell_type": "markdown",
      "source": [
        "**PR3 Function #6**"
      ],
      "metadata": {
        "id": "s-CraVWSUuYR"
      }
    },
    {
      "cell_type": "markdown",
      "source": [
        "PR3_TR3_SubjectScoreProgression is Used to plot the progression of quiz scores of a particular student over time, both for their overall scores and a particular subject score - used in PR3, TR3\n",
        "\n",
        "\n",
        "```\n",
        "Step 1. Finds quiz scores corresponding to a student\n",
        "Step 2. Calls the function (PR2_PR3_TR3_ScoreCount) 2 times which calculates the average quiz score for a student in a particular week\n",
        "a. For all of the quiz scores\n",
        "b. For one specified subject's quiz scores\n",
        "Step 3. Returns the overall average score and average specified subject score corresponding to every week\n",
        "```\n",
        "\n",
        "\n"
      ],
      "metadata": {
        "id": "9_CdhF7U1BGx"
      }
    },
    {
      "cell_type": "code",
      "source": [
        "PR3_TR3_SubjectScoreProgression <- function (TotalScore,StudentID,SectionID,SubjectID) {\n",
        "\n",
        "  StudentID<-as.numeric(StudentID)\n",
        "\n",
        "  QuizScores<-TotalScore[which(TotalScore$StudentID==StudentID & TotalScore$SectionID==SectionID),]\n",
        "\n",
        "  OverallWeeklyScoreList<-PR2_PR3_TR3_ScoreCount(QuizScores)\n",
        "  OverallWeeklyScoreListunname<-unname(OverallWeeklyScoreList)\n",
        "  OverallWeeklyScores<-unlist(OverallWeeklyScoreListunname)\n",
        "\n",
        "  SubjectQuizScores<-QuizScores[which(QuizScores$SubjectID==SubjectID),]\n",
        "  SubjectWeeklyScoreList<-PR2_PR3_TR3_ScoreCount(SubjectQuizScores)\n",
        "  SubjectWeeklyScoreListunname<-unname(SubjectWeeklyScoreList)\n",
        "  SubjectWeeklyScores<-unlist(SubjectWeeklyScoreListunname)\n",
        "\n",
        "\n",
        "  Weeks<-c(\"Week1\",\"Week2\",\"Week3\",\"Week4\",\"Week5\",\"Week6\",\"Week7\",\"Week8\")\n",
        "  WeeklyScores<-data.frame(\"Weeks\"=Weeks,\"Overall\"=OverallWeeklyScores,\"Subject\"=SubjectWeeklyScores)\n",
        "\n",
        "\n",
        "  return(WeeklyScores)\n",
        "}"
      ],
      "metadata": {
        "id": "XT4JHpDw1Gvl"
      },
      "execution_count": null,
      "outputs": []
    },
    {
      "cell_type": "markdown",
      "source": [
        "Test it out"
      ],
      "metadata": {
        "id": "ur_doRfpXI1x"
      }
    },
    {
      "cell_type": "code",
      "source": [
        "SubjectScoreProgression<-PR3_TR3_SubjectScoreProgression(TotalScore,\"20\",\"3A\",\"1\")\n",
        "print(SubjectScoreProgression)"
      ],
      "metadata": {
        "id": "tMnGtCF7XJzB"
      },
      "execution_count": null,
      "outputs": []
    },
    {
      "cell_type": "markdown",
      "source": [
        "#TR1: Teacher - Student Quiz Summary"
      ],
      "metadata": {
        "id": "r92ql9guXaUu"
      }
    },
    {
      "cell_type": "markdown",
      "source": [
        "**TR1 Function #1**"
      ],
      "metadata": {
        "id": "PGGbLS-RXm-m"
      }
    },
    {
      "cell_type": "markdown",
      "source": [
        "SR1_PR1_TR1_GetStudentQuizList displays a list of the quizzes taken by an individual student in a particular subject - used in SR1, PR1, TR1\n",
        "\n",
        "\n",
        "\n",
        "```\n",
        "Step 1. Finds quiz scores corresponding to the selected student\n",
        "Step 2. Returns a list of the quizzes taken by the student\n",
        "```\n",
        "\n"
      ],
      "metadata": {
        "id": "8CgKlNBaXm-m"
      }
    },
    {
      "cell_type": "code",
      "source": [
        "SR1_PR1_TR1_GetStudentQuizList<- function(TotalScore,StudentID,SectionID,SubjectID){\n",
        "  StudentID<-as.numeric(StudentID)\n",
        "  SectionID<-as.character(SectionID)\n",
        "  SubjectID<-as.numeric(SubjectID)\n",
        "  StudentsQuizzes<-TotalScore[which(TotalScore$StudentID==StudentID & TotalScore$SectionID==SectionID & TotalScore$SubjectID==SubjectID),]\n",
        "\n",
        "  list=as.list(StudentsQuizzes)\n",
        "\n",
        "  StudentQuizID<-list$QuizID\n",
        "  return(StudentQuizID)\n",
        "}"
      ],
      "metadata": {
        "id": "_-wDRCd4Xm-m"
      },
      "execution_count": null,
      "outputs": []
    },
    {
      "cell_type": "markdown",
      "source": [
        "Test it out"
      ],
      "metadata": {
        "id": "k_wzhXJvXm-n"
      }
    },
    {
      "cell_type": "code",
      "source": [
        "SR1_PR1_TR1_GetStudentQuizList(TotalScore,\"20\",\"3A\",\"1\")"
      ],
      "metadata": {
        "id": "0jvHJ0hSXm-n"
      },
      "execution_count": null,
      "outputs": []
    },
    {
      "cell_type": "markdown",
      "source": [
        "**TR1 Function #2**\n"
      ],
      "metadata": {
        "id": "QIg_lP6qXm-n"
      }
    },
    {
      "cell_type": "markdown",
      "source": [
        "\n",
        "SR1_PR1_TR1_StudentQuizScore displays the Score of a student in a particular quiz - used in SR1, PR1, TR1\n",
        "\n",
        "\n",
        "\n",
        "```\n",
        "Step 1. Finds quiz details corresponding to the student and quiz selected\n",
        "Step 2. Returns the corresponding quiz score\n",
        "```\n",
        "\n"
      ],
      "metadata": {
        "id": "72v_EwrBXm-n"
      }
    },
    {
      "cell_type": "code",
      "source": [
        "SR1_PR1_TR1_StudentQuizScore<-function(TotalScore,StudentID,SectionID,SubjectID,QuizID){\n",
        "  StudentID<-as.numeric(StudentID)\n",
        "  SubjectID<-as.numeric(SubjectID)\n",
        "  StudentQuizScore<-TotalScore[which(TotalScore$StudentID==StudentID & TotalScore$SectionID==SectionID & TotalScore$SubjectID==SubjectID & TotalScore$QuizID==QuizID),]\n",
        "  QuizScore<-data.frame(\n",
        "    \"Score\" = (StudentQuizScore$StudentQuizScore)\n",
        "  )\n",
        "  return (QuizScore)\n",
        "}"
      ],
      "metadata": {
        "id": "lehsDB26Xm-n"
      },
      "execution_count": null,
      "outputs": []
    },
    {
      "cell_type": "markdown",
      "source": [
        "Test it out"
      ],
      "metadata": {
        "id": "aFyeXB7gXm-n"
      }
    },
    {
      "cell_type": "code",
      "source": [
        "StudentsQuizScore<-SR1_PR1_TR1_StudentQuizScore (TotalScore,\"20\",\"3A\",\"1\",\"EOSQ1\")\n",
        "print(StudentsQuizScore)"
      ],
      "metadata": {
        "id": "0aS82pbOXm-n"
      },
      "execution_count": null,
      "outputs": []
    },
    {
      "cell_type": "markdown",
      "source": [
        "**TR1 Function #3**"
      ],
      "metadata": {
        "id": "KR-g8QW5Xm-n"
      }
    },
    {
      "cell_type": "markdown",
      "source": [
        "SR1_PR1_TR1_StudentAnswerBreakdown Displays a breakdown of the Score of a student in a particular quiz by showing the number of questions answered correctly, answered incorrectly and unanswered - used in SR1, PR1, TR1\n",
        "\n",
        "\n",
        "\n",
        "```\n",
        "Step 1. Finds quiz details corresponding to the student and quiz selected\n",
        "Step 2. Returns the score in terms of Correct Questions, Incorrect Questions, Unanswered Questions\n",
        "```\n",
        "\n"
      ],
      "metadata": {
        "id": "sceBQKCaXm-n"
      }
    },
    {
      "cell_type": "code",
      "source": [
        "SR1_PR1_TR1_StudentAnswerBreakdown<-function(TotalScore,StudentID,SectionID,SubjectID,QuizID){\n",
        "  StudentID<-as.numeric(StudentID)\n",
        "  SubjectID<-as.numeric(SubjectID)\n",
        "  StudentQuizScore<-TotalScore[which(TotalScore$StudentID==StudentID & TotalScore$SectionID==SectionID & TotalScore$SubjectID==SubjectID & TotalScore$QuizID==QuizID),]\n",
        "  StudentCorrect<-StudentQuizScore[1,\"StudentCorrect\"]\n",
        "  StudentIncorrect<-StudentQuizScore[1,\"StudentIncorrect\"]\n",
        "  StudentUnanswered<-StudentQuizScore[1,\"StudentUnanswered\"]\n",
        "  StudentAnswerBreakdown<-data.frame( \"Correct\"=StudentCorrect,\"Incorrect\"=StudentIncorrect,\"Unanswered\"=StudentUnanswered\n",
        "  )\n",
        "  return (StudentAnswerBreakdown)\n",
        "}"
      ],
      "metadata": {
        "id": "32ggzbZkXm-n"
      },
      "execution_count": null,
      "outputs": []
    },
    {
      "cell_type": "markdown",
      "source": [
        "Test it out"
      ],
      "metadata": {
        "id": "6uu7nAcHXm-o"
      }
    },
    {
      "cell_type": "code",
      "source": [
        "StudentAnswerBreakdown<-SR1_PR1_TR1_StudentAnswerBreakdown(TotalScore,\"20\",\"3A\",\"1\",\"EOSQ1\")\n",
        "print(StudentAnswerBreakdown)"
      ],
      "metadata": {
        "colab": {
          "base_uri": "https://localhost:8080/"
        },
        "outputId": "f976c40e-9205-4415-e96a-e72fb88357a7",
        "id": "Y4Q99yI2Xm-o"
      },
      "execution_count": null,
      "outputs": [
        {
          "output_type": "stream",
          "name": "stdout",
          "text": [
            "  Correct Incorrect Unanswered\n",
            "1      12         6          2\n"
          ]
        }
      ]
    },
    {
      "cell_type": "markdown",
      "source": [
        "**TR1 Function #4**"
      ],
      "metadata": {
        "id": "9dmsVw0HXm-o"
      }
    },
    {
      "cell_type": "markdown",
      "source": [
        "SR1_PR1_TR1_StudentTopicBreakdown Displays a breakdown of the Score of a student in a particular quiz based on the topic of the questions - used in SR1, PR1, TR1\n",
        "\n",
        "\n",
        "```\n",
        "Step 1. Finds quiz details corresponding to the student and quiz selected\n",
        "Step 2. Returns the score received by a student in each topic included in the quiz\n",
        "```\n",
        "\n",
        "\n"
      ],
      "metadata": {
        "id": "a6H5BIRlXm-o"
      }
    },
    {
      "cell_type": "code",
      "source": [
        "SR1_PR1_TR1_StudentTopicBreakdown<-function(TotalScore,StudentID,SectionID,SubjectID,QuizID){\n",
        "  StudentID<-as.numeric(StudentID)\n",
        "  SubjectID<-as.numeric(SubjectID)\n",
        "  StudentQuizScore<-TotalScore[which(TotalScore$StudentID==StudentID & TotalScore$SectionID==SectionID & TotalScore$SubjectID==SubjectID & TotalScore$QuizID==QuizID),]\n",
        "\n",
        "  StudentTopic1Score<-StudentQuizScore$StudentTopic1Score\n",
        "  StudentTopic2Score<-StudentQuizScore$StudentTopic2Score\n",
        "  StudentTopic3Score<-StudentQuizScore$StudentTopic3Score\n",
        "  StudentTopicBreakdown<-data.frame( \"Topic1\"=StudentTopic1Score,\"Topic2\"=StudentTopic2Score,\"Topic3\"=StudentTopic1Score\n",
        "  )\n",
        "  return (StudentTopicBreakdown)\n",
        "}"
      ],
      "metadata": {
        "id": "9vJnXdWHXm-o"
      },
      "execution_count": null,
      "outputs": []
    },
    {
      "cell_type": "markdown",
      "source": [
        "Test it out"
      ],
      "metadata": {
        "id": "iRCX41tGXm-p"
      }
    },
    {
      "cell_type": "code",
      "source": [
        "StudentTopicBreakdown<-SR1_PR1_TR1_StudentTopicBreakdown(TotalScore,\"20\",\"3A\",\"1\",\"EOSQ1\")\n",
        "print(StudentTopicBreakdown)"
      ],
      "metadata": {
        "id": "L31ijHHKXm-p"
      },
      "execution_count": null,
      "outputs": []
    },
    {
      "cell_type": "markdown",
      "source": [
        "**TR1 Function #5**"
      ],
      "metadata": {
        "id": "7h-szyBPXm-p"
      }
    },
    {
      "cell_type": "markdown",
      "source": [
        "PR1_TR1_StudentDifficultyBreakdown Displays a breakdown of the Score of a student in a particular quiz based on the difficulty of the questions - used in PR1, TR1\n",
        "\n",
        "\n",
        "```\n",
        "Step 1. Finds quiz details corresponding to the student and quiz selected\n",
        "Step 2. Returns the score received by a student in each level of difficulty (Easy,Medium,Difficult) included in the quiz\n",
        "```\n",
        "\n"
      ],
      "metadata": {
        "id": "uEYXKVkAXm-p"
      }
    },
    {
      "cell_type": "code",
      "source": [
        "PR1_TR1_StudentDifficultyBreakdown<-function(TotalScore,StudentID,SectionID,SubjectID,QuizID){\n",
        "  StudentID<-as.numeric(StudentID)\n",
        "  SubjectID<-as.numeric(SubjectID)\n",
        "  StudentQuizScore<-TotalScore[which(TotalScore$StudentID==StudentID & TotalScore$SectionID==SectionID & TotalScore$SubjectID==SubjectID & TotalScore$QuizID==QuizID),]\n",
        "  DescStudentQuizScore<-StudentQuizScore[order(StudentQuizScore$StudentQuizScore,decreasing=TRUE),]\n",
        "  StudentEasyScore<-DescStudentQuizScore[1,\"StudentEasyScore\"]\n",
        "  StudentMediumScore<-DescStudentQuizScore[1,\"StudentMediumScore\"]\n",
        "  StudentDifficultScore<-DescStudentQuizScore[1,\"StudentDifficultScore\"]\n",
        "  StudentDifficultyBreakdown<-data.frame( \"EasyScore\"=StudentEasyScore,\"MediumScore\"=StudentMediumScore,\"DifficultScore\"=StudentDifficultScore\n",
        "  )\n",
        "  return (StudentDifficultyBreakdown)\n",
        "}"
      ],
      "metadata": {
        "id": "drxZIfByXm-p"
      },
      "execution_count": null,
      "outputs": []
    },
    {
      "cell_type": "markdown",
      "source": [
        "Test it out"
      ],
      "metadata": {
        "id": "aeQTG5dbXm-p"
      }
    },
    {
      "cell_type": "code",
      "source": [
        "StudentDifficultyBreakdown<-PR1_TR1_StudentDifficultyBreakdown(TotalScore,\"20\",\"3A\",\"1\",\"EOSQ1\")\n",
        "print(StudentDifficultyBreakdown)"
      ],
      "metadata": {
        "id": "QfBcAKzNXm-p"
      },
      "execution_count": null,
      "outputs": []
    },
    {
      "cell_type": "markdown",
      "source": [
        "**TR1 Function #6**"
      ],
      "metadata": {
        "id": "iCZ56kALXm-p"
      }
    },
    {
      "cell_type": "markdown",
      "source": [
        "PR1_TR1_StudentBloomsBreakdown Displays a breakdown of the Score of a student in a particular quiz based on the blooms level of the questions - used in PR1, TR1\n",
        "\n",
        "\n",
        "```\n",
        "Step 1. Finds quiz details corresponding to the student and quiz selected\n",
        "Step 2. Returns the score received by a student in each blooms level (Knowledge, Analysis, Application, Comprehension) included in the quiz\n",
        "```\n",
        "\n"
      ],
      "metadata": {
        "id": "pBG0R54aXm-p"
      }
    },
    {
      "cell_type": "code",
      "source": [
        "PR1_TR1_StudentBloomsBreakdown<-function(TotalScore,StudentID,SectionID,SubjectID,QuizID){\n",
        "  StudentID<-as.numeric(StudentID)\n",
        "  SubjectID<-as.numeric(SubjectID)\n",
        "  StudentQuizScore<-TotalScore[which(TotalScore$StudentID==StudentID & TotalScore$SectionID==SectionID & TotalScore$SubjectID==SubjectID & TotalScore$QuizID==QuizID),]\n",
        "  DescStudentQuizScore<-StudentQuizScore[order(StudentQuizScore$StudentQuizScore,decreasing=TRUE),]\n",
        "  StudentKnowledgeScore<-DescStudentQuizScore[1,\"StudentKnowledgeScore\"]\n",
        "  StudentApplicationScore<-DescStudentQuizScore[1,\"StudentApplicationScore\"]\n",
        "  StudentAnalysisScore<-DescStudentQuizScore[1,\"StudentAnalysisScore\"]\n",
        "  StudentComprehensionScore<-DescStudentQuizScore[1,\"StudentComprehensionScore\"]\n",
        "  StudentBloomsBreakdown<-data.frame( \"KnowledgeScore\"=StudentKnowledgeScore,\"ApplicationScore\"=StudentApplicationScore,\"AnalysisScore\"=StudentAnalysisScore, \"ComprehensionScore\"=StudentComprehensionScore\n",
        "  )\n",
        "  return (StudentBloomsBreakdown)\n",
        "}"
      ],
      "metadata": {
        "id": "QYRWSOZuXm-p"
      },
      "execution_count": null,
      "outputs": []
    },
    {
      "cell_type": "markdown",
      "source": [
        "Test it out"
      ],
      "metadata": {
        "id": "6jfAz01KXm-q"
      }
    },
    {
      "cell_type": "code",
      "source": [
        "StudentBloomsBreakdown<-PR1_TR1_StudentBloomsBreakdown(TotalScore,\"20\",\"3A\",\"1\",\"EOSQ1\")\n",
        "print(StudentBloomsBreakdown)"
      ],
      "metadata": {
        "id": "sDLSXJCXXm-q"
      },
      "execution_count": null,
      "outputs": []
    },
    {
      "cell_type": "markdown",
      "source": [
        "**TR1 Function #7**"
      ],
      "metadata": {
        "id": "LV1GQLkAX83z"
      }
    },
    {
      "cell_type": "markdown",
      "source": [
        "TR1_StudentQuizRank Displays the standing of a particular student amongst the other students in the section based on their quiz score - used in TR1\n",
        "\n",
        "\n",
        "\n",
        "```\n",
        "Step 1. Finds the quiz records corresponding to the students in the same section as the selected student for that particular quiz\n",
        "Step 2. Arranges the scores of all of the students in the section in descending order\n",
        "Step 3. Finds the average score by the students in that section\n",
        "Step 4. Finds the maximum score by a student in that section\n",
        "Step 5. Finds the minimum score by a student in that section\n",
        "Step 6. As the scores are arranged in descending order, each student is assigned their row number as their rank\n",
        "Step 7. If more than one student has the same score, their rank should be the same.  Hence, for each student, if their score is the same as that of the student in the previous row, their rank is replaced with the rank of the student in the previous row.\n",
        "Step 8. Returns a dataframe with the section average score, section maximum score, section minimum score and rank for the selected student\n",
        "```\n",
        "\n"
      ],
      "metadata": {
        "id": "eyihY9dFv2tn"
      }
    },
    {
      "cell_type": "code",
      "source": [
        "TR1_StudentQuizRank<- function(TotalScore,StudentID,SectionID,SubjectID,QuizID){\n",
        "\n",
        "  InpStudentID<-as.numeric(StudentID)\n",
        "  SubjectID<-as.numeric(SubjectID)\n",
        "  UnsortedQuizScores<-TotalScore[which(TotalScore$QuizID==QuizID & TotalScore$SectionID==SectionID & TotalScore$SubjectID==SubjectID),]\n",
        "  QuizScores<-UnsortedQuizScores[order(UnsortedQuizScores$StudentQuizScore,decreasing=TRUE),]\n",
        "  QuizScores$StudentQuizScore<-as.numeric(QuizScores$StudentQuizScore)\n",
        "  QuizSectionAverage<-mean(QuizScores$StudentQuizScore)\n",
        "  QuizSectionMax<-max(QuizScores$StudentQuizScore)\n",
        "  QuizSectionMin<-min(QuizScores$StudentQuizScore)\n",
        "\n",
        "  StudentIDs<-c(QuizScores$StudentID)\n",
        "  StudentScores<-c(QuizScores$StudentQuizScore)\n",
        "  StudentRanks<-c(1:nrow(QuizScores))\n",
        "  QuizRanks<-data.frame(\"Rank\"=StudentRanks,\"StudentID\"=StudentIDs,\"Score\"=StudentScores)\n",
        "\n",
        "  for (i in 2:nrow(QuizRanks)){\n",
        "    if (QuizRanks$Score[i]==QuizRanks$Score[i-1]){\n",
        "      QuizRanks$Rank[i]=QuizRanks$Rank[i-1]\n",
        "    }\n",
        "  }\n",
        "\n",
        "  StudentRow<-which(QuizRanks$StudentID==InpStudentID)\n",
        "  StudentRank<-QuizRanks$Rank[StudentRow]\n",
        "  StudentStandings<-data.frame(\"QuizAverage\"=QuizSectionAverage,\"QuizMaximumScore\"=QuizSectionMax,\"QuizMinimumScore\"=QuizSectionMin,\"StudentRank\"=StudentRank)\n",
        "  return(StudentStandings)\n",
        "}\n"
      ],
      "metadata": {
        "id": "M5QSuHHdv65K"
      },
      "execution_count": null,
      "outputs": []
    },
    {
      "cell_type": "markdown",
      "source": [
        "Test it out"
      ],
      "metadata": {
        "id": "jf-m0ndYX_rq"
      }
    },
    {
      "cell_type": "code",
      "source": [
        "StudentStandings<-TR1_StudentQuizRank(TotalScore,\"20\",\"3A\",\"1\",\"EOSQ1\")\n",
        "print(StudentStandings)"
      ],
      "metadata": {
        "colab": {
          "base_uri": "https://localhost:8080/"
        },
        "id": "81ftfqF6YHTO",
        "outputId": "d1b4c67f-e84f-488b-c893-82e60eaffc94"
      },
      "execution_count": null,
      "outputs": [
        {
          "output_type": "stream",
          "name": "stdout",
          "text": [
            "  QuizAverage QuizMaximumScore QuizMinimumScore StudentRank\n",
            "1    73.33333               85               60           5\n"
          ]
        }
      ]
    },
    {
      "cell_type": "markdown",
      "source": [
        "# TR2: Teacher - Section Quiz Summary"
      ],
      "metadata": {
        "id": "AH78su-oufAj"
      }
    },
    {
      "cell_type": "markdown",
      "source": [
        "**TR2 Function #1**"
      ],
      "metadata": {
        "id": "aE_DiVyp0BHj"
      }
    },
    {
      "cell_type": "markdown",
      "source": [
        "TR2_HistogramQuiz is used to display a histogram of Student Quiz Scores for a particular quiz - used in TR2\n",
        "\n",
        "\n",
        "\n",
        "```\n",
        "Step 1. Finds quiz scores for a particular quiz by the students in a particular section\n",
        "Step 2. Finds the number of students with a score that falls in the range of 0-10,10-20,...90-100\n",
        "Step 3. Plots this data in a histogram\n",
        "```\n",
        "\n",
        "\n"
      ],
      "metadata": {
        "id": "gFOas5xGxq5E"
      }
    },
    {
      "cell_type": "code",
      "source": [
        "TR2_HistogramQuiz <- function(TotalScore,QuizID,SectionID,SubjectID){\n",
        "  QuizScores<-TotalScore[which(TotalScore$QuizID==QuizID & TotalScore$SectionID==SectionID & TotalScore$SubjectID==SubjectID),]\n",
        "  QuizScores$StudentQuizScore<-as.numeric(QuizScores$StudentQuizScore)\n",
        "  hist(QuizScores$StudentQuizScore,xlab=\"Quiz Scores\",col=\"#75AADB\",border=\"white\",breaks=5, main=\"Histogram of Quiz Scores\")\n",
        "  return(QuizScores)\n",
        "}"
      ],
      "metadata": {
        "id": "64zmD84K0toR"
      },
      "execution_count": null,
      "outputs": []
    },
    {
      "cell_type": "markdown",
      "source": [
        "Test it out"
      ],
      "metadata": {
        "id": "h1E5aijV0qXF"
      }
    },
    {
      "cell_type": "code",
      "source": [
        "TR2_HistogramQuiz(TotalScore,\"EOSQ1\",\"3A\",\"1\")"
      ],
      "metadata": {
        "id": "R9iL_ua70rt9"
      },
      "execution_count": null,
      "outputs": []
    },
    {
      "cell_type": "markdown",
      "source": [
        "**TR2 Function #2**"
      ],
      "metadata": {
        "id": "nwUjarxn44fa"
      }
    },
    {
      "cell_type": "markdown",
      "source": [
        "TR2_SectionQuizList displays a list of the quizzes taken by the students in an individual section in a particular subject - used in TR2\n",
        "\n",
        "\n",
        "```\n",
        "Step 1. Finds Quiz scores corresponding to the students in a section\n",
        "Step 2. Returns a unique list of the different quizzes taken by the student\n",
        "```\n",
        "\n"
      ],
      "metadata": {
        "id": "CSpqDsKjt6g4"
      }
    },
    {
      "cell_type": "code",
      "source": [
        "TR2_SectionQuizList<-function(TotalScore,SectionID,SubjectID){\n",
        "  SectionID<-as.character(SectionID)\n",
        "  SubjectID<-as.numeric(SubjectID)\n",
        "\n",
        "  SectionQuizzes<-TotalScore[which(TotalScore$SectionID==SectionID & TotalScore$SubjectID==SubjectID),]\n",
        "\n",
        "  list=as.list(SectionQuizzes)\n",
        "\n",
        "  SectionQuizID<-list$QuizID\n",
        "  return(SectionQuizID)\n",
        "}"
      ],
      "metadata": {
        "id": "F-QA2fOSuDOC"
      },
      "execution_count": null,
      "outputs": []
    },
    {
      "cell_type": "markdown",
      "source": [
        "Test it out"
      ],
      "metadata": {
        "id": "uXwcs6lm8tAq"
      }
    },
    {
      "cell_type": "code",
      "source": [
        "QuizList<-TR2_SectionQuizList(TotalScore,\"3A\",\"1\")\n",
        "print(QuizList)"
      ],
      "metadata": {
        "id": "gZXFwnin87pN"
      },
      "execution_count": null,
      "outputs": []
    },
    {
      "cell_type": "markdown",
      "source": [
        "**TR2 Function #3**"
      ],
      "metadata": {
        "id": "RccuDuzi9wjO"
      }
    },
    {
      "cell_type": "markdown",
      "source": [
        "TR2_SectionTopicBreakdown Displays a breakdown of the Average Score of the students in a particular section in a particular quiz based on the topic of the questions - used in TR2\n",
        "\n",
        "\n",
        "```\n",
        "Step 1. Finds the quiz scores corresponding to the students in a particular section in a particular quiz\n",
        "Step 2. Finds the average score of the students in every topic of the quiz\n",
        "Step 3. Returns a dataframe of the topic number and the corresponding average section score in that topic\n",
        "```\n",
        "\n"
      ],
      "metadata": {
        "id": "b7a5AhqTvQN1"
      }
    },
    {
      "cell_type": "code",
      "source": [
        "TR2_SectionTopicBreakdown<-function(TotalScore,SectionID,SubjectID,QuizID){\n",
        "  SubjectID<-as.numeric(SubjectID)\n",
        "  QuizScores<-TotalScore[which(TotalScore$SectionID==SectionID & TotalScore$SubjectID==SubjectID & TotalScore$QuizID==QuizID),]\n",
        "  QuizScores$StudentTopic1Score<-as.numeric(QuizScores$StudentTopic1Score)\n",
        "  QuizScores$StudentTopic2Score<-as.numeric(QuizScores$StudentTopic2Score)\n",
        "  QuizScores$StudentTopic3Score<-as.numeric(QuizScores$StudentTopic3Score)\n",
        "  SectionTopic1Score<-mean(QuizScores$StudentTopic1Score)\n",
        "  SectionTopic2Score<-mean(QuizScores$StudentTopic2Score)\n",
        "  SectionTopic3Score<-mean(QuizScores$StudentTopic3Score)\n",
        "  SectionTopicBreakdown<-data.frame( \"Topic1\"=SectionTopic1Score,\"Topic2\"=SectionTopic2Score,\"Topic3\"=SectionTopic3Score\n",
        "  )\n",
        "  return (SectionTopicBreakdown)\n",
        "}"
      ],
      "metadata": {
        "id": "FlZn6t-nvT40"
      },
      "execution_count": null,
      "outputs": []
    },
    {
      "cell_type": "markdown",
      "source": [
        "Test it out"
      ],
      "metadata": {
        "id": "jlim-DRr-7nx"
      }
    },
    {
      "cell_type": "code",
      "source": [
        "SectionTopicBreakdown<-TR2_SectionTopicBreakdown(TotalScore,\"3A\",\"1\",\"EOSQ1\")\n",
        "print(SectionTopicBreakdown)"
      ],
      "metadata": {
        "colab": {
          "base_uri": "https://localhost:8080/"
        },
        "id": "YljcCHee-8io",
        "outputId": "a31895f2-aab0-40ae-9464-8e037c29b993"
      },
      "execution_count": null,
      "outputs": [
        {
          "output_type": "stream",
          "name": "stdout",
          "text": [
            "    Topic1   Topic2   Topic3\n",
            "1 47.46667 36.23333 65.11667\n"
          ]
        }
      ]
    },
    {
      "cell_type": "markdown",
      "source": [
        "**TR2 Function #4**"
      ],
      "metadata": {
        "id": "04ii3-_i_M5a"
      }
    },
    {
      "cell_type": "markdown",
      "source": [
        "TR2_SectionDifficultyBreakdown Displays a breakdown of the Average Score of the students in a particular section in a particular quiz based on the difficulty of the questions - used in TR2\n",
        "\n",
        "\n",
        "```\n",
        "Step 1. Finds the quiz scores corresponding to the students in a particular section in a particular quiz\n",
        "Step 2. Finds the average score of the students in the questions of various difficulty levels in the quiz\n",
        "Step 3. Returns a dataframe of the difficulty level and the corresponding average section score in that level\n",
        "```\n",
        "\n"
      ],
      "metadata": {
        "id": "tXPJ7YffvefF"
      }
    },
    {
      "cell_type": "code",
      "source": [
        "TR2_SectionDifficultyBreakdown<-function(TotalScore,SectionID,SubjectID,QuizID){\n",
        "  SubjectID<-as.numeric(SubjectID)\n",
        "  QuizScores<-TotalScore[which(TotalScore$SectionID==SectionID & TotalScore$SubjectID==SubjectID & TotalScore$QuizID==QuizID),]\n",
        "  QuizScores$StudentEasyScore<-as.numeric(QuizScores$StudentEasyScore)\n",
        "  QuizScores$StudentMediumScore<-as.numeric(QuizScores$StudentMediumScore)\n",
        "  QuizScores$StudentDifficultScore<-as.numeric(QuizScores$StudentDifficultScore)\n",
        "  SectionEasyScore<-mean(QuizScores$StudentEasyScore)\n",
        "  SectionMediumScore<-mean(QuizScores$StudentMediumScore)\n",
        "  SectionDifficultScore<-mean(QuizScores$StudentDifficultScore)\n",
        "  SectionDifficultyBreakdown<-data.frame( \"Easy\"=SectionEasyScore,\"Medium\"=SectionMediumScore,\"Difficult\"=SectionDifficultScore\n",
        "  )\n",
        "  return (SectionDifficultyBreakdown)\n",
        "}"
      ],
      "metadata": {
        "id": "klFwTkXSvh3T"
      },
      "execution_count": null,
      "outputs": []
    },
    {
      "cell_type": "markdown",
      "source": [
        "Test it out"
      ],
      "metadata": {
        "id": "ukm9fI0G_VLT"
      }
    },
    {
      "cell_type": "code",
      "source": [
        "SectionDifficultyBreakdown<-TR2_SectionDifficultyBreakdown(TotalScore,\"3A\",\"1\",\"EOSQ1\")\n",
        "print(SectionDifficultyBreakdown)"
      ],
      "metadata": {
        "colab": {
          "base_uri": "https://localhost:8080/"
        },
        "outputId": "a199c4e6-bffa-4ad2-cb49-dcd124d89ba3",
        "id": "wMfrSe9r_YuJ"
      },
      "execution_count": null,
      "outputs": [
        {
          "output_type": "stream",
          "name": "stdout",
          "text": [
            "      Easy   Medium Difficult\n",
            "1 68.86667 34.46667  35.03333\n"
          ]
        }
      ]
    },
    {
      "cell_type": "markdown",
      "source": [
        "**TR2 Function #5**"
      ],
      "metadata": {
        "id": "JYHD_Sw8Amx5"
      }
    },
    {
      "cell_type": "markdown",
      "source": [
        "TR2_SectionBloomsBreakdown Displays a breakdown of the Average Score of the students in a particular section in a particular quiz based on the blooms levels of the questions - used in TR2\n",
        "\n",
        "\n",
        "```\n",
        "Step 1. Finds the quiz scores corresponding to the students in a particular section in a particular quiz\n",
        "Step 2. Finds the average score of the students in the questions of various blooms levels in the quiz\n",
        "Step 3. Returns a dataframe of the blooms level and the corresponding average section score in that level\n",
        "```\n",
        "\n"
      ],
      "metadata": {
        "id": "KU-C4EbSvwKp"
      }
    },
    {
      "cell_type": "code",
      "source": [
        "TR2_SectionBloomsBreakdown<-function(TotalScore,SectionID,SubjectID,QuizID){\n",
        "  SubjectID<-as.numeric(SubjectID)\n",
        "  QuizScores<-TotalScore[which(TotalScore$SectionID==SectionID & TotalScore$SubjectID==SubjectID & TotalScore$QuizID==QuizID),]\n",
        "  QuizScores$StudentKnowledgeScore<-as.numeric(QuizScores$StudentKnowledgeScore)\n",
        "  QuizScores$StudentApplicationScore<-as.numeric(QuizScores$StudentApplicationScore)\n",
        "  QuizScores$StudentAnalysisScore<-as.numeric(QuizScores$StudentAnalysisScore)\n",
        "  QuizScores$StudentComprehensionScore<-as.numeric(QuizScores$StudentComprehensionScore)\n",
        "  SectionKnowledgeScore<-mean(QuizScores$StudentKnowledgeScore)\n",
        "  SectionApplicationScore<-mean(QuizScores$StudentApplicationScore)\n",
        "  SectionAnalysisScore<-mean(QuizScores$StudentAnalysisScore)\n",
        "  SectionComprehensionScore<-mean(QuizScores$StudentComprehensionScore)\n",
        "  SectionBloomsBreakdown<-data.frame( \"Knowledge\"=SectionKnowledgeScore,\"Application\"=SectionApplicationScore,\"Analysis\"=SectionAnalysisScore,\"Comprehension\"=SectionComprehensionScore\n",
        "  )\n",
        "  return (SectionBloomsBreakdown)\n",
        "}"
      ],
      "metadata": {
        "id": "BeuqTZmQv0SS"
      },
      "execution_count": null,
      "outputs": []
    },
    {
      "cell_type": "markdown",
      "source": [
        "Test it out"
      ],
      "metadata": {
        "id": "4_ZGu_hFBkPl"
      }
    },
    {
      "cell_type": "code",
      "source": [
        "SectionBloomsBreakdown<-TR2_SectionBloomsBreakdown(TotalScore,\"3A\",\"1\",\"EOSQ1\")\n",
        "print(SectionBloomsBreakdown)"
      ],
      "metadata": {
        "colab": {
          "base_uri": "https://localhost:8080/"
        },
        "id": "va7ZkxsABlBo",
        "outputId": "31d872a3-d8f0-43b7-c1ea-0b5d9ccb9f76"
      },
      "execution_count": null,
      "outputs": [
        {
          "output_type": "stream",
          "name": "stdout",
          "text": [
            "  Knowledge Application Analysis Comprehension\n",
            "1  47.76667    56.81667     38.3          58.1\n"
          ]
        }
      ]
    },
    {
      "cell_type": "markdown",
      "source": [
        "**TR2 Function #6**"
      ],
      "metadata": {
        "id": "mlmP1QNKCxCR"
      }
    },
    {
      "cell_type": "markdown",
      "source": [
        "TR2_GetSectionQuizRanks Calculates the rank of each student in a particular section who attempted a particular quiz in descending order of their quiz score - used in TR2\n",
        "\n",
        "\n",
        "```\n",
        "Step 1. Finds the quiz scores corresponding to the students in a particular section in a particular quiz\n",
        "Step 2. The scores are arranged in descending order and each student is assigned their row number as their rank\n",
        "Step 3. If more than one student has the same score, their rank should be the same.  Hence, for each student, if their score is the same as that of the student in the previous row, their rank is replaced with the rank of the student in the previous row.\n",
        "Step 4. If any student has a score less than 76, an alert is raised, i.e an '!' is placed next to their score\n",
        "Step 5. A dataframe is returned containing the student's ID, rank, and alert if any\n",
        "\n",
        "```\n",
        "\n"
      ],
      "metadata": {
        "id": "nIuNEZ0lwEId"
      }
    },
    {
      "cell_type": "code",
      "source": [
        "TR2_GetSectionQuizRanks<- function(TotalScore,SectionID,SubjectID,QuizID){\n",
        "\n",
        "  SubjectID<-as.numeric(SubjectID)\n",
        "  UnsortedQuizScores<-TotalScore[which(TotalScore$QuizID==QuizID & TotalScore$SectionID==SectionID & TotalScore$SubjectID==SubjectID),]\n",
        "\n",
        "  QuizScores<-UnsortedQuizScores[order(UnsortedQuizScores$StudentQuizScore,decreasing=TRUE),]\n",
        "  QuizScores$StudentQuizScore<-as.numeric(QuizScores$StudentQuizScore)\n",
        "  StudentIDs<-c(QuizScores$StudentID)\n",
        "  StudentScores<-c(QuizScores$StudentQuizScore)\n",
        "  StudentRanks<-c(1:nrow(QuizScores))\n",
        "\n",
        "  QuizRanks<-data.frame(\"Rank\"=StudentRanks,\"StudentID\"=StudentIDs,\"Score\"=StudentScores)\n",
        "\n",
        "  for (i in 2:nrow(QuizRanks)){\n",
        "    if (QuizRanks$Score[i]==QuizRanks$Score[i-1]){\n",
        "      QuizRanks$Rank[i]=QuizRanks$Rank[i-1]\n",
        "    }\n",
        "  }\n",
        "\n",
        "  for (i in 1:nrow(QuizRanks)){\n",
        "    if (QuizRanks$Score[i]<76){\n",
        "      QuizRanks$Alert[i]<-\"!\"\n",
        "    }\n",
        "    else {\n",
        "      QuizRanks$Alert[i]<-\"\"\n",
        "    }\n",
        "  }\n",
        "\n",
        "\n",
        "  return(QuizRanks)\n",
        "}"
      ],
      "metadata": {
        "id": "xi0eeXk5wIlu"
      },
      "execution_count": null,
      "outputs": []
    },
    {
      "cell_type": "markdown",
      "source": [
        "Test it out"
      ],
      "metadata": {
        "id": "2UJE6KXWC3hz"
      }
    },
    {
      "cell_type": "code",
      "source": [
        "QuizRanks<-TR2_GetSectionQuizRanks(TotalScore,\"3A\",\"1\",\"EOSQ1\")\n",
        "print(QuizRanks)"
      ],
      "metadata": {
        "id": "AsOnCjGHCeqv"
      },
      "execution_count": null,
      "outputs": []
    },
    {
      "cell_type": "markdown",
      "source": [
        "**TR2 Function #7**"
      ],
      "metadata": {
        "id": "MvU8gh0bC4bq"
      }
    },
    {
      "cell_type": "markdown",
      "source": [
        "TR2_SectionPerformances calculates the overall performance of a particular section in a particular quiz - used in TR2\n",
        "\n",
        "\n",
        "```\n",
        "Step 1. Finds the quiz scores corresponding to the students in a particular section in a particular quiz\n",
        "Step 2. Finds the average quiz score for these students in this quiz\n",
        "Step 3. Finds the maximum quiz score of these students in this quiz\n",
        "Step 4. Finds the minimum quiz score of these students in this quiz\n",
        "Step 5. Returns a data frame of the parameter and the corresponding score\n",
        "```\n",
        "\n",
        "\n"
      ],
      "metadata": {
        "id": "RJ41o5IWwMoV"
      }
    },
    {
      "cell_type": "code",
      "source": [
        "TR2_SectionPerformances<-function(TotalScore,SectionID,SubjectID,QuizID){\n",
        "  SubjectID<-as.numeric(SubjectID)\n",
        "  QuizScores<-TotalScore[which(TotalScore$QuizID==QuizID & TotalScore$SectionID==SectionID & TotalScore$SubjectID==SubjectID),]\n",
        "  QuizScores$StudentQuizScore<-as.numeric(QuizScores$StudentQuizScore)\n",
        "  QuizSectionAverage<-mean(QuizScores$StudentQuizScore)\n",
        "  QuizSectionMax<-max(QuizScores$StudentQuizScore)\n",
        "  QuizSectionMin<-min(QuizScores$StudentQuizScore)\n",
        "  SectionStandings<-data.frame(\"Average\"=QuizSectionAverage,\"Maximum\"=QuizSectionMax,\"Minimum\"=QuizSectionMin)\n",
        "  return(SectionStandings)\n",
        "}"
      ],
      "metadata": {
        "id": "R5Ue6rbQwRTE"
      },
      "execution_count": null,
      "outputs": []
    },
    {
      "cell_type": "markdown",
      "source": [
        "Test it out"
      ],
      "metadata": {
        "id": "GTBdsZ6SEwbT"
      }
    },
    {
      "cell_type": "code",
      "source": [
        "SectionPerformance<-TR2_SectionPerformances(TotalScore,\"3A\",\"1\",\"EOSQ1\")\n",
        "print(SectionPerformance)"
      ],
      "metadata": {
        "id": "uDDBkMuKExEU"
      },
      "execution_count": null,
      "outputs": []
    },
    {
      "cell_type": "markdown",
      "source": [
        "#TR3: Teacher - Student Progress Summary"
      ],
      "metadata": {
        "id": "eNZ1HsXJGUqS"
      }
    },
    {
      "cell_type": "markdown",
      "source": [
        "**TR3 Function #1**"
      ],
      "metadata": {
        "id": "1vI3RjNkGdZW"
      }
    },
    {
      "cell_type": "markdown",
      "source": [
        "SR3_PR3_TR3_MonthlyTopicScore Calculates the average monthly score received in each topic of a particular subject by a particular student - used in SR3, PR3, TR3\n",
        "\n",
        "\n",
        "```\n",
        "Step 1. Finds the quiz scores corresponding to the student that have occured in the past month.  \n",
        "- This should ideally be calculated using current date and quiz timestamp but due to a limitation with the mock data, it has been hard coded to include Week5-Week8\n",
        "Step 2. Calculates the average score for each topic from the quizzes taken in the past month\n",
        "Step 3. Returns a data frame of each topic and its corresponding score\n",
        "```\n",
        "\n"
      ],
      "metadata": {
        "id": "d9IXTZo2GdZW"
      }
    },
    {
      "cell_type": "code",
      "source": [
        "SR3_PR3_TR3_MonthlyTopicScore<- function(TotalScore,StudentID,SectionID,SubjectID){\n",
        "\n",
        "  StudentID<-as.numeric(StudentID)\n",
        "  SubjectID<-as.numeric(SubjectID)\n",
        "  QuizScoresAll<-TotalScore[which(TotalScore$StudentID==StudentID & TotalScore$SectionID==SectionID & TotalScore$SubjectID==SubjectID),]\n",
        "  QuizScores<-QuizScoresAll[which(QuizScoresAll$QuizStartTime==\"Week5\"|QuizScoresAll$QuizStartTime==\"Week6\"|QuizScoresAll$QuizStartTime==\"Week7\"|QuizScoresAll$QuizStartTime==\"Week8\"),]\n",
        "\n",
        "  if (nrow(QuizScores)==0){\n",
        "    TopicScores<-\"No Quizzes taken this month\"\n",
        "  }\n",
        "  else {\n",
        "    QuizScores$StudentTopic1Score<-as.numeric(QuizScores$StudentTopic1Score)\n",
        "    QuizScores$StudentTopic2Score<-as.numeric(QuizScores$StudentTopic2Score)\n",
        "    QuizScores$StudentTopic3Score<-as.numeric(QuizScores$StudentTopic3Score)\n",
        "\n",
        "    Topic1Score<-mean(QuizScores$StudentTopic1Score)\n",
        "    Topic2Score<-mean(QuizScores$StudentTopic2Score)\n",
        "    Topic3Score<-mean(QuizScores$StudentTopic3Score)\n",
        "\n",
        "    TopicScores<-data.frame(\"Topic1\"=Topic1Score,\"Topic2\"=Topic2Score,\"Topic3\"=Topic3Score)\n",
        "  }\n",
        "\n",
        "  return(TopicScores)\n",
        "}"
      ],
      "metadata": {
        "id": "c_BjQ5HUGdZW"
      },
      "execution_count": null,
      "outputs": []
    },
    {
      "cell_type": "markdown",
      "source": [
        "Test it out"
      ],
      "metadata": {
        "id": "ttu3E1PfGdZW"
      }
    },
    {
      "cell_type": "code",
      "source": [
        "MonthlyTopicScores<-SR3_PR3_TR3_MonthlyTopicScore(TotalScore,\"20\",\"3A\",\"1\")\n",
        "print(MonthlyTopicScores)"
      ],
      "metadata": {
        "id": "fPAoUHeYGdZW"
      },
      "execution_count": null,
      "outputs": []
    },
    {
      "cell_type": "markdown",
      "source": [
        "**TR3 Function #2**"
      ],
      "metadata": {
        "id": "tJ9DuEZ_GdZW"
      }
    },
    {
      "cell_type": "markdown",
      "source": [
        "SR3_PR3_TR3_SubjectScore Calculates the average score of a particular student in a particular subject - used in SR3, PR3, TR3\n",
        "\n",
        "\n",
        "```\n",
        "Step 1. Finds all of the quiz scores corresponding to the student in a particular subject\n",
        "Step 2. Calculates the average score for this subject from these quizzes\n",
        "Step 3. Returns a data frame of the subject and its corresponding score\n",
        "```\n",
        "\n"
      ],
      "metadata": {
        "id": "xeHbV5xBGdZW"
      }
    },
    {
      "cell_type": "code",
      "source": [
        "SR3_PR3_TR3_SubjectScore<-function(TotalScore,StudentID,SectionID,SubjectID){\n",
        "  StudentID<-as.numeric(StudentID)\n",
        "  UnsortedQuizScores<-TotalScore[which(TotalScore$StudentID==StudentID & TotalScore$SectionID==SectionID & TotalScore$SubjectID==SubjectID),]\n",
        "  SubjectQuizScores<-UnsortedQuizScores[order(UnsortedQuizScores$StudentQuizScore,decreasing=TRUE),]\n",
        "  SubjectQuizScores$StudentQuizScore<-as.numeric(SubjectQuizScores$StudentQuizScore)\n",
        "  AverageSubjectScore<-mean(SubjectQuizScores$StudentQuizScore)\n",
        "  SubjectScore<-data.frame(\"Score\"=AverageSubjectScore)\n",
        "  return(SubjectScore)\n",
        "}"
      ],
      "metadata": {
        "id": "IPQR6H8UGdZW"
      },
      "execution_count": null,
      "outputs": []
    },
    {
      "cell_type": "markdown",
      "source": [
        "Test it out"
      ],
      "metadata": {
        "id": "OUr_KqAFGdZW"
      }
    },
    {
      "cell_type": "code",
      "source": [
        "SubjectScore<-SR3_PR3_TR3_SubjectScore(TotalScore,\"20\",\"3A\",\"1\")\n",
        "print(SubjectScore)"
      ],
      "metadata": {
        "id": "vEtdJPsrGdZW"
      },
      "execution_count": null,
      "outputs": []
    },
    {
      "cell_type": "markdown",
      "source": [
        "**TR3 Function #3**"
      ],
      "metadata": {
        "id": "VZnY7Bx0GdZX"
      }
    },
    {
      "cell_type": "markdown",
      "source": [
        "SR3_PR3_TR3_SubjectMonthlyScore Calculates the average score of a particular student in a particular subject in this month - used in SR3, PR3, TR3\n",
        "\n",
        "\n",
        "```\n",
        "Step 1. Finds all of the quiz scores corresponding to the student in a particular subject that have occured in the past month\n",
        "- This should ideally be calculated using current date and quiz timestamp but due to a limitation with the mock data, it has been hard coded to include Week5-Week8\n",
        "Step 2. Calculates the average score for this subject from these quizzes\n",
        "Step 3. Returns a data frame of the subject and its corresponding score\n",
        "```\n",
        "\n"
      ],
      "metadata": {
        "id": "_pQhmcq5GdZX"
      }
    },
    {
      "cell_type": "code",
      "source": [
        "SR3_PR3_TR3_SubjectMonthlyScore<-function(TotalScore,StudentID,SectionID,SubjectID){\n",
        "  StudentID<-as.numeric(StudentID)\n",
        "  SubjectQuizScores<-TotalScore[which(TotalScore$StudentID==StudentID & TotalScore$SectionID==SectionID & TotalScore$SubjectID==SubjectID),]\n",
        "  RecentQuizScores<-SubjectQuizScores[which(SubjectQuizScores$QuizStartTime==\"Week5\" | SubjectQuizScores$QuizStartTime==\"Week6\" | SubjectQuizScores$QuizStartTime==\"Week7\" | SubjectQuizScores$QuizStartTime==\"Week8\"),]\n",
        "\n",
        "  if (nrow(RecentQuizScores)==0){\n",
        "    SubjectMonthlyScore<-data.frame(\"Score\"=\"No Quizzes taken this month\")\n",
        "  }\n",
        "  else {\n",
        "    RecentQuizScores$StudentQuizScore<-as.numeric(RecentQuizScores$StudentQuizScore)\n",
        "    AverageSubjectScore<-mean(RecentQuizScores$StudentQuizScore)\n",
        "    SubjectMonthlyScore<-data.frame(\"Score\"=AverageSubjectScore)\n",
        "  }\n",
        "\n",
        "  return(SubjectMonthlyScore)\n",
        "}"
      ],
      "metadata": {
        "id": "jrKzta-dGdZX"
      },
      "execution_count": null,
      "outputs": []
    },
    {
      "cell_type": "markdown",
      "source": [
        "Test it out"
      ],
      "metadata": {
        "id": "wXQNh6ARGdZX"
      }
    },
    {
      "cell_type": "code",
      "source": [
        "SubjectMonthlyScore<-SR3_PR3_TR3_SubjectMonthlyScore(TotalScore,\"20\",\"3A\",\"1\")\n",
        "print(SubjectMonthlyScore)"
      ],
      "metadata": {
        "id": "z8buYT-QGdZX"
      },
      "execution_count": null,
      "outputs": []
    },
    {
      "cell_type": "markdown",
      "source": [
        "**TR3 Function #4**"
      ],
      "metadata": {
        "id": "Zhc8Vu1lGdZX"
      }
    },
    {
      "cell_type": "markdown",
      "source": [
        "SR3_PR3_TR3_RecentSubjectQuizScore Displays the quiz scores for the 3 most recent quizzes taken by a particular student in a particular subject - used in SR3, PR3, TR3\n",
        "\n",
        "\n",
        "```\n",
        "Step 1. Finds the Quiz scores corresponding to a student in one particular subject\n",
        "Step 2. Sorts these Quiz scores in descending order of time i.e most recent to least recent\n",
        "Step 3a.  If there are 3 or more quiz scores, the top 3 quizzes and corresponding scores are returned\n",
        "Step 3b.  If there are 2 quiz scores, both quizzes and their corresponding scores are returned\n",
        "Step 3c.  If there is 1 quiz score, the quiz and its corresponding score is returned\n",
        "Step 3d.  If there are 0 quiz scores, \"No recent quizzes\" is returned\n",
        "```\n",
        "\n"
      ],
      "metadata": {
        "id": "elc4AG_LGdZX"
      }
    },
    {
      "cell_type": "code",
      "source": [
        "SR3_PR3_TR3_RecentSubjectQuizScores <- function(TotalScore,StudentID,SectionID,SubjectID){\n",
        "  UnsortedQuizScores<-TotalScore[which(TotalScore$StudentID==StudentID & TotalScore$SectionID==SectionID & TotalScore$SubjectID==SubjectID),]\n",
        "  InitialSortedQuizScores<-UnsortedQuizScores[order(UnsortedQuizScores$StudentQuizScore,decreasing=TRUE),]\n",
        "  QuizScores<-InitialSortedQuizScores[!duplicated(InitialSortedQuizScores$QuizID),]\n",
        "\n",
        "  QuizScoresSorted<-QuizScores[order(QuizScores$QuizEndTime,decreasing=TRUE),]\n",
        "  if (nrow(QuizScoresSorted)>=3){\n",
        "    RecentQuiz1Title<-QuizScoresSorted[1,\"QuizID\"]\n",
        "    RecentQuiz1Score<-QuizScoresSorted[1,\"StudentQuizScore\"]\n",
        "    RecentQuiz2Title<-QuizScoresSorted[2,\"QuizID\"]\n",
        "    RecentQuiz2Score<-QuizScoresSorted[2,\"StudentQuizScore\"]\n",
        "    RecentQuiz3Title<-QuizScoresSorted[3,\"QuizID\"]\n",
        "    RecentQuiz3Score<-QuizScoresSorted[3,\"StudentQuizScore\"]\n",
        "    RecentQuizTitles<-c(RecentQuiz1Title,RecentQuiz2Title,RecentQuiz3Title)\n",
        "    RecentQuizScores<-c(RecentQuiz1Score,RecentQuiz2Score,RecentQuiz3Score)\n",
        "  }\n",
        "  else if(nrow(QuizScoresSorted)==2){\n",
        "    RecentQuiz1Title<-QuizScoresSorted[1,\"QuizID\"]\n",
        "    RecentQuiz1Score<-QuizScoresSorted[1,\"StudentQuizScore\"]\n",
        "    RecentQuiz2Title<-QuizScoresSorted[2,\"QuizID\"]\n",
        "    RecentQuiz2Score<-QuizScoresSorted[2,\"StudentQuizScore\"]\n",
        "    RecentQuizTitles<-c(RecentQuiz1Title,RecentQuiz2Title)\n",
        "    RecentQuizScores<-c(RecentQuiz1Score,RecentQuiz2Score)\n",
        "  }\n",
        "  else if (nrow(QuizScoresSorted)==1){\n",
        "    RecentQuiz1Title<-QuizScoresSorted[1,\"QuizID\"]\n",
        "    RecentQuiz1Score<-QuizScoresSorted[1,\"StudentQuizScore\"]\n",
        "    RecentQuizTitles<-c(RecentQuiz1Title)\n",
        "    RecentQuizScores<-c(RecentQuiz1Score)\n",
        "  }\n",
        "  else if (nrow(QuizScoresSorted)==0){\n",
        "    RecentQuizTitles<-\"No Recent Quizzes\"\n",
        "    RecentQuizScores<-\"No Recent Quizzes\"\n",
        "  }\n",
        "\n",
        "  RecentQuizzes<-data.frame(\"Quiz\"=RecentQuizTitles,\"Score\"=RecentQuizScores)\n",
        "  return(RecentQuizzes)\n",
        "}"
      ],
      "metadata": {
        "id": "wBRqvzLbGdZX"
      },
      "execution_count": null,
      "outputs": []
    },
    {
      "cell_type": "markdown",
      "source": [
        "Test it out"
      ],
      "metadata": {
        "id": "zyYakqwYGdZY"
      }
    },
    {
      "cell_type": "code",
      "source": [
        "RecentQuizScores<-SR3_PR3_TR3_RecentSubjectQuizScores(TotalScore,\"20\",\"3B\",\"1\")\n",
        "print(RecentQuizScores)"
      ],
      "metadata": {
        "id": "BgLKYQGLGdZY"
      },
      "execution_count": null,
      "outputs": []
    },
    {
      "cell_type": "markdown",
      "source": [
        "**TR3 Function #5**"
      ],
      "metadata": {
        "id": "ZAYmYrjwGdZY"
      }
    },
    {
      "cell_type": "markdown",
      "source": [
        "PR3_TR3_StudentSubjectAttendance Displays the minutes of class attended by a particular student for a particular subject - used in PR3, TR3\n",
        "\n",
        "\n",
        "```\n",
        "Step 1. Finds attendance records in a particular subject corresponding to a student\n",
        "Step 2. Sums up the attendance minutes for each week\n",
        "Step 3. Returns a dataframe of the Weeks and the attended minutes per week by the student\n",
        "```\n",
        "\n"
      ],
      "metadata": {
        "id": "0ogATCAsGdZY"
      }
    },
    {
      "cell_type": "code",
      "source": [
        "PR3_TR3_StudentSubjectAttendance<-function(Attendance,StudentID,SectionID,SubjectID){\n",
        "\n",
        "  StudentID<-as.numeric(StudentID)\n",
        "\n",
        "  StudentAttendance<-Attendance[which(Attendance$StudentID==StudentID & Attendance$SectionID==SectionID & Attendance$SubjectID==SubjectID),]\n",
        "\n",
        "  if (nrow(StudentAttendance)==0){\n",
        "    StudentWeeklyAttendance<-data.frame(\"Minutes\"=0)\n",
        "  }\n",
        "  else if (nrow(StudentAttendance)>0){\n",
        "    StudentAttendance$AttendedMinutes<-as.numeric(StudentAttendance$AttendedMinutes)\n",
        "    StudentWeeklyAttendance<-setNames(aggregate(StudentAttendance$AttendedMinutes, by=list(Week=StudentAttendance$ClassStartTime), FUN=sum),c(\"Week\",\"Minutes\"))\n",
        "  }\n",
        "  return(StudentWeeklyAttendance)\n",
        "}"
      ],
      "metadata": {
        "id": "DOLSyawdGdZY"
      },
      "execution_count": null,
      "outputs": []
    },
    {
      "cell_type": "markdown",
      "source": [
        "Test it out"
      ],
      "metadata": {
        "id": "VOc1t5eaGdZY"
      }
    },
    {
      "cell_type": "code",
      "source": [
        "SubjectAttendance<-PR3_TR3_StudentSubjectAttendance(Attendance,\"20\",\"3A\",\"2\")\n",
        "print(SubjectAttendance)"
      ],
      "metadata": {
        "colab": {
          "base_uri": "https://localhost:8080/"
        },
        "outputId": "e30f8431-f3ee-4230-c851-17d1972b479b",
        "id": "1rWiFFzrGdZY"
      },
      "execution_count": null,
      "outputs": [
        {
          "output_type": "stream",
          "name": "stdout",
          "text": [
            "   Week Minutes\n",
            "1 Week1      75\n",
            "2 Week2     100\n",
            "3 Week3      93\n"
          ]
        }
      ]
    },
    {
      "cell_type": "markdown",
      "source": [
        "**TR3 Function #6**"
      ],
      "metadata": {
        "id": "CLppUtc9GdZZ"
      }
    },
    {
      "cell_type": "markdown",
      "source": [
        "PR3_TR3_SubjectScoreProgression is Used to plot the progression of quiz scores of a particular student over time, both for their overall scores and a particular subject score - used in PR3, TR3\n",
        "\n",
        "\n",
        "```\n",
        "Step 1. Finds quiz scores corresponding to a student\n",
        "Step 2. Calls the function (PR2_PR3_TR3_ScoreCount) 2 times which calculates the average quiz score for a student in a particular week\n",
        "a. For all of the quiz scores\n",
        "b. For one specified subject's quiz scores\n",
        "Step 3. Returns the overall average score and average specified subject score corresponding to every week\n",
        "```\n",
        "\n",
        "\n"
      ],
      "metadata": {
        "id": "axPvm9VnGdZZ"
      }
    },
    {
      "cell_type": "code",
      "source": [
        "PR3_TR3_SubjectScoreProgression <- function (TotalScore,StudentID,SectionID,SubjectID) {\n",
        "\n",
        "  StudentID<-as.numeric(StudentID)\n",
        "\n",
        "  QuizScores<-TotalScore[which(TotalScore$StudentID==StudentID & TotalScore$SectionID==SectionID),]\n",
        "\n",
        "  OverallWeeklyScoreList<-PR2_PR3_TR3_ScoreCount(QuizScores)\n",
        "  OverallWeeklyScoreListunname<-unname(OverallWeeklyScoreList)\n",
        "  OverallWeeklyScores<-unlist(OverallWeeklyScoreListunname)\n",
        "\n",
        "  SubjectQuizScores<-QuizScores[which(QuizScores$SubjectID==SubjectID),]\n",
        "  SubjectWeeklyScoreList<-PR2_PR3_TR3_ScoreCount(SubjectQuizScores)\n",
        "  SubjectWeeklyScoreListunname<-unname(SubjectWeeklyScoreList)\n",
        "  SubjectWeeklyScores<-unlist(SubjectWeeklyScoreListunname)\n",
        "\n",
        "\n",
        "  Weeks<-c(\"Week1\",\"Week2\",\"Week3\",\"Week4\",\"Week5\",\"Week6\",\"Week7\",\"Week8\")\n",
        "  WeeklyScores<-data.frame(\"Weeks\"=Weeks,\"Overall\"=OverallWeeklyScores,\"Subject\"=SubjectWeeklyScores)\n",
        "\n",
        "\n",
        "  return(WeeklyScores)\n",
        "}"
      ],
      "metadata": {
        "id": "xMrIzKKQGdZZ"
      },
      "execution_count": null,
      "outputs": []
    },
    {
      "cell_type": "markdown",
      "source": [
        "Test it out"
      ],
      "metadata": {
        "id": "wv1BM456GdZZ"
      }
    },
    {
      "cell_type": "code",
      "source": [
        "SubjectScoreProgression<-PR3_TR3_SubjectScoreProgression(TotalScore,\"20\",\"3A\",\"1\")\n",
        "print(SubjectScoreProgression)"
      ],
      "metadata": {
        "id": "49LHcihpGdZZ"
      },
      "execution_count": null,
      "outputs": []
    },
    {
      "cell_type": "markdown",
      "source": [
        "#TR4: Teacher - Section Progress Summary"
      ],
      "metadata": {
        "id": "Sa_lf4ugkm5g"
      }
    },
    {
      "cell_type": "markdown",
      "source": [
        "**TR4 Function #1**"
      ],
      "metadata": {
        "id": "Liy6ekEkTRzi"
      }
    },
    {
      "cell_type": "markdown",
      "source": [
        "TR4_SectionScoreDistribution is Used to display a histogram of Student Quiz Scores for a particular section in a particular subject- used in TR4\n",
        "\n",
        "\n",
        "```\n",
        "Step 1. Finds quiz scores for the students in a particular section in a particular subject\n",
        "Step 2. Filters these quiz scores to find those that occured in the past month (ideally this should be automated using current date and quiz timestamp but due to a limitation with the mock date, this has been hard coded to include Weeks5-8)\n",
        "Step 3. Finds the number of quiz scores that falls in the range of 0-10,10-20,...90-100 and plots this data in a histogram\n",
        "```\n",
        "\n"
      ],
      "metadata": {
        "id": "pE426lHP1OK3"
      }
    },
    {
      "cell_type": "code",
      "source": [
        "TR4_SectionScoreDistribution<-function (TotalScore,SectionID,SubjectID){\n",
        "  QuizScores<-TotalScore[which(TotalScore$SectionID==SectionID & TotalScore$SubjectID==SubjectID),]\n",
        "  RecentQuizScores<-TotalScore[which(TotalScore$QuizStartTime==\"Week5\" | TotalScore$QuizStartTime==\"Week6\" | TotalScore$QuizStartTime==\"Week7\" | TotalScore$QuizStartTime==\"Week8\"),]\n",
        "  RecentQuizScores$StudentQuizScore<-as.numeric(RecentQuizScores$StudentQuizScore)\n",
        "  hist(RecentQuizScores$StudentQuizScore,xlab=\"Scores\",col=\"#75AADB\",border=\"white\",breaks=5, main=\"Histogram of Monthly Subject Scores\")\n",
        "  return(RecentQuizScores)\n",
        "}"
      ],
      "metadata": {
        "id": "C8MLagt-1Rw3"
      },
      "execution_count": null,
      "outputs": []
    },
    {
      "cell_type": "markdown",
      "source": [
        "Test it out"
      ],
      "metadata": {
        "id": "FuHmOMPsTiAX"
      }
    },
    {
      "cell_type": "code",
      "source": [
        "TR4_SectionScoreDistribution(TotalScore,\"3A\",\"1\")"
      ],
      "metadata": {
        "id": "T5PZre40TjMR"
      },
      "execution_count": null,
      "outputs": []
    },
    {
      "cell_type": "markdown",
      "source": [
        "**TR4 Function #2**"
      ],
      "metadata": {
        "id": "RFdrYQ7pUXZe"
      }
    },
    {
      "cell_type": "markdown",
      "source": [
        "TR4_RecentSectionQuizScores is used to calculate average scores for a particular section in a particular subject in their recent quizzes - used in TR4\n",
        "\n",
        "\n",
        "```\n",
        "Step 1. Finds quiz scores for the students in a particular section in a particular subject\n",
        "Step 2. Finds the week number in which the students took the quizzes\n",
        "Step 3. For each quiz, the week number is averaged out amongst the students and a dataframe is created with the quiz and the average week number\n",
        "Step 4. Arranges this dataframe in descending order and takes the top 3 quizzes i.e the 3 most popularly recent quizzes\n",
        "Step 5. Finds the average score received by the students in this section in these 3 quizzes\n",
        "Step 6. Returns a dataframe of the quiz name and the average score by the students in this section\n",
        "```\n",
        "\n",
        "\n"
      ],
      "metadata": {
        "id": "ukH675iQ1T_G"
      }
    },
    {
      "cell_type": "code",
      "source": [
        "TR4_RecentSectionQuizScores<-function(TotalScore,SectionID,SubjectID){\n",
        "  UnsortedQuizScores<-TotalScore[which(TotalScore$SectionID==SectionID & TotalScore$SubjectID==SubjectID),]\n",
        "  QuizScores<-UnsortedQuizScores[order(UnsortedQuizScores$StudentQuizScore,decreasing=TRUE),]\n",
        "  QuizScoresTimes<-QuizScores\n",
        "  WeekNumbers<-substring(QuizScores$QuizStartTime,5)\n",
        "  QuizScoresTimes$WeekNumber<-WeekNumbers\n",
        "  QuizScoresTimes$WeekNumber<-as.numeric(WeekNumbers)\n",
        "\n",
        "  QuizScoresTimesWeekSummary<-aggregate(QuizScoresTimes$WeekNumber, by=list(Quiz=QuizScoresTimes$QuizID), FUN=mean,na.rm=TRUE)\n",
        "\n",
        "  SortedQuizScoresTimesWeekSummary<-QuizScoresTimesWeekSummary[order(QuizScoresTimesWeekSummary$x,decreasing=TRUE),]\n",
        "\n",
        "  RecentQuizzes<-SortedQuizScoresTimesWeekSummary$Quiz[1:3]\n",
        "  RecentQuizzesScores<-c()\n",
        "\n",
        "  for (i in RecentQuizzes){\n",
        "    SectionQuizScores<-QuizScores[which(QuizScores$QuizID==i),]\n",
        "    SectionQuizScores$StudentQuizScore<-as.numeric(SectionQuizScores$StudentQuizScore)\n",
        "    average<-mean(SectionQuizScores$StudentQuizScore)\n",
        "    RecentQuizzesScores[i]<-average\n",
        "  }\n",
        "\n",
        "  RecentQuiz<-data.frame(\"Quiz\"=RecentQuizzes,\"Score\"=RecentQuizzesScores)\n",
        "\n",
        "  return(RecentQuiz)\n",
        "}"
      ],
      "metadata": {
        "id": "Qpx1zIiv1Yz6"
      },
      "execution_count": null,
      "outputs": []
    },
    {
      "cell_type": "markdown",
      "source": [
        "Test it out"
      ],
      "metadata": {
        "id": "iBiMNHD_XLTw"
      }
    },
    {
      "cell_type": "code",
      "source": [
        "RecentQuizzes<-TR4_RecentSectionQuizScores(TotalScore,\"3A\",\"1\")\n",
        "print(RecentQuizzes)"
      ],
      "metadata": {
        "id": "6976XjSVXMAL"
      },
      "execution_count": null,
      "outputs": []
    },
    {
      "cell_type": "markdown",
      "source": [
        "**TR4 Function #3**"
      ],
      "metadata": {
        "id": "hct2rxTxVDbI"
      }
    },
    {
      "cell_type": "markdown",
      "source": [
        "TR4_SectionSubjectTopicBreakdown is used to calculate average scores for each topic by the students in a particular section in a particular subject - used in TR4\n",
        "\n",
        "\n",
        "```\n",
        "Step 1. Finds the quiz scores corresponding to the students in a particular section in a particular subject\n",
        "Step 2. Finds the average score of the students in every topic included in these quizzes\n",
        "Step 3. Returns a dataframe of the topic and the corresponding average section score in that topic\n",
        "```\n",
        "\n"
      ],
      "metadata": {
        "id": "yArQlS0m1afD"
      }
    },
    {
      "cell_type": "code",
      "source": [
        "TR4_SectionSubjectTopicBreakdown<-function(TotalScore,SectionID,SubjectID){\n",
        "  SubjectID<-as.numeric(SubjectID)\n",
        "  SectionQuizScore<-TotalScore[which(TotalScore$SectionID==SectionID & TotalScore$SubjectID==SubjectID),]\n",
        "  DescSortedQuizScores<-SectionQuizScore[order(SectionQuizScore$StudentQuizScore,decreasing=TRUE),]\n",
        "  QuizScores<-DescSortedQuizScores[!duplicated(DescSortedQuizScores$StudentID),]\n",
        "  QuizScores$StudentTopic1Score<-as.numeric(QuizScores$StudentTopic1Score)\n",
        "  QuizScores$StudentTopic2Score<-as.numeric(QuizScores$StudentTopic2Score)\n",
        "  QuizScores$StudentTopic3Score<-as.numeric(QuizScores$StudentTopic3Score)\n",
        "  SectionTopic1Score<-mean(QuizScores$StudentTopic1Score)\n",
        "  SectionTopic2Score<-mean(QuizScores$StudentTopic2Score)\n",
        "  SectionTopic3Score<-mean(QuizScores$StudentTopic3Score)\n",
        "  SectionTopicBreakdown<-data.frame( \"Topic1\"=SectionTopic1Score,\"Topic2\"=SectionTopic2Score,\"Topic3\"=SectionTopic3Score\n",
        "  )\n",
        "  return (SectionTopicBreakdown)\n",
        "}"
      ],
      "metadata": {
        "id": "znKE58XL1eI5"
      },
      "execution_count": null,
      "outputs": []
    },
    {
      "cell_type": "markdown",
      "source": [
        "Test it out"
      ],
      "metadata": {
        "id": "AVNwjZEwUygC"
      }
    },
    {
      "cell_type": "code",
      "source": [
        "SectionTopicBreakdown<-TR4_SectionSubjectTopicBreakdown(TotalScore,\"3A\",\"1\")\n",
        "print(SectionTopicBreakdown)"
      ],
      "metadata": {
        "colab": {
          "base_uri": "https://localhost:8080/"
        },
        "id": "RORsDsDDUzMg",
        "outputId": "dd15d500-6131-4079-e717-0e11e9833852"
      },
      "execution_count": null,
      "outputs": [
        {
          "output_type": "stream",
          "name": "stdout",
          "text": [
            "  Topic1 Topic2 Topic3\n",
            "1 65.375  47.34 51.025\n"
          ]
        }
      ]
    },
    {
      "cell_type": "markdown",
      "source": [
        "**TR4 Function #4**"
      ],
      "metadata": {
        "id": "mWTWckvhVGa7"
      }
    },
    {
      "cell_type": "markdown",
      "source": [
        "TR4_SectionSubjectRanks ranks the students in a section based on their monthly quiz scores in a particular subject, in descending order - used in TR4\n",
        "\n",
        "\n",
        "```\n",
        "Step 1. Finds the quiz scores corresponding to the students in a particular section in a particular subject\n",
        "Step 2. Filters out these scores to find those that took place in the past month (Ideally this should be calculated using current date and quiz timestamp but due to a limitation with the mock data it has been hardcoded to include Weeks 5-8)\n",
        "Step 3. Calculates the average score for each student in the quizzes in this subject\n",
        "Step 4. The average scores are arranged in descending order and each student is assigned their row number as their rank\n",
        "Step 5. If more than one student has the same score, their rank should be the same.  Hence, for each student, if their score is the same as that of the student in the previous row, their rank is replaced with the rank of the student in the previous row.\n",
        "Step 5. If any student has a score less than 76, an alert is raised, i.e an '!' is placed next to their score\n",
        "Step 6. A dataframe is returned containing the student's ID, rank, and alert if any\n",
        "```\n",
        "\n"
      ],
      "metadata": {
        "id": "NkdMqb9c1gQu"
      }
    },
    {
      "cell_type": "code",
      "source": [
        "TR4_SectionSubjectRanks<- function(TotalScore,SectionID,SubjectID){\n",
        "\n",
        "  SubjectID<-as.numeric(SubjectID)\n",
        "  UnsortedQuizScores<-TotalScore[which(TotalScore$SectionID==SectionID & TotalScore$SubjectID==SubjectID),]\n",
        "  WeeklyUnsortedQuizScores<-UnsortedQuizScores[which(UnsortedQuizScores$QuizStartTime==\"Week5\" | UnsortedQuizScores$QuizStartTime==\"Week6\" | UnsortedQuizScores$QuizStartTime==\"Week7\" | UnsortedQuizScores$QuizStartTime==\"Week8\"),]\n",
        "\n",
        "  WeeklyUnsortedQuizScores$StudentQuizScore<-as.numeric(WeeklyUnsortedQuizScores$StudentQuizScore)\n",
        "  format(round(WeeklyUnsortedQuizScores$StudentQuizScore, 2), nsmall = 2)\n",
        "  AggregateWeeklyUnsorted<-aggregate(WeeklyUnsortedQuizScores$StudentQuizScore,by=list(WeeklyUnsortedQuizScores$StudentID),FUN=mean,na.rm=TRUE)\n",
        "\n",
        "\n",
        "  QuizScores<-AggregateWeeklyUnsorted[order(AggregateWeeklyUnsorted$x,decreasing=TRUE),]\n",
        "  StudentIDs<-c(QuizScores$Group.1)\n",
        "  StudentScores<-c(QuizScores$x)\n",
        "  StudentRanks<-c(1:nrow(QuizScores))\n",
        "\n",
        "  QuizRanks<-data.frame(\"Rank\"=StudentRanks,\"StudentID\"=StudentIDs,\"Score\"=StudentScores)\n",
        "\n",
        "  for (i in 2:nrow(QuizRanks)){\n",
        "    if (QuizRanks$Score[i]==QuizRanks$Score[i-1]){\n",
        "      QuizRanks$Rank[i]=QuizRanks$Rank[i-1]\n",
        "    }\n",
        "  }\n",
        "\n",
        "  for (i in 1:nrow(QuizRanks)){\n",
        "    if (QuizRanks$Score[i]<76){\n",
        "      QuizRanks$Alert[i]<-\"!\"\n",
        "    }\n",
        "    else {\n",
        "      QuizRanks$Alert[i]<-\"\"\n",
        "    }\n",
        "  }\n",
        "\n",
        "  return(QuizRanks)\n",
        "}"
      ],
      "metadata": {
        "id": "_zG4XVNM1gAM"
      },
      "execution_count": null,
      "outputs": []
    },
    {
      "cell_type": "markdown",
      "source": [
        "Test it out"
      ],
      "metadata": {
        "id": "8OFDnCA1X6SW"
      }
    },
    {
      "cell_type": "code",
      "source": [
        "SubjectRanks<-TR4_SectionSubjectRanks(TotalScore,\"3A\",\"1\")\n",
        "print(SubjectRanks)"
      ],
      "metadata": {
        "colab": {
          "base_uri": "https://localhost:8080/"
        },
        "id": "MwOBVAqkX7lO",
        "outputId": "39f1c07d-7def-4ea2-cd08-0bdf25ce14ad"
      },
      "execution_count": null,
      "outputs": [
        {
          "output_type": "stream",
          "name": "stdout",
          "text": [
            "   Rank StudentID    Score Alert\n",
            "1     1        11 90.00000      \n",
            "2     2        13 85.00000      \n",
            "3     2         3 85.00000      \n",
            "4     2         5 85.00000      \n",
            "5     5         6 82.50000      \n",
            "6     6        12 77.50000      \n",
            "7     7        17 76.66667      \n",
            "8     7         7 76.66667      \n",
            "9     9        10 75.00000     !\n",
            "10    9         4 75.00000     !\n",
            "11   11         2 72.50000     !\n",
            "12   12        14 70.00000     !\n",
            "13   12        19 70.00000     !\n",
            "14   14        20 60.00000     !\n"
          ]
        }
      ]
    },
    {
      "cell_type": "markdown",
      "source": [
        "#TR5: Teacher - Teacher Progress Summary"
      ],
      "metadata": {
        "id": "2M8eSPAPzEjW"
      }
    },
    {
      "cell_type": "markdown",
      "source": [
        "**TR5 Function #1**"
      ],
      "metadata": {
        "id": "MCz3TxbyPd5s"
      }
    },
    {
      "cell_type": "markdown",
      "source": [
        "TR5_SectionRankings Ranks each section based on their monthly average quiz scores in a particular subject - used in TR5\n",
        "\n",
        "\n",
        "```\n",
        "Step 1. Finds the quiz scores corresponding to that particular subject\n",
        "Step 2. Filters the quiz scores to include the ones from the past month (ideally this should be automated using current date but this has been hardcoded to include Week 5 - Week8\n",
        "Step 3. Calculates the average score in the past month of all of the students in a section, for each section\n",
        "Step 4. The average section scores are arranged in descending order and each section is assigned their row number as their rank\n",
        "Step 5. If more than one section has the same score, their rank should be the same.  Hence, for each section, if their score is the same as that of the section in the previous row, their rank is replaced with the rank of the student in the previous row.\n",
        "Step 6. If any section has an average score less than 76, an alert is raised, i.e an '!' is placed next to the section\n",
        "Step 7. A dataframe is returned containing the section ID, rank, and alert if any\n",
        "```\n",
        "\n"
      ],
      "metadata": {
        "id": "2Ma1_omZ1lea"
      }
    },
    {
      "cell_type": "code",
      "source": [
        "TR5_SectionRankings<-function(TotalScore,SubjectID){\n",
        "  SubjectID<-as.numeric(SubjectID)\n",
        "  UnsortedQuizScores<-TotalScore[which(TotalScore$SubjectID==SubjectID),]\n",
        "  WeeklyUnsortedQuizScores<-UnsortedQuizScores[which(UnsortedQuizScores$QuizStartTime==\"Week5\" | UnsortedQuizScores$QuizStartTime==\"Week6\" | UnsortedQuizScores$QuizStartTime==\"Week7\" | UnsortedQuizScores$QuizStartTime==\"Week8\"),]\n",
        "\n",
        "  WeeklyUnsortedQuizScores$StudentQuizScore<-as.numeric(WeeklyUnsortedQuizScores$StudentQuizScore)\n",
        "  AggregateWeeklyUnsorted<-aggregate(WeeklyUnsortedQuizScores$StudentQuizScore,by=list(WeeklyUnsortedQuizScores$SectionID),FUN=mean,na.rm=TRUE)\n",
        "\n",
        "  QuizScores<-AggregateWeeklyUnsorted[order(AggregateWeeklyUnsorted$x,decreasing=TRUE),]\n",
        "\n",
        "  SectionIDs<-c(QuizScores$Group.1)\n",
        "  SectionScores<-c(QuizScores$x)\n",
        "  SectionRanks<-c(1:nrow(QuizScores))\n",
        "\n",
        "\n",
        "  QuizRanks<-data.frame(\"Rank\"=SectionRanks,\"SectionID\"=SectionIDs,\"Score\"=SectionScores)\n",
        "\n",
        "  for (i in 2:nrow(QuizRanks)){\n",
        "    if (QuizRanks$Score[i]==QuizRanks$Score[i-1]){\n",
        "      QuizRanks$Rank[i]=QuizRanks$Rank[i-1]\n",
        "    }\n",
        "  }\n",
        "\n",
        "  for (i in 1:nrow(QuizRanks)){\n",
        "    if (QuizRanks$Score[i]<76){\n",
        "      QuizRanks$Alert[i]<-\"!\"\n",
        "    }\n",
        "    else {\n",
        "      QuizRanks$Alert[i]<-\"\"\n",
        "    }\n",
        "  }\n",
        "\n",
        "  return(QuizRanks)\n",
        "\n",
        "}"
      ],
      "metadata": {
        "id": "RxnB34Ua1pBp"
      },
      "execution_count": null,
      "outputs": []
    },
    {
      "cell_type": "markdown",
      "source": [
        "Test it out"
      ],
      "metadata": {
        "id": "ARRR3WLqPije"
      }
    },
    {
      "cell_type": "code",
      "source": [
        "SectionRanks<-TR5_SectionRankings(TotalScore,\"1\")\n",
        "print(SectionRanks)"
      ],
      "metadata": {
        "id": "qaJefMs7PlCD"
      },
      "execution_count": null,
      "outputs": []
    },
    {
      "cell_type": "markdown",
      "source": [
        "**TR5 Function #2**"
      ],
      "metadata": {
        "id": "oX0Wq3U2P0s7"
      }
    },
    {
      "cell_type": "markdown",
      "source": [
        "TR5_SectionTimeSpent Ranks each section based on their monthly time spent learning a particular subject - used in TR5\n",
        "\n",
        "\n",
        "```\n",
        "Step 1. Finds the learning session records corresponding to that particular subject\n",
        "Step 2 (Ideal but has not been done). Filters the learning sessions to include the ones from the past month -ideally this should be automated using current date but due to a limitation in the mock data, all of the data i.e Week 1 - Week 4 is being taken\n",
        "Step 3. Calculates the total time spent learning in the past month of all of the students in a section, for each section\n",
        "Step 4. The section wise total time spent learning is arranged in descending order and each section is assigned their row number as their rank\n",
        "Step 5. If more than one section has the same total, their rank should be the same.  Hence, for each section, if their total is the same as that of the section in the previous row, their rank is replaced with the rank of the student in the previous row.\n",
        "Step 6. A dataframe is returned containing the section ID and total time spent learning\n",
        "```\n",
        "\n"
      ],
      "metadata": {
        "id": "IT-zzJQj1rCn"
      }
    },
    {
      "cell_type": "code",
      "source": [
        "TR5_SectionTimeSpent<-function(LearningSessions,SubjectID){\n",
        "  SubjectID<-\"1\"\n",
        "  SectionLearningSessions<-LearningSessions[which(LearningSessions$SubjectID==SubjectID),]\n",
        "\n",
        "  AggregateWeeklyUnsorted<-aggregate(SectionLearningSessions$Minutes,by=list(SectionLearningSessions$SectionID),FUN=sum)\n",
        "  SectionTimeSpent<-AggregateWeeklyUnsorted[order(AggregateWeeklyUnsorted$x,decreasing=TRUE),]\n",
        "  SectionTimeSpent$Group.1\n",
        "  SectionIDs<-SectionTimeSpent$Group.1\n",
        "  SectionTime<-c(SectionTimeSpent$x)\n",
        "  SectionRanks<-c(1:nrow(SectionTimeSpent))\n",
        "  SectionAlert<-c()\n",
        "\n",
        "  TimeSpent<-data.frame(\"Rank\"=SectionRanks,\"SectionID\"=SectionIDs,\"Minutes\"=SectionTime)\n",
        "\n",
        "  for (i in 2:nrow(TimeSpent)){\n",
        "    if (TimeSpent$Minutes[i]==TimeSpent$Minutes[i-1]){\n",
        "      TimeSpent$Rank[i]=TimeSpent$Rank[i-1]\n",
        "    }\n",
        "  }\n",
        "\n",
        "  return(TimeSpent)\n",
        "}"
      ],
      "metadata": {
        "id": "czW7plit1uJS"
      },
      "execution_count": null,
      "outputs": []
    },
    {
      "cell_type": "markdown",
      "source": [
        "Test it out"
      ],
      "metadata": {
        "id": "skvnVXaQP6wI"
      }
    },
    {
      "cell_type": "code",
      "source": [
        "TimeSpent<-TR5_SectionTimeSpent(LearningSessions,\"1\")\n",
        "print(TimeSpent)"
      ],
      "metadata": {
        "id": "uOjCwsXkP-nG"
      },
      "execution_count": null,
      "outputs": []
    },
    {
      "cell_type": "markdown",
      "source": [
        "# Shiny GUI"
      ],
      "metadata": {
        "id": "WIrvNx1G10z3"
      }
    },
    {
      "cell_type": "markdown",
      "source": [
        "Shiny UI code"
      ],
      "metadata": {
        "id": "HGmwwfSA2F9U"
      }
    },
    {
      "cell_type": "code",
      "source": [
        "ui <- fluidPage(\n",
        "  sidebarPanel(\n",
        "    selectInput(\"StakeholderType\", \"Stakeholder Type\",c(Select=\"blankStakeholder\",Student=\"student\",Parent=\"parent\",Teacher=\"teacher\")),\n",
        "  conditionalPanel(\n",
        "    condition=\"input.StakeholderType=='student'\",\n",
        "    selectInput(\n",
        "      \"StudentReportType\",\"Report Type\",\n",
        "      c(Select=\"blankStudentReport\",QuizSummary=\"SR1\",GeneralProgress=\"SR2\",SubjectProgress=\"SR3\")\n",
        "    )\n",
        "  ),\n",
        "  conditionalPanel(\n",
        "    condition=\"input.StakeholderType=='parent'\",\n",
        "    selectInput(\n",
        "      \"ParentReportType\",\"Report Type\",\n",
        "      c(Select=\"blankParentReport\",QuizSummary=\"PR1\",GeneralProgress=\"PR2\",SubjectProgress=\"PR3\")\n",
        "    )\n",
        "  ),\n",
        "  conditionalPanel(\n",
        "    condition=\"input.StakeholderType=='teacher'\",\n",
        "    selectInput(\n",
        "      \"TeacherReportType\",\"Report Type\",\n",
        "      c(Select=\"blankTeacherReport\",StudentQuizSummary=\"TR1\",SectionQuizSummary=\"TR2\",StudentProgress=\"TR3\",SectionProgress=\"TR4\",TeacherProgress=\"TR5\")\n",
        "    )\n",
        "  ),\n",
        "  conditionalPanel(\n",
        "    condition=\"input.StudentReportType=='SR1'\",\n",
        "    selectInput(\n",
        "      \"SR1SectionID\",\"SectionID\",\n",
        "      c(SectionIDs)\n",
        "    ),\n",
        "    textInput(\"SR1StudentID\", label = h5(\"Student ID Number\"), value = \"\"),\n",
        "    radioButtons(\"SR1Subject\", h5(\"Subject\"),\n",
        "                 choices = list(\"Mathematics\" = 1, \"Science\" = 2,\n",
        "                                \"English\" = 3),selected = 0),\n",
        "    selectInput(\n",
        "      \"SR1QuizID\",\"Quiz Taken\",\n",
        "       c(), selected=NULL\n",
        "      ),\n",
        "    actionButton(\"SR1go\", \"View Report\")\n",
        "  ),\n",
        "  conditionalPanel(\n",
        "    condition=\"input.StudentReportType=='SR2'\",\n",
        "    selectInput(\n",
        "      \"SR2SectionID\",\"SectionID\",\n",
        "      c(SectionIDs)\n",
        "    ),\n",
        "    textInput(\"SR2StudentID\", label = h5(\"Student ID Number\"), value = \"\"),\n",
        "    actionButton(\"SR2go\", \"View Report\")\n",
        "  ),\n",
        "  conditionalPanel(\n",
        "    condition=\"input.StudentReportType=='SR3'\",\n",
        "    selectInput(\n",
        "      \"SR3SectionID\",\"SectionID\",\n",
        "      c(SectionIDs)\n",
        "    ),\n",
        "    textInput(\"SR3StudentID\", label = h5(\"Student ID Number\"), value = \"\"),\n",
        "    radioButtons(\"SR3Subject\", h5(\"Subject\"),\n",
        "                 choices = list(\"Mathematics\" = 1, \"Science\" = 2,\n",
        "                                \"English\" = 3),selected = 0),\n",
        "    actionButton(\"SR3go\", \"View Report\")\n",
        "  ),\n",
        "  conditionalPanel(\n",
        "    condition=\"input.ParentReportType=='PR1'\",\n",
        "    selectInput(\n",
        "      \"PR1SectionID\",\"SectionID\",\n",
        "      c(SectionIDs)\n",
        "    ),\n",
        "    textInput(\"PR1StudentID\", label = h5(\"Student ID Number\"), value = \"\"),\n",
        "    radioButtons(\"PR1Subject\", h5(\"Subject\"),\n",
        "                 choices = list(\"Mathematics\" = 1, \"Science\" = 2,\n",
        "                                \"English\" = 3),selected = NULL),\n",
        "    selectInput(\n",
        "      \"PR1QuizID\",\"Quiz Taken\",\n",
        "      c(), selected=NULL\n",
        "    ),\n",
        "    actionButton(\"PR1go\", \"View Report\")\n",
        "  ),\n",
        "  conditionalPanel(\n",
        "    condition=\"input.ParentReportType=='PR2'\",\n",
        "    selectInput(\n",
        "      \"PR2SectionID\",\"SectionID\",\n",
        "      c(SectionIDs)\n",
        "    ),\n",
        "    textInput(\"PR2StudentID\", label = h5(\"Student ID Number\"), value = \"\"),\n",
        "    actionButton(\"PR2go\", \"View Report\")\n",
        "  ),\n",
        "  conditionalPanel(\n",
        "    condition=\"input.ParentReportType=='PR3'\",\n",
        "    selectInput(\n",
        "      \"PR3SectionID\",\"SectionID\",\n",
        "      c(SectionIDs)\n",
        "    ),\n",
        "    textInput(\"PR3StudentID\", label = h5(\"Student ID Number\"), value = \"\"),\n",
        "    radioButtons(\"PR3Subject\", h5(\"Subject\"),\n",
        "                 choices = list(\"Mathematics\" = 1, \"Science\" = 2,\n",
        "                                \"English\" = 3),selected = 0),\n",
        "    actionButton(\"PR3go\", \"View Report\")\n",
        "  ),\n",
        "  conditionalPanel(\n",
        "    condition=\"input.TeacherReportType=='TR1'\",\n",
        "    textInput(\"TR1TeacherID\", label = h5(\"Teacher ID Number\"), value = \"\"),\n",
        "    selectInput(\n",
        "      \"TR1SectionID\",\"SectionID\",\n",
        "      c(SectionIDs)\n",
        "    ),\n",
        "    textInput(\"TR1StudentID\", label = h5(\"Student ID Number\"), value = \"\"),\n",
        "    radioButtons(\"TR1Subject\", h5(\"Subject\"),\n",
        "                 choices = list(\"Mathematics\" = 1, \"Science\" = 2,\n",
        "                                \"English\" = 3),selected = 0),\n",
        "    selectInput(\n",
        "      \"TR1QuizID\",\"Quiz Taken\",\n",
        "      c(), selected=NULL\n",
        "    ),\n",
        "    actionButton(\"TR1go\", \"View Report\")\n",
        "  ),\n",
        "  conditionalPanel(\n",
        "    condition=\"input.TeacherReportType=='TR2'\",\n",
        "    textInput(\"TR2TeacherID\", label = h5(\"Teacher ID Number\"), value = \"\"),\n",
        "    selectInput(\n",
        "      \"TR2SectionID\",\"SectionID\",\n",
        "      c(SectionIDs)\n",
        "    ),\n",
        "    radioButtons(\"TR2Subject\", h5(\"Subject\"),\n",
        "                 choices = list(\"Mathematics\" = 1, \"Science\" = 2,\n",
        "                                \"English\" = 3),selected = 0),\n",
        "    selectInput(\n",
        "      \"TR2QuizID\",\"Quiz Taken\",\n",
        "      c(), selected=NULL\n",
        "    ),\n",
        "    actionButton(\"TR2go\", \"View Report\")\n",
        "  ),\n",
        "  conditionalPanel(\n",
        "    condition=\"input.TeacherReportType=='TR3'\",\n",
        "    selectInput(\n",
        "      \"TR3SectionID\",\"SectionID\",\n",
        "      c(SectionIDs)\n",
        "    ),\n",
        "    textInput(\"TR3StudentID\", label = h5(\"Student ID Number\"), value = \"\"),\n",
        "    radioButtons(\"TR3Subject\", h5(\"Subject\"),\n",
        "                 choices = list(\"Mathematics\" = 1, \"Science\" = 2,\n",
        "                                \"English\" = 3),selected = 0),\n",
        "    actionButton(\"TR3go\", \"View Report\")\n",
        "  ),\n",
        "  conditionalPanel(\n",
        "    condition=\"input.TeacherReportType=='TR4'\",\n",
        "    textInput(\"TR4TeacherID\", label = h5(\"Teacher ID Number\"), value = \"\"),\n",
        "    selectInput(\n",
        "      \"TR4SectionID\",\"SectionID\",\n",
        "      c(SectionIDs)\n",
        "    ),\n",
        "    radioButtons(\"TR4Subject\", h5(\"Subject\"),\n",
        "                 choices = list(\"Mathematics\" = 1, \"Science\" = 2,\n",
        "                                \"English\" = 3),selected = 0),\n",
        "    actionButton(\"TR4go\", \"View Report\")\n",
        "  ),\n",
        "  conditionalPanel(\n",
        "    condition=\"input.TeacherReportType=='TR5'\",\n",
        "    textInput(\"TR5TeacherID\", label = h5(\"Teacher ID Number\"), value = \"\"),\n",
        "    radioButtons(\"TR5Subject\", h5(\"Subject\"),\n",
        "                 choices = list(\"Mathematics\" = 1, \"Science\" = 2,\n",
        "                                \"English\" = 3),selected = 0),\n",
        "    actionButton(\"TR5go\", \"View Report\")\n",
        "  )\n",
        "  ),\n",
        "  mainPanel(\n",
        "    conditionalPanel(\n",
        "      condition=\"input.StudentReportType=='SR1'\",\n",
        "      textOutput('SR1Title'),\n",
        "      tableOutput('SR1StudentQuizScore'),\n",
        "      textOutput('SR1AnswerText'),\n",
        "      tableOutput('SR1StudentAnswerBreakdown'),\n",
        "      textOutput('SR1TopicsText'),\n",
        "      tableOutput('SR1TopicBreakdown')\n",
        "    ),\n",
        "    conditionalPanel(\n",
        "      condition=\"input.ParentReportType=='PR1'\",\n",
        "      textOutput('PR1Title'),\n",
        "      tableOutput('PR1StudentQuizScore'),\n",
        "      textOutput('PR1AnswerText'),\n",
        "      tableOutput('PR1StudentAnswerBreakdown'),\n",
        "      textOutput('PR1TopicsText'),\n",
        "      tableOutput('PR1TopicBreakdown'),\n",
        "      textOutput('PR1DifficultyText'),\n",
        "      tableOutput('PR1DifficultyBreakdown'),\n",
        "      textOutput('PR1QuestionTypeText'),\n",
        "      tableOutput('PR1BloomsBreakdown')\n",
        "    ),\n",
        "    conditionalPanel(\n",
        "      condition=\"input.TeacherReportType=='TR1'\",\n",
        "      textOutput('TR1Title'),\n",
        "      tableOutput('TR1StudentQuizScore'),\n",
        "      textOutput('TR1StudentStandingsText'),\n",
        "      tableOutput('TR1StudentStandings'),\n",
        "      textOutput('TR1AnswerText'),\n",
        "      tableOutput('TR1StudentAnswerBreakdown'),\n",
        "      textOutput('TR1TopicsText'),\n",
        "      tableOutput('TR1TopicBreakdown'),\n",
        "      textOutput('TR1DifficultyText'),\n",
        "      tableOutput('TR1DifficultyBreakdown'),\n",
        "      textOutput('TR1QuestionTypeText'),\n",
        "      tableOutput('TR1BloomsBreakdown')\n",
        "    ),\n",
        "    conditionalPanel(\n",
        "      condition=\"input.StudentReportType=='SR2'\",\n",
        "      textOutput('SR2Title'),\n",
        "      textOutput('SR2TimeSpentText'),\n",
        "      plotOutput('SR2TimeSpentLearning'),\n",
        "      textOutput('SR2MyProgressText'),\n",
        "      tableOutput('SR2SubjectWiseProgress'),\n",
        "      textOutput('SR2GoodTopicsText'),\n",
        "      tableOutput('SR2GoodTopicsList'),\n",
        "      textOutput('SR2BadTopicsText'),\n",
        "      tableOutput('SR2BadTopicsList')\n",
        "    ),\n",
        "    conditionalPanel(\n",
        "      condition=\"input.ParentReportType=='PR2'\",\n",
        "      textOutput('PR2Title'),\n",
        "      textOutput('PR2AttendanceText'),\n",
        "      plotOutput('PR2Attendance'),\n",
        "      textOutput('PR2TimeSpentText'),\n",
        "      plotOutput(outputId=\"PR2TimeSpentLearning\"),\n",
        "      textOutput('PR2MyProgressText'),\n",
        "      plotOutput(outputId='PR2SubjectWiseProgressPlot'),\n",
        "      tableOutput('PR2SubjectWiseProgress'),\n",
        "      textOutput('PR2GoodTopicsText'),\n",
        "      tableOutput('PR2GoodTopicsList'),\n",
        "      textOutput('PR2BadTopicsText'),\n",
        "      tableOutput('PR2BadTopicsList')\n",
        "    ),\n",
        "    conditionalPanel(\n",
        "      condition=\"input.TeacherReportType=='TR2'\",\n",
        "      textOutput('TR2Title'),\n",
        "      textOutput('TR2ScoreStatsText'),\n",
        "      tableOutput('TR2SectionStandings'),\n",
        "      textOutput('TR2ScoreDistributionText'),\n",
        "      plotOutput(outputId=\"TR2StudentQuizScorePlot\"),\n",
        "      textOutput('TR2AverageDifficultyScoreText'),\n",
        "      tableOutput('TR2SectionDifficultyScores'),\n",
        "      textOutput('TR2AverageBloomsScoreText'),\n",
        "      tableOutput('TR2SectionBloomsScores'),\n",
        "      textOutput('TR2AverageTopicScoreText'),\n",
        "      tableOutput('TR2SectionTopicScores'),\n",
        "      textOutput('TR2QuizRanksText'),\n",
        "      tableOutput('TR2SectionQuizRanks')\n",
        "    ),\n",
        "    conditionalPanel(\n",
        "      condition=\"input.StudentReportType=='SR3'\",\n",
        "      textOutput('SR3Title'),\n",
        "      textOutput('SR3AverageMonthlyScoreText'),\n",
        "      tableOutput('SR3AverageSubjectMonthlyScore'),\n",
        "      textOutput('SR3AverageScoreText'),\n",
        "      tableOutput('SR3AverageSubjectScore'),\n",
        "      textOutput('SR3TimeSpentText'),\n",
        "      plotOutput('SR3SubjectTimeSpentLearning'),\n",
        "      textOutput('SR3RecentQuizText'),\n",
        "      tableOutput('SR3RecentQuizScores'),\n",
        "      textOutput('SR3TopicsText'),\n",
        "      tableOutput('SR3MonthlyTopicsList')\n",
        "    ),\n",
        "    conditionalPanel(\n",
        "      condition=\"input.ParentReportType=='PR3'\",\n",
        "      textOutput('PR3AverageMonthlyScoreText'),\n",
        "      tableOutput('PR3AverageSubjectMonthlyScore'),\n",
        "      textOutput('PR3AverageScoreText'),\n",
        "      tableOutput('PR3AverageSubjectScore'),\n",
        "      textOutput('PR3ProgressionText'),\n",
        "      plotOutput('PR3Progression'),\n",
        "      textOutput('PR3AttendanceText'),\n",
        "      plotOutput('PR3Attendance'),\n",
        "      textOutput('PR3TimeSpentText'),\n",
        "      plotOutput('PR3SubjectTimeSpentLearning'),\n",
        "      textOutput('PR3RecentQuizText'),\n",
        "      tableOutput('PR3RecentQuizScores'),\n",
        "      textOutput('PR3TopicsText'),\n",
        "      tableOutput('PR3MonthlyTopicsList')\n",
        "    ),\n",
        "    conditionalPanel(\n",
        "      condition=\"input.TeacherReportType=='TR3'\",\n",
        "      textOutput('TR3AverageMonthlyScoreText'),\n",
        "      tableOutput('TR3AverageSubjectMonthlyScore'),\n",
        "      textOutput('TR3AverageScoreText'),\n",
        "      tableOutput('TR3AverageSubjectScore'),\n",
        "      textOutput('TR3ProgressionText'),\n",
        "      plotOutput('TR3Progression'),\n",
        "      textOutput('TR3AttendanceText'),\n",
        "      plotOutput('TR3Attendance'),\n",
        "      textOutput('TR3TimeSpentText'),\n",
        "      plotOutput('TR3SubjectTimeSpentLearning'),\n",
        "      textOutput('TR3RecentQuizText'),\n",
        "      tableOutput('TR3RecentQuizScores'),\n",
        "      textOutput('TR3TopicsText'),\n",
        "      tableOutput('TR3MonthlyTopicsList')\n",
        "    ),\n",
        "    conditionalPanel(\n",
        "      condition=\"input.TeacherReportType=='TR4'\",\n",
        "      textOutput('TR4Title'),\n",
        "      textOutput('TR4ScoreDistributionText'),\n",
        "      plotOutput('TR4ScoreDistributionHist'),\n",
        "      textOutput('TR4RecentQuizzesText'),\n",
        "      tableOutput('TR4RecentQuizzes'),\n",
        "      textOutput('TR4SectionTopicScoresText'),\n",
        "      tableOutput('TR4SectionTopicScores'),\n",
        "      textOutput('TR4MonthlyRankingsText'),\n",
        "      tableOutput('TR4MonthlyRankings')\n",
        "    ),\n",
        "    conditionalPanel(\n",
        "      condition=\"input.TeacherReportType=='TR5'\",\n",
        "      textOutput('TR5Title'),\n",
        "      textOutput('TR5SectionAverageText'),\n",
        "      tableOutput('TR5SectionRankings'),\n",
        "      textOutput('TR5TimeSpentLearningText'),\n",
        "      tableOutput('TR5TimeSpentLearning')\n",
        "    )\n",
        "  )\n",
        ")"
      ],
      "metadata": {
        "id": "Xceg7EoF1_Sd"
      },
      "execution_count": null,
      "outputs": []
    },
    {
      "cell_type": "markdown",
      "source": [
        "Shiny Server code"
      ],
      "metadata": {
        "id": "GC9fD1t42KMJ"
      }
    },
    {
      "cell_type": "code",
      "source": [
        "server <- function(input, output, session) {\n",
        "  observe({\n",
        "\n",
        "    SR1Length<-length(input$SR1Subject)\n",
        "    PR1Length<-length(input$PR1Subject)\n",
        "    TR1Length<-length(input$TR1Subject)\n",
        "    TR2Length<-length(input$TR2Subject)\n",
        "\n",
        "    if (is.null(SR1Length)==FALSE) {\n",
        "    Quizzes<-SR1_PR1_TR1_GetStudentQuizList(TotalScore,input$SR1StudentID,input$SR1SectionID,input$SR1Subject)\n",
        "    c(Quizzes)\n",
        "\n",
        "    updateSelectInput(session,\"SR1QuizID\",\n",
        "                     choices=Quizzes,selected=NULL)}\n",
        "\n",
        "\n",
        "    if (is.null(PR1Length)==FALSE) {\n",
        "      Quizzes<-SR1_PR1_TR1_GetStudentQuizList(TotalScore,input$PR1StudentID,input$PR1SectionID,input$PR1Subject)\n",
        "      c(Quizzes)\n",
        "\n",
        "      updateSelectInput(session,\"PR1QuizID\",\n",
        "                        choices=Quizzes,selected=NULL)}\n",
        "\n",
        "    if (is.null(TR1Length)==FALSE) {\n",
        "      Quizzes<-SR1_PR1_TR1_GetStudentQuizList(TotalScore,input$TR1StudentID,input$TR1SectionID,input$TR1Subject)\n",
        "      c(Quizzes)\n",
        "\n",
        "      updateSelectInput(session,\"TR1QuizID\",\n",
        "                        choices=Quizzes,selected=NULL)}\n",
        "\n",
        "    if (is.null(TR2Length)==FALSE){\n",
        "      Quizzes<-TR2_SectionQuizList(TotalScore,input$TR2SectionID,input$TR2Subject)\n",
        "      c(Quizzes)\n",
        "\n",
        "      updateSelectInput(session,\"TR2QuizID\",\n",
        "                        choices=Quizzes,selected=NULL)}\n",
        "\n",
        "    observeEvent(input$SR1go,{\n",
        "\n",
        "      output$SR1Title<-renderText(\"Your Quiz Results\")\n",
        "\n",
        "      StudentQuizScore<-SR1_PR1_TR1_StudentQuizScore(TotalScore,input$SR1StudentID,input$SR1SectionID,input$SR1Subject,input$SR1QuizID)\n",
        "      output$SR1StudentQuizScore<-renderTable(StudentQuizScore)\n",
        "\n",
        "      output$SR1AnswerText<-renderText(\"Questions\")\n",
        "\n",
        "      StudentAnswerBreakdown<-SR1_PR1_TR1_StudentAnswerBreakdown(TotalScore,input$SR1StudentID,input$SR1SectionID,input$SR1Subject,input$SR1QuizID)\n",
        "      output$SR1StudentAnswerBreakdown<-renderTable(StudentAnswerBreakdown)\n",
        "\n",
        "      output$SR1TopicsText<-renderText(\"Scores in each Topic\")\n",
        "\n",
        "      StudentTopicBreakdown<-SR1_PR1_TR1_StudentTopicBreakdown(TotalScore,input$SR1StudentID,input$SR1SectionID,input$SR1Subject,input$SR1QuizID)\n",
        "      output$SR1TopicBreakdown<-renderTable(StudentTopicBreakdown)\n",
        "     })\n",
        "\n",
        "    observeEvent(input$PR1go,{\n",
        "\n",
        "      output$PR1Title<-renderText(\"Student's Quiz Results\")\n",
        "\n",
        "      StudentQuizScore<-SR1_PR1_TR1_StudentQuizScore(TotalScore,input$PR1StudentID,input$PR1SectionID,input$PR1Subject,input$PR1QuizID)\n",
        "      output$PR1StudentQuizScore<-renderTable(StudentQuizScore)\n",
        "\n",
        "      output$PR1AnswerText<-renderText(\"Questions\")\n",
        "\n",
        "      StudentAnswerBreakdown<-SR1_PR1_TR1_StudentAnswerBreakdown(TotalScore,input$PR1StudentID,input$PR1SectionID,input$PR1Subject,input$PR1QuizID)\n",
        "      output$PR1StudentAnswerBreakdown<-renderTable(StudentAnswerBreakdown)\n",
        "\n",
        "      output$PR1TopicsText<-renderText(\"Scores in each Topic\")\n",
        "\n",
        "      StudentTopicBreakdown<-SR1_PR1_TR1_StudentTopicBreakdown(TotalScore,input$PR1StudentID,input$PR1SectionID,input$PR1Subject,input$PR1QuizID)\n",
        "      output$PR1TopicBreakdown<-renderTable(StudentTopicBreakdown)\n",
        "\n",
        "      output$PR1DifficultyText<-renderText(\"Difficulty of Questions\")\n",
        "\n",
        "      StudentDifficultyBreakdown<-PR1_TR1_StudentDifficultyBreakdown(TotalScore,input$PR1StudentID,input$PR1SectionID,input$PR1Subject,input$PR1QuizID)\n",
        "      output$PR1DifficultyBreakdown<-renderTable(StudentDifficultyBreakdown)\n",
        "\n",
        "      output$PR1QuestionTypeText<-renderText(\"Types of Questions\")\n",
        "\n",
        "      StudentBloomsBreakdown<-PR1_TR1_StudentBloomsBreakdown(TotalScore,input$PR1StudentID,input$PR1SectionID,input$PR1Subject,input$PR1QuizID)\n",
        "      output$PR1BloomsBreakdown<-renderTable(StudentBloomsBreakdown)\n",
        "    })\n",
        "\n",
        "    observeEvent(input$TR1go,{\n",
        "\n",
        "      output$TR1Title<-renderText(\"Student's Quiz Results\")\n",
        "\n",
        "      StudentQuizScore<-SR1_PR1_TR1_StudentQuizScore(TotalScore,input$TR1StudentID,input$TR1SectionID,input$TR1Subject,input$TR1QuizID)\n",
        "      output$TR1StudentQuizScore<-renderTable(StudentQuizScore)\n",
        "\n",
        "      output$TR1StudentStandingsText<-renderText(\"Section Performance\")\n",
        "\n",
        "      StudentStandings<-TR1_StudentQuizRank(TotalScore,input$TR1StudentID,input$TR1SectionID,input$TR1Subject,input$TR1QuizID)\n",
        "      output$TR1StudentStandings<-renderTable(StudentStandings)\n",
        "\n",
        "      output$TR1AnswerText<-renderText(\"Questions\")\n",
        "\n",
        "      StudentAnswerBreakdown<-SR1_PR1_TR1_StudentAnswerBreakdown(TotalScore,input$TR1StudentID,input$TR1SectionID,input$TR1Subject,input$TR1QuizID)\n",
        "      output$TR1StudentAnswerBreakdown<-renderTable(StudentAnswerBreakdown)\n",
        "\n",
        "      output$TR1TopicsText<-renderText(\"Scores in each Topic\")\n",
        "\n",
        "      StudentTopicBreakdown<-SR1_PR1_TR1_StudentTopicBreakdown(TotalScore,input$TR1StudentID,input$TR1SectionID,input$TR1Subject,input$TR1QuizID)\n",
        "      output$TR1TopicBreakdown<-renderTable(StudentTopicBreakdown)\n",
        "\n",
        "      output$TR1DifficultyText<-renderText(\"Difficulty of Questions\")\n",
        "\n",
        "      StudentDifficultyBreakdown<-PR1_TR1_StudentDifficultyBreakdown(TotalScore,input$TR1StudentID,input$TR1SectionID,input$TR1Subject,input$TR1QuizID)\n",
        "      output$TR1DifficultyBreakdown<-renderTable(StudentDifficultyBreakdown)\n",
        "\n",
        "      output$TR1QuestionTypeText<-renderText(\"Types of Questions\")\n",
        "\n",
        "      StudentBloomsBreakdown<-PR1_TR1_StudentBloomsBreakdown(TotalScore,input$TR1StudentID,input$TR1SectionID,input$TR1Subject,input$TR1QuizID)\n",
        "      output$TR1BloomsBreakdown<-renderTable(StudentBloomsBreakdown)\n",
        "\n",
        "    })\n",
        "\n",
        "    observeEvent(input$SR2go,{\n",
        "\n",
        "      output$SR2Title<-renderText(\"My General Progress Report\")\n",
        "\n",
        "      output$SR2TimeSpentText<-renderText(\"Time Spent Learning\")\n",
        "\n",
        "      output$SR2TimeSpentLearning<-renderPlot ({\n",
        "        TimeSpentLearning<-SR2_PR2_StudentTotalTimeSpentLearning(LearningSessions,input$SR2StudentID,input$SR2SectionID)\n",
        "        #output$PR2TimeSpentLearning<-renderTable(TimeSpentLearning)\n",
        "\n",
        "        Weeks<-c(TimeSpentLearning$Week)\n",
        "        Minutes<-c(TimeSpentLearning$Minutes)\n",
        "\n",
        "        barplot(Minutes,names.arg=Weeks,xlab=\"Week\",ylab=\"Minutes\",col=\"blue\", main=\"Time Spent Learning\", border=\"White\")\n",
        "      })\n",
        "\n",
        "      output$SR2MyProgressText<-renderText(\"My progress so far\")\n",
        "\n",
        "      SubjectWiseProgressList<-SR2_PR2_SubjectWiseProgress(TotalScore,input$SR2StudentID,input$SR2SectionID)\n",
        "      output$SR2SubjectWiseProgress<-renderTable(SubjectWiseProgressList)\n",
        "\n",
        "      output$SR2GoodTopicsText<-renderText(\"What did I score well in?\")\n",
        "\n",
        "      GoodTopicsList<-SR2_PR2_GoodTopics(TotalScore,input$SR2StudentID,input$SR2SectionID)\n",
        "      output$SR2GoodTopicsList<-renderTable(GoodTopicsList)\n",
        "\n",
        "      output$SR2BadTopicsText<-renderText(\"What can I improve in?\")\n",
        "\n",
        "      BadTopicsList<-SR2_PR2_BadTopics(TotalScore,input$SR2StudentID,input$SR2SectionID)\n",
        "      output$SR2BadTopicsList<-renderTable(BadTopicsList)\n",
        "\n",
        "       })\n",
        "\n",
        "    observeEvent(input$PR2go,{\n",
        "\n",
        "      output$PR2Title<-renderText(\"Student's General Progress Report\")\n",
        "      output$PR2AttendanceText<-renderText(\"Attendance\")\n",
        "\n",
        "      output$PR2Attendance<-renderPlot({\n",
        "        WeeklyAttendance<-PR2_StudentAttendance(Attendance,input$PR2StudentID,input$PR2SectionID)\n",
        "        Weeks<-c(WeeklyAttendance$Week)\n",
        "        Minutes<-c(WeeklyAttendance$Minutes)\n",
        "\n",
        "        barplot(Minutes,names.arg=Weeks,xlab=\"Week\",ylab=\"Minutes\",col=\"blue\", main=\"Attendance\", border=\"White\")\n",
        "      })\n",
        "\n",
        "\n",
        "      output$PR2TimeSpentText<-renderText(\"Time Spent Learning\")\n",
        "\n",
        "      output$PR2TimeSpentLearning<-renderPlot ({\n",
        "        TimeSpentLearning<-SR2_PR2_StudentTotalTimeSpentLearning(LearningSessions,input$PR2StudentID,input$PR2SectionID)\n",
        "\n",
        "        Weeks<-c(TimeSpentLearning$Week)\n",
        "        Minutes<-c(TimeSpentLearning$Minutes)\n",
        "\n",
        "        barplot(Minutes,names.arg=Weeks,xlab=\"Week\",ylab=\"Minutes\",col=\"blue\", main=\"Time Spent Learning\", border=\"White\")\n",
        "      })\n",
        "\n",
        "      output$PR2MyProgressText<-renderText(\"Student's Progress\")\n",
        "\n",
        "      output$PR2SubjectWiseProgressPlot<-renderPlot({\n",
        "        WeeklyScores<-PR2_ScoreProgression (TotalScore,input$PR2StudentID,input$PR2SectionID)\n",
        "\n",
        "        OverallScore<-c(WeeklyScores$Overall)\n",
        "        MathScore<-c(WeeklyScores$Math)\n",
        "        EnglishScore<-c(WeeklyScores$English)\n",
        "        ScienceScore<-c(WeeklyScores$Science)\n",
        "\n",
        "        plot(OverallScore,type = \"o\",col = \"cadetblue\", xlab = \"Week\", ylab = \"AverageScore\",\n",
        "             main = \"AverageScoreGraph\",ylim=c(0,100))\n",
        "        lines(MathScore, type = \"o\", col = \"darkred\")\n",
        "        lines(EnglishScore, type = \"o\", col = \"darkorange\")\n",
        "        lines(ScienceScore, type = \"o\", col = \"darkslateblue\")\n",
        "\n",
        "        legend(\"bottomright\", legend=c(\"Overall\", \"Math\",\"English\",\"Science\"),\n",
        "               fill = c(\"cadetblue\",\"darkred\",\"darkorange\",\"darkslateblue\",cex=0.5))\n",
        "\n",
        "      })\n",
        "\n",
        "      SubjectWiseProgressList<-SR2_PR2_SubjectWiseProgress(TotalScore,input$PR2StudentID,input$PR2SectionID)\n",
        "      output$PR2SubjectWiseProgress<-renderTable(SubjectWiseProgressList)\n",
        "\n",
        "      output$PR2GoodTopicsText<-renderText(\"What did the student score well in?\")\n",
        "\n",
        "      GoodTopicsList<-SR2_PR2_GoodTopics(TotalScore,input$PR2StudentID,input$PR2SectionID)\n",
        "      output$PR2GoodTopicsList<-renderTable(GoodTopicsList)\n",
        "\n",
        "      output$PR2BadTopicsText<-renderText(\"What did the student improve in?\")\n",
        "\n",
        "      BadTopicsList<-SR2_PR2_BadTopics(TotalScore,input$PR2StudentID,input$PR2SectionID)\n",
        "      output$PR2BadTopicsList<-renderTable(BadTopicsList)\n",
        "\n",
        "    })\n",
        "\n",
        "    observeEvent(input$TR2go,{\n",
        "\n",
        "      output$TR2Title<-renderText(\"Section Quiz Summary\")\n",
        "\n",
        "      output$TR2ScoreStatsText<-renderText(\"Quiz Score Statistics\")\n",
        "      SectionStandings<-TR2_SectionPerformances(TotalScore,input$TR2SectionID,input$TR2Subject,input$TR2QuizID)\n",
        "      output$TR2SectionStandings<-renderTable(SectionStandings)\n",
        "\n",
        "      output$TR2ScoreDistributionText<-renderText(\"Score Distribution\")\n",
        "\n",
        "      output$TR2StudentQuizScorePlot<-renderPlot({\n",
        "        QuizScores<-TR2_HistogramQuiz(TotalScore,input$TR2QuizID,input$TR2SectionID,input$TR2Subject)\n",
        "        QuizScores$StudentQuizScore<-as.numeric(QuizScores$StudentQuizScore)\n",
        "        hist(QuizScores$StudentQuizScore,xlab=\"Quiz Scores\",col=\"#75AADB\",border=\"white\",breaks=5, main=\"Histogram of Quiz Scores\")\n",
        "      })\n",
        "\n",
        "      output$TR2AverageDifficultyScoreText<-renderText(\"Average Question Difficulty-wise Scores\")\n",
        "\n",
        "      SectionDifficultyScores<-TR2_SectionDifficultyBreakdown(TotalScore,input$TR2SectionID,input$TR2Subject,input$TR2QuizID)\n",
        "      output$TR2SectionDifficultyScores<-renderTable(SectionDifficultyScores)\n",
        "\n",
        "      output$TR2AverageBloomsScoreText<-renderText(\"Average Question Type-wise Scores\")\n",
        "\n",
        "      SectionBloomsScores<-TR2_SectionBloomsBreakdown(TotalScore,input$TR2SectionID,input$TR2Subject,input$TR2QuizID)\n",
        "      output$TR2SectionBloomsScores<-renderTable(SectionBloomsScores)\n",
        "\n",
        "      output$TR2AverageTopicScoreText<-renderText(\"Average Topic-wise Scores\")\n",
        "\n",
        "      SectionTopicScores<-TR2_SectionTopicBreakdown(TotalScore,input$TR2SectionID,input$TR2Subject,input$TR2QuizID)\n",
        "      output$TR2SectionTopicScores<-renderTable(SectionTopicScores)\n",
        "\n",
        "      output$TR2QuizRanksText<-renderText(\"Student Rankings\")\n",
        "\n",
        "      SectionQuizRanks<-TR2_GetSectionQuizRanks(TotalScore,input$TR2SectionID,input$TR2Subject,input$TR2QuizID)\n",
        "      output$TR2SectionQuizRanks<-renderTable(SectionQuizRanks)\n",
        "\n",
        "    })\n",
        "\n",
        "    observeEvent(input$SR3go,{\n",
        "\n",
        "      output$SR3Title<-renderText(\"My Subject Progress Report\")\n",
        "\n",
        "      output$SR3AverageMonthlyScoreText<-renderText(\"What is my Average Score this month?\")\n",
        "\n",
        "      AverageSubjectMonthlyScore<-SR3_PR3_TR3_SubjectMonthlyScore(TotalScore,input$SR3StudentID,input$SR3SectionID,input$SR3Subject)\n",
        "      output$SR3AverageSubjectMonthlyScore<-renderTable(AverageSubjectMonthlyScore)\n",
        "\n",
        "      output$SR3AverageScoreText<-renderText(\"What is my Average Score overall?\")\n",
        "\n",
        "      AverageSubjectScore<-SR3_PR3_TR3_SubjectScore(TotalScore,input$SR3StudentID,input$SR3SectionID,input$SR3Subject)\n",
        "      output$SR3AverageSubjectScore<-renderTable(AverageSubjectScore)\n",
        "\n",
        "      output$SR3TimeSpentText<-renderText(\"Time Spent Learning\")\n",
        "\n",
        "      output$SR3SubjectTimeSpentLearning<-renderPlot ({\n",
        "        TimeSpentLearning<-SR3_PR3_TR3_StudentSubjectTimeSpentLearning(LearningSessions,input$SR3StudentID,input$SR3SectionID,input$SR3Subject)\n",
        "\n",
        "        Weeks<-c(TimeSpentLearning$Week)\n",
        "        Minutes<-c(TimeSpentLearning$Minutes)\n",
        "\n",
        "        barplot(Minutes,names.arg=Weeks,xlab=\"Week\",ylab=\"Minutes\",col=\"blue\", main=\"Time Spent Learning\", border=\"White\")\n",
        "      })\n",
        "\n",
        "\n",
        "      output$SR3RecentQuizText<- renderText(\"Recent Quiz Scores\")\n",
        "\n",
        "      RecentQuizScores<-SR3_PR3_TR3_RecentSubjectQuizScores(TotalScore,input$SR3StudentID,input$SR3SectionID,input$SR3Subject)\n",
        "      output$SR3RecentQuizScores<-renderTable(RecentQuizScores)\n",
        "\n",
        "      output$SR3TopicsText<-renderText(\"How have I done in each topic?\")\n",
        "\n",
        "      MonthlyTopicsList<-SR3_PR3_TR3_MonthlyTopicScore(TotalScore,input$SR3StudentID,input$SR3SectionID,input$SR3Subject)\n",
        "      output$SR3MonthlyTopicsList<-renderTable(MonthlyTopicsList)\n",
        "\n",
        "\n",
        "    })\n",
        "\n",
        "    observeEvent(input$PR3go,{\n",
        "\n",
        "      output$PR3AverageMonthlyScoreText<-renderText(\"What is the Student's Average Score this month?\")\n",
        "\n",
        "      AverageSubjectMonthlyScore<-SR3_PR3_TR3_SubjectMonthlyScore(TotalScore,input$PR3StudentID,input$PR3SectionID,input$PR3Subject)\n",
        "      output$PR3AverageSubjectMonthlyScore<-renderTable(AverageSubjectMonthlyScore)\n",
        "\n",
        "      output$PR3AverageScoreText<-renderText(\"What is the Student's Average Score overall?\")\n",
        "\n",
        "      AverageSubjectScore<-SR3_PR3_TR3_SubjectScore(TotalScore,input$PR3StudentID,input$PR3SectionID,input$PR3Subject)\n",
        "      output$PR3AverageSubjectScore<-renderTable(AverageSubjectScore)\n",
        "\n",
        "      output$PR3ProgressionText<-renderText(\"What is the Student's progress\")\n",
        "\n",
        "      output$PR3Progression<- renderPlot({\n",
        "        WeeklyScores<-PR3_TR3_SubjectScoreProgression (TotalScore,input$PR3StudentID,input$PR3SectionID,input$PR3Subject)\n",
        "\n",
        "        OverallScore<-c(WeeklyScores$Overall)\n",
        "        SubjectScore<-c(WeeklyScores$Subject)\n",
        "\n",
        "        plot(OverallScore,type = \"o\",col = \"cadetblue\", xlab = \"Week\", ylab = \"AverageScore\",\n",
        "             main = \"AverageScoreGraph\",ylim=c(0,100))\n",
        "        lines(SubjectScore, type = \"o\", col = \"darkred\")\n",
        "\n",
        "        legend(\"bottomright\", legend=c(\"Overall\", \"Subject\"),\n",
        "               fill = c(\"cadetblue\",\"darkred\",cex=0.5))\n",
        "      })\n",
        "\n",
        "      output$PR3AttendanceText<-renderText(\"Attendance\")\n",
        "\n",
        "      output$PR3Attendance<-renderPlot ({\n",
        "        WeeklySubjectAttendance<-PR3_TR3_StudentSubjectAttendance(Attendance,input$PR3StudentID,input$PR3SectionID,input$PR3Subject)\n",
        "\n",
        "        Weeks<-c(WeeklySubjectAttendance$Week)\n",
        "        Minutes<-c(WeeklySubjectAttendance$Minutes)\n",
        "\n",
        "        barplot(Minutes,names.arg=Weeks,xlab=\"Week\",ylab=\"Minutes\",col=\"blue\", main=\"Attendance\", border=\"White\")\n",
        "      })\n",
        "\n",
        "      output$PR3TimeSpentText<-renderText(\"Time Spent Learning\")\n",
        "\n",
        "      output$PR3SubjectTimeSpentLearning<-renderPlot ({\n",
        "        TimeSpentLearning<-SR3_PR3_TR3_StudentSubjectTimeSpentLearning(LearningSessions,input$PR3StudentID,input$PR3SectionID,input$PR3Subject)\n",
        "\n",
        "        Weeks<-c(TimeSpentLearning$Week)\n",
        "        Minutes<-c(TimeSpentLearning$Minutes)\n",
        "\n",
        "        barplot(Minutes,names.arg=Weeks,xlab=\"Week\",ylab=\"Minutes\",col=\"blue\", main=\"Time Spent Learning\", border=\"White\")\n",
        "      })\n",
        "\n",
        "      output$PR3RecentQuizText<- renderText(\"Recent Quiz Scores\")\n",
        "\n",
        "      RecentQuizScores<-SR3_PR3_TR3_RecentSubjectQuizScores(TotalScore,input$PR3StudentID,input$PR3SectionID,input$PR3Subject)\n",
        "      output$PR3RecentQuizScores<-renderTable(RecentQuizScores)\n",
        "\n",
        "      output$PR3TopicsText<-renderText(\"How has the student done in each topic?\")\n",
        "\n",
        "      MonthlyTopicsList<-SR3_PR3_TR3_MonthlyTopicScore(TotalScore,input$PR3StudentID,input$PR3SectionID,input$PR3Subject)\n",
        "      output$PR3MonthlyTopicsList<-renderTable(MonthlyTopicsList)\n",
        "\n",
        "\n",
        "    })\n",
        "\n",
        "    observeEvent(input$TR3go,{\n",
        "\n",
        "      output$TR3AverageMonthlyScoreText<-renderText(\"What is the Student's Average Score this month?\")\n",
        "\n",
        "      AverageSubjectMonthlyScore<-SR3_PR3_TR3_SubjectMonthlyScore(TotalScore,input$TR3StudentID,input$TR3SectionID,input$TR3Subject)\n",
        "      output$TR3AverageSubjectMonthlyScore<-renderTable(AverageSubjectMonthlyScore)\n",
        "\n",
        "      output$TR3AverageScoreText<-renderText(\"What is the Student's Average Score overall?\")\n",
        "\n",
        "      AverageSubjectScore<-SR3_PR3_TR3_SubjectScore(TotalScore,input$TR3StudentID,input$TR3SectionID,input$TR3Subject)\n",
        "      output$TR3AverageSubjectScore<-renderTable(AverageSubjectScore)\n",
        "\n",
        "      output$TR3ProgressionText<-renderText(\"What is the Student's progress\")\n",
        "\n",
        "      output$TR3Progression<- renderPlot({\n",
        "        WeeklyScores<-PR3_TR3_SubjectScoreProgression (TotalScore,input$TR3StudentID,input$TR3SectionID,input$TR3Subject)\n",
        "\n",
        "        OverallScore<-c(WeeklyScores$Overall)\n",
        "        SubjectScore<-c(WeeklyScores$Subject)\n",
        "\n",
        "        plot(OverallScore,type = \"o\",col = \"cadetblue\", xlab = \"Week\", ylab = \"AverageScore\",\n",
        "             main = \"AverageScoreGraph\",ylim=c(0,100))\n",
        "        lines(SubjectScore, type = \"o\", col = \"darkred\")\n",
        "\n",
        "        legend(\"bottomright\", legend=c(\"Overall\", \"Subject\"),\n",
        "               fill = c(\"cadetblue\",\"darkred\",cex=0.5))\n",
        "      })\n",
        "\n",
        "\n",
        "      output$TR3AttendanceText<-renderText(\"Attendance\")\n",
        "\n",
        "      output$TR3Attendance<-renderPlot ({\n",
        "        WeeklySubjectAttendance<-PR3_TR3_StudentSubjectAttendance(Attendance,input$TR3StudentID,input$TR3SectionID,input$TR3Subject)\n",
        "\n",
        "        Weeks<-c(WeeklySubjectAttendance$Week)\n",
        "        Minutes<-c(WeeklySubjectAttendance$Minutes)\n",
        "\n",
        "        barplot(Minutes,names.arg=Weeks,xlab=\"Week\",ylab=\"Minutes\",col=\"blue\", main=\"Attendance\", border=\"White\")\n",
        "      })\n",
        "\n",
        "\n",
        "      output$TR3TimeSpentText<-renderText(\"Time Spent Learning\")\n",
        "\n",
        "      output$TR3SubjectTimeSpentLearning<-renderPlot ({\n",
        "        TimeSpentLearning<-SR3_PR3_TR3_StudentSubjectTimeSpentLearning(LearningSessions,input$TR3StudentID,input$TR3SectionID,input$TR3Subject)\n",
        "\n",
        "        Weeks<-c(TimeSpentLearning$Week)\n",
        "        Minutes<-c(TimeSpentLearning$Minutes)\n",
        "\n",
        "        barplot(Minutes,names.arg=Weeks,xlab=\"Week\",ylab=\"Minutes\",col=\"blue\", main=\"Time Spent Learning\", border=\"White\")\n",
        "      })\n",
        "\n",
        "      output$TR3RecentQuizText<- renderText(\"Recent Quiz Scores\")\n",
        "\n",
        "      RecentQuizScores<-SR3_PR3_TR3_RecentSubjectQuizScores(TotalScore,input$TR3StudentID,input$TR3SectionID,input$TR3Subject)\n",
        "      output$TR3RecentQuizScores<-renderTable(RecentQuizScores)\n",
        "\n",
        "      output$TR3TopicsText<-renderText(\"How has the student done in each topic?\")\n",
        "\n",
        "      MonthlyTopicsList<-SR3_PR3_TR3_MonthlyTopicScore(TotalScore,input$TR3StudentID,input$TR3SectionID,input$TR3Subject)\n",
        "      output$TR3MonthlyTopicsList<-renderTable(MonthlyTopicsList)\n",
        "\n",
        "    })\n",
        "\n",
        "    observeEvent(input$TR4go,{\n",
        "\n",
        "      output$TR4Title<-renderText(\"Section Progress Report\")\n",
        "\n",
        "      output$TR4ScoreDistributionText <-renderText(\"Score Distribution for this month\")\n",
        "\n",
        "      output$TR4ScoreDistributionHist <- renderPlot ({\n",
        "\n",
        "        RecentQuizScores<-TR4_SectionScoreDistribution(TotalScore,input$TR4SectionID,input$TR4Subject)\n",
        "        RecentQuizScores$StudentQuizScore<-as.numeric(RecentQuizScores$StudentQuizScore)\n",
        "        hist(RecentQuizScores$StudentQuizScore,xlab=\"Scores\",col=\"#75AADB\",border=\"white\",breaks=5, main=\"Histogram of Monthly Subject Scores\")\n",
        "\n",
        "      })\n",
        "      output$TR4RecentQuizzesText<-renderText(\"Recent Quizzes\")\n",
        "\n",
        "      RecentQuizScores<- TR4_RecentSectionQuizScores(TotalScore,input$TR4SectionID,input$TR4Subject)\n",
        "      output$TR4RecentQuizzes<- renderTable(RecentQuizScores)\n",
        "\n",
        "      output$TR4SectionTopicScoresText<-renderText(\"Topic-wise Scores\")\n",
        "\n",
        "      TopicScores<-TR4_SectionSubjectTopicBreakdown(TotalScore,input$TR4SectionID,input$TR4Subject)\n",
        "      output$TR4SectionTopicScores<-renderTable(TopicScores)\n",
        "\n",
        "      output$TR4MonthlyRankingsText<-renderText(\"Student Rankings this month\")\n",
        "\n",
        "      RankingTable<-TR4_SectionSubjectRanks(TotalScore,input$TR4SectionID,input$TR4Subject)\n",
        "      output$TR4MonthlyRankings<-renderTable(RankingTable)\n",
        "    })\n",
        "\n",
        "    observeEvent(input$TR5go,{\n",
        "      output$TR5Title<-renderText(\"Summary for the Teacher\")\n",
        "\n",
        "      output$TR5SectionAverageText<-renderText(\"Performance of your sections this month\")\n",
        "\n",
        "      SectionScores<-TR5_SectionRankings(TotalScore,input$TR5Subject)\n",
        "      output$TR5SectionRankings<-renderTable(SectionScores)\n",
        "\n",
        "      output$TR5TimeSpentLearningText<-renderText(\"Average Time Spent Learning this month\")\n",
        "\n",
        "      SectionTimeSpent<-TR5_SectionTimeSpent(LearningSessions,input$TR5Subject)\n",
        "      output$TR5TimeSpentLearning<-renderTable(SectionTimeSpent)\n",
        "    })\n",
        "  })\n",
        "\n",
        "}"
      ],
      "metadata": {
        "id": "BjN6xhTV2Obn"
      },
      "execution_count": null,
      "outputs": []
    },
    {
      "cell_type": "markdown",
      "source": [
        "Compile Shiny GUI\n",
        "\n",
        "```\n",
        "# shinyApp(ui, server)\n",
        "```\n",
        "\n"
      ],
      "metadata": {
        "id": "uwerHKQ82Xbx"
      }
    }
  ]
}